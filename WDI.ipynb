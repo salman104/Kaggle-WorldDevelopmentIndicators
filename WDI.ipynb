{
 "cells": [
  {
   "cell_type": "markdown",
   "metadata": {},
   "source": [
    "# The Relationship Between Economic Growth and Development and Education Quality"
   ]
  },
  {
   "cell_type": "markdown",
   "metadata": {},
   "source": [
    "### 1. Introduction and Set-Up"
   ]
  },
  {
   "cell_type": "markdown",
   "metadata": {},
   "source": [
    "To start off, we are importing a few libraries and packages to assist with data manipulation and visualisation. "
   ]
  },
  {
   "cell_type": "code",
   "execution_count": 1,
   "metadata": {},
   "outputs": [
    {
     "data": {
      "text/html": [
       "\n",
       "    <div class=\"bk-root\">\n",
       "        <a href=\"http://bokeh.pydata.org\" target=\"_blank\" class=\"bk-logo bk-logo-small bk-logo-notebook\"></a>\n",
       "        <span id=\"231a3182-274b-4839-a3e5-18d811991e86\">Loading BokehJS ...</span>\n",
       "    </div>"
      ]
     },
     "metadata": {},
     "output_type": "display_data"
    },
    {
     "data": {
      "application/javascript": [
       "\n",
       "(function(global) {\n",
       "  function now() {\n",
       "    return new Date();\n",
       "  }\n",
       "\n",
       "  var force = true;\n",
       "\n",
       "  if (typeof (window._bokeh_onload_callbacks) === \"undefined\" || force === true) {\n",
       "    window._bokeh_onload_callbacks = [];\n",
       "    window._bokeh_is_loading = undefined;\n",
       "  }\n",
       "\n",
       "\n",
       "  \n",
       "  if (typeof (window._bokeh_timeout) === \"undefined\" || force === true) {\n",
       "    window._bokeh_timeout = Date.now() + 5000;\n",
       "    window._bokeh_failed_load = false;\n",
       "  }\n",
       "\n",
       "  var NB_LOAD_WARNING = {'data': {'text/html':\n",
       "     \"<div style='background-color: #fdd'>\\n\"+\n",
       "     \"<p>\\n\"+\n",
       "     \"BokehJS does not appear to have successfully loaded. If loading BokehJS from CDN, this \\n\"+\n",
       "     \"may be due to a slow or bad network connection. Possible fixes:\\n\"+\n",
       "     \"</p>\\n\"+\n",
       "     \"<ul>\\n\"+\n",
       "     \"<li>re-rerun `output_notebook()` to attempt to load from CDN again, or</li>\\n\"+\n",
       "     \"<li>use INLINE resources instead, as so:</li>\\n\"+\n",
       "     \"</ul>\\n\"+\n",
       "     \"<code>\\n\"+\n",
       "     \"from bokeh.resources import INLINE\\n\"+\n",
       "     \"output_notebook(resources=INLINE)\\n\"+\n",
       "     \"</code>\\n\"+\n",
       "     \"</div>\"}};\n",
       "\n",
       "  function display_loaded() {\n",
       "    if (window.Bokeh !== undefined) {\n",
       "      var el = document.getElementById(\"231a3182-274b-4839-a3e5-18d811991e86\");\n",
       "      el.textContent = \"BokehJS \" + Bokeh.version + \" successfully loaded.\";\n",
       "    } else if (Date.now() < window._bokeh_timeout) {\n",
       "      setTimeout(display_loaded, 100)\n",
       "    }\n",
       "  }\n",
       "\n",
       "  function run_callbacks() {\n",
       "    window._bokeh_onload_callbacks.forEach(function(callback) { callback() });\n",
       "    delete window._bokeh_onload_callbacks\n",
       "    console.info(\"Bokeh: all callbacks have finished\");\n",
       "  }\n",
       "\n",
       "  function load_libs(js_urls, callback) {\n",
       "    window._bokeh_onload_callbacks.push(callback);\n",
       "    if (window._bokeh_is_loading > 0) {\n",
       "      console.log(\"Bokeh: BokehJS is being loaded, scheduling callback at\", now());\n",
       "      return null;\n",
       "    }\n",
       "    if (js_urls == null || js_urls.length === 0) {\n",
       "      run_callbacks();\n",
       "      return null;\n",
       "    }\n",
       "    console.log(\"Bokeh: BokehJS not loaded, scheduling load and callback at\", now());\n",
       "    window._bokeh_is_loading = js_urls.length;\n",
       "    for (var i = 0; i < js_urls.length; i++) {\n",
       "      var url = js_urls[i];\n",
       "      var s = document.createElement('script');\n",
       "      s.src = url;\n",
       "      s.async = false;\n",
       "      s.onreadystatechange = s.onload = function() {\n",
       "        window._bokeh_is_loading--;\n",
       "        if (window._bokeh_is_loading === 0) {\n",
       "          console.log(\"Bokeh: all BokehJS libraries loaded\");\n",
       "          run_callbacks()\n",
       "        }\n",
       "      };\n",
       "      s.onerror = function() {\n",
       "        console.warn(\"failed to load library \" + url);\n",
       "      };\n",
       "      console.log(\"Bokeh: injecting script tag for BokehJS library: \", url);\n",
       "      document.getElementsByTagName(\"head\")[0].appendChild(s);\n",
       "    }\n",
       "  };var element = document.getElementById(\"231a3182-274b-4839-a3e5-18d811991e86\");\n",
       "  if (element == null) {\n",
       "    console.log(\"Bokeh: ERROR: autoload.js configured with elementid '231a3182-274b-4839-a3e5-18d811991e86' but no matching script tag was found. \")\n",
       "    return false;\n",
       "  }\n",
       "\n",
       "  var js_urls = [\"https://cdn.pydata.org/bokeh/release/bokeh-0.12.5.min.js\", \"https://cdn.pydata.org/bokeh/release/bokeh-widgets-0.12.5.min.js\"];\n",
       "\n",
       "  var inline_js = [\n",
       "    function(Bokeh) {\n",
       "      Bokeh.set_log_level(\"info\");\n",
       "    },\n",
       "    \n",
       "    function(Bokeh) {\n",
       "      \n",
       "    },\n",
       "    \n",
       "    function(Bokeh) {\n",
       "      \n",
       "      document.getElementById(\"231a3182-274b-4839-a3e5-18d811991e86\").textContent = \"BokehJS is loading...\";\n",
       "    },\n",
       "    function(Bokeh) {\n",
       "      console.log(\"Bokeh: injecting CSS: https://cdn.pydata.org/bokeh/release/bokeh-0.12.5.min.css\");\n",
       "      Bokeh.embed.inject_css(\"https://cdn.pydata.org/bokeh/release/bokeh-0.12.5.min.css\");\n",
       "      console.log(\"Bokeh: injecting CSS: https://cdn.pydata.org/bokeh/release/bokeh-widgets-0.12.5.min.css\");\n",
       "      Bokeh.embed.inject_css(\"https://cdn.pydata.org/bokeh/release/bokeh-widgets-0.12.5.min.css\");\n",
       "    }\n",
       "  ];\n",
       "\n",
       "  function run_inline_js() {\n",
       "    \n",
       "    if ((window.Bokeh !== undefined) || (force === true)) {\n",
       "      for (var i = 0; i < inline_js.length; i++) {\n",
       "        inline_js[i](window.Bokeh);\n",
       "      }if (force === true) {\n",
       "        display_loaded();\n",
       "      }} else if (Date.now() < window._bokeh_timeout) {\n",
       "      setTimeout(run_inline_js, 100);\n",
       "    } else if (!window._bokeh_failed_load) {\n",
       "      console.log(\"Bokeh: BokehJS failed to load within specified timeout.\");\n",
       "      window._bokeh_failed_load = true;\n",
       "    } else if (force !== true) {\n",
       "      var cell = $(document.getElementById(\"231a3182-274b-4839-a3e5-18d811991e86\")).parents('.cell').data().cell;\n",
       "      cell.output_area.append_execute_result(NB_LOAD_WARNING)\n",
       "    }\n",
       "\n",
       "  }\n",
       "\n",
       "  if (window._bokeh_is_loading === 0) {\n",
       "    console.log(\"Bokeh: BokehJS loaded, going straight to plotting\");\n",
       "    run_inline_js();\n",
       "  } else {\n",
       "    load_libs(js_urls, function() {\n",
       "      console.log(\"Bokeh: BokehJS plotting callback run at\", now());\n",
       "      run_inline_js();\n",
       "    });\n",
       "  }\n",
       "}(this));"
      ]
     },
     "metadata": {},
     "output_type": "display_data"
    },
    {
     "data": {
      "text/html": [
       "<script>requirejs.config({paths: { 'plotly': ['https://cdn.plot.ly/plotly-latest.min']},});if(!window.Plotly) {{require(['plotly'],function(plotly) {window.Plotly=plotly;});}}</script>"
      ],
      "text/vnd.plotly.v1+html": [
       "<script>requirejs.config({paths: { 'plotly': ['https://cdn.plot.ly/plotly-latest.min']},});if(!window.Plotly) {{require(['plotly'],function(plotly) {window.Plotly=plotly;});}}</script>"
      ]
     },
     "metadata": {},
     "output_type": "display_data"
    }
   ],
   "source": [
    "import pandas as pd\n",
    "import numpy as np\n",
    "import matplotlib.pyplot as plt\n",
    "import seaborn as sns\n",
    "%matplotlib inline\n",
    "import sqlite3\n",
    "import os\n",
    "from bokeh.plotting import figure, show\n",
    "from bokeh.io import output_notebook\n",
    "output_notebook()\n",
    "%matplotlib inline\n",
    "import plotly.offline as py\n",
    "py.init_notebook_mode(connected=True)\n",
    "import plotly.graph_objs as go\n",
    "import plotly.tools as tls\n",
    "import warnings\n",
    "warnings.filterwarnings('ignore')\n",
    "\n",
    "from string import ascii_letters"
   ]
  },
  {
   "cell_type": "markdown",
   "metadata": {},
   "source": [
    "In this Kaggle dataset, the database that we are given to work with is an SQLite database. We need to first create a connection to the database. Once we have our connection set up, we can create a Cursor object to enable traversal over the records in the database. "
   ]
  },
  {
   "cell_type": "code",
   "execution_count": 2,
   "metadata": {
    "collapsed": true
   },
   "outputs": [],
   "source": [
    "conn = sqlite3.connect('./Downloads/database.sqlite')\n",
    "c = conn.cursor()"
   ]
  },
  {
   "cell_type": "markdown",
   "metadata": {},
   "source": [
    "We begin by listing out all the different tables in the database. From here, we will read the tables into dataframes and go about exploring the data to see what we can use. "
   ]
  },
  {
   "cell_type": "code",
   "execution_count": 3,
   "metadata": {},
   "outputs": [
    {
     "name": "stdout",
     "output_type": "stream",
     "text": [
      "Country\n",
      "CountryNotes\n",
      "Series\n",
      "Indicators\n",
      "SeriesNotes\n",
      "Footnotes\n"
     ]
    }
   ],
   "source": [
    "tables = conn.execute(\"SELECT name FROM sqlite_master WHERE type='table';\")\n",
    "for table_name in tables:\n",
    "    print (table_name[0])"
   ]
  },
  {
   "cell_type": "code",
   "execution_count": 4,
   "metadata": {
    "collapsed": true
   },
   "outputs": [],
   "source": [
    "Country = pd.read_sql(\"SELECT * FROM Country\", con=conn)\n",
    "CountryNotes = pd.read_sql(\"SELECT * FROM CountryNotes\", con=conn)\n",
    "Series = pd.read_sql(\"SELECT * FROM Series\", con=conn)\n",
    "Indicators = pd.read_sql(\"SELECT * FROM Indicators\", con=conn)\n",
    "SeriesNotes = pd.read_sql(\"SELECT * FROM SeriesNotes\", con=conn)\n",
    "Footnotes = pd.read_sql(\"SELECT * FROM Footnotes\", con=conn)"
   ]
  },
  {
   "cell_type": "markdown",
   "metadata": {},
   "source": [
    "In the Country table, the attributes we will be focusing on include CountryCode, ShortName, Region and IncomeGroup. Moreover, upon examining the CountryNotes table, we see that each country is associated with one or more series.\n",
    "\n",
    "A SeriesCode is associated with an indicator, and these are grouped into larger groups referred to as 'Topic(s)'. Furthermore, individual instances which consist of a given country, year and indicator can be found in the Indicators table. "
   ]
  },
  {
   "cell_type": "code",
   "execution_count": 5,
   "metadata": {
    "scrolled": false
   },
   "outputs": [
    {
     "data": {
      "text/html": [
       "<div>\n",
       "<style>\n",
       "    .dataframe thead tr:only-child th {\n",
       "        text-align: right;\n",
       "    }\n",
       "\n",
       "    .dataframe thead th {\n",
       "        text-align: left;\n",
       "    }\n",
       "\n",
       "    .dataframe tbody tr th {\n",
       "        vertical-align: top;\n",
       "    }\n",
       "</style>\n",
       "<table border=\"1\" class=\"dataframe\">\n",
       "  <thead>\n",
       "    <tr style=\"text-align: right;\">\n",
       "      <th></th>\n",
       "      <th>CountryCode</th>\n",
       "      <th>ShortName</th>\n",
       "      <th>TableName</th>\n",
       "      <th>LongName</th>\n",
       "      <th>Alpha2Code</th>\n",
       "      <th>CurrencyUnit</th>\n",
       "      <th>SpecialNotes</th>\n",
       "      <th>Region</th>\n",
       "      <th>IncomeGroup</th>\n",
       "      <th>Wb2Code</th>\n",
       "      <th>...</th>\n",
       "      <th>GovernmentAccountingConcept</th>\n",
       "      <th>ImfDataDisseminationStandard</th>\n",
       "      <th>LatestPopulationCensus</th>\n",
       "      <th>LatestHouseholdSurvey</th>\n",
       "      <th>SourceOfMostRecentIncomeAndExpenditureData</th>\n",
       "      <th>VitalRegistrationComplete</th>\n",
       "      <th>LatestAgriculturalCensus</th>\n",
       "      <th>LatestIndustrialData</th>\n",
       "      <th>LatestTradeData</th>\n",
       "      <th>LatestWaterWithdrawalData</th>\n",
       "    </tr>\n",
       "  </thead>\n",
       "  <tbody>\n",
       "    <tr>\n",
       "      <th>0</th>\n",
       "      <td>AFG</td>\n",
       "      <td>Afghanistan</td>\n",
       "      <td>Afghanistan</td>\n",
       "      <td>Islamic State of Afghanistan</td>\n",
       "      <td>AF</td>\n",
       "      <td>Afghan afghani</td>\n",
       "      <td>Fiscal year end: March 20; reporting period fo...</td>\n",
       "      <td>South Asia</td>\n",
       "      <td>Low income</td>\n",
       "      <td>AF</td>\n",
       "      <td>...</td>\n",
       "      <td>Consolidated central government</td>\n",
       "      <td>General Data Dissemination System (GDDS)</td>\n",
       "      <td>1979</td>\n",
       "      <td>Multiple Indicator Cluster Survey (MICS), 2010/11</td>\n",
       "      <td>Integrated household survey (IHS), 2008</td>\n",
       "      <td></td>\n",
       "      <td>2013/14</td>\n",
       "      <td></td>\n",
       "      <td>2013</td>\n",
       "      <td>2000</td>\n",
       "    </tr>\n",
       "    <tr>\n",
       "      <th>1</th>\n",
       "      <td>ALB</td>\n",
       "      <td>Albania</td>\n",
       "      <td>Albania</td>\n",
       "      <td>Republic of Albania</td>\n",
       "      <td>AL</td>\n",
       "      <td>Albanian lek</td>\n",
       "      <td></td>\n",
       "      <td>Europe &amp; Central Asia</td>\n",
       "      <td>Upper middle income</td>\n",
       "      <td>AL</td>\n",
       "      <td>...</td>\n",
       "      <td>Budgetary central government</td>\n",
       "      <td>General Data Dissemination System (GDDS)</td>\n",
       "      <td>2011</td>\n",
       "      <td>Demographic and Health Survey (DHS), 2008/09</td>\n",
       "      <td>Living Standards Measurement Study Survey (LSM...</td>\n",
       "      <td>Yes</td>\n",
       "      <td>2012</td>\n",
       "      <td>2011</td>\n",
       "      <td>2013</td>\n",
       "      <td>2006</td>\n",
       "    </tr>\n",
       "    <tr>\n",
       "      <th>2</th>\n",
       "      <td>DZA</td>\n",
       "      <td>Algeria</td>\n",
       "      <td>Algeria</td>\n",
       "      <td>People's Democratic Republic of Algeria</td>\n",
       "      <td>DZ</td>\n",
       "      <td>Algerian dinar</td>\n",
       "      <td></td>\n",
       "      <td>Middle East &amp; North Africa</td>\n",
       "      <td>Upper middle income</td>\n",
       "      <td>DZ</td>\n",
       "      <td>...</td>\n",
       "      <td>Budgetary central government</td>\n",
       "      <td>General Data Dissemination System (GDDS)</td>\n",
       "      <td>2008</td>\n",
       "      <td>Multiple Indicator Cluster Survey (MICS), 2012</td>\n",
       "      <td>Integrated household survey (IHS), 1995</td>\n",
       "      <td></td>\n",
       "      <td></td>\n",
       "      <td>2010</td>\n",
       "      <td>2013</td>\n",
       "      <td>2001</td>\n",
       "    </tr>\n",
       "    <tr>\n",
       "      <th>3</th>\n",
       "      <td>ASM</td>\n",
       "      <td>American Samoa</td>\n",
       "      <td>American Samoa</td>\n",
       "      <td>American Samoa</td>\n",
       "      <td>AS</td>\n",
       "      <td>U.S. dollar</td>\n",
       "      <td></td>\n",
       "      <td>East Asia &amp; Pacific</td>\n",
       "      <td>Upper middle income</td>\n",
       "      <td>AS</td>\n",
       "      <td>...</td>\n",
       "      <td></td>\n",
       "      <td></td>\n",
       "      <td>2010</td>\n",
       "      <td></td>\n",
       "      <td></td>\n",
       "      <td>Yes</td>\n",
       "      <td>2007</td>\n",
       "      <td></td>\n",
       "      <td></td>\n",
       "      <td></td>\n",
       "    </tr>\n",
       "    <tr>\n",
       "      <th>4</th>\n",
       "      <td>ADO</td>\n",
       "      <td>Andorra</td>\n",
       "      <td>Andorra</td>\n",
       "      <td>Principality of Andorra</td>\n",
       "      <td>AD</td>\n",
       "      <td>Euro</td>\n",
       "      <td></td>\n",
       "      <td>Europe &amp; Central Asia</td>\n",
       "      <td>High income: nonOECD</td>\n",
       "      <td>AD</td>\n",
       "      <td>...</td>\n",
       "      <td></td>\n",
       "      <td></td>\n",
       "      <td>2011. Population data compiled from administra...</td>\n",
       "      <td></td>\n",
       "      <td></td>\n",
       "      <td>Yes</td>\n",
       "      <td></td>\n",
       "      <td></td>\n",
       "      <td>2006</td>\n",
       "      <td></td>\n",
       "    </tr>\n",
       "  </tbody>\n",
       "</table>\n",
       "<p>5 rows × 31 columns</p>\n",
       "</div>"
      ],
      "text/plain": [
       "  CountryCode       ShortName       TableName  \\\n",
       "0         AFG     Afghanistan     Afghanistan   \n",
       "1         ALB         Albania         Albania   \n",
       "2         DZA         Algeria         Algeria   \n",
       "3         ASM  American Samoa  American Samoa   \n",
       "4         ADO         Andorra         Andorra   \n",
       "\n",
       "                                  LongName Alpha2Code    CurrencyUnit  \\\n",
       "0             Islamic State of Afghanistan         AF  Afghan afghani   \n",
       "1                      Republic of Albania         AL    Albanian lek   \n",
       "2  People's Democratic Republic of Algeria         DZ  Algerian dinar   \n",
       "3                           American Samoa         AS     U.S. dollar   \n",
       "4                  Principality of Andorra         AD            Euro   \n",
       "\n",
       "                                        SpecialNotes  \\\n",
       "0  Fiscal year end: March 20; reporting period fo...   \n",
       "1                                                      \n",
       "2                                                      \n",
       "3                                                      \n",
       "4                                                      \n",
       "\n",
       "                       Region           IncomeGroup Wb2Code  \\\n",
       "0                  South Asia            Low income      AF   \n",
       "1       Europe & Central Asia   Upper middle income      AL   \n",
       "2  Middle East & North Africa   Upper middle income      DZ   \n",
       "3         East Asia & Pacific   Upper middle income      AS   \n",
       "4       Europe & Central Asia  High income: nonOECD      AD   \n",
       "\n",
       "             ...                 GovernmentAccountingConcept  \\\n",
       "0            ...             Consolidated central government   \n",
       "1            ...                Budgetary central government   \n",
       "2            ...                Budgetary central government   \n",
       "3            ...                                               \n",
       "4            ...                                               \n",
       "\n",
       "               ImfDataDisseminationStandard  \\\n",
       "0  General Data Dissemination System (GDDS)   \n",
       "1  General Data Dissemination System (GDDS)   \n",
       "2  General Data Dissemination System (GDDS)   \n",
       "3                                             \n",
       "4                                             \n",
       "\n",
       "                              LatestPopulationCensus  \\\n",
       "0                                               1979   \n",
       "1                                               2011   \n",
       "2                                               2008   \n",
       "3                                               2010   \n",
       "4  2011. Population data compiled from administra...   \n",
       "\n",
       "                               LatestHouseholdSurvey  \\\n",
       "0  Multiple Indicator Cluster Survey (MICS), 2010/11   \n",
       "1       Demographic and Health Survey (DHS), 2008/09   \n",
       "2     Multiple Indicator Cluster Survey (MICS), 2012   \n",
       "3                                                      \n",
       "4                                                      \n",
       "\n",
       "          SourceOfMostRecentIncomeAndExpenditureData  \\\n",
       "0            Integrated household survey (IHS), 2008   \n",
       "1  Living Standards Measurement Study Survey (LSM...   \n",
       "2            Integrated household survey (IHS), 1995   \n",
       "3                                                      \n",
       "4                                                      \n",
       "\n",
       "  VitalRegistrationComplete LatestAgriculturalCensus LatestIndustrialData  \\\n",
       "0                                            2013/14                        \n",
       "1                       Yes                     2012                 2011   \n",
       "2                                                                    2010   \n",
       "3                       Yes                     2007                        \n",
       "4                       Yes                                                 \n",
       "\n",
       "  LatestTradeData LatestWaterWithdrawalData  \n",
       "0            2013                      2000  \n",
       "1            2013                      2006  \n",
       "2            2013                      2001  \n",
       "3                                            \n",
       "4            2006                            \n",
       "\n",
       "[5 rows x 31 columns]"
      ]
     },
     "execution_count": 5,
     "metadata": {},
     "output_type": "execute_result"
    }
   ],
   "source": [
    "Country.head()"
   ]
  },
  {
   "cell_type": "code",
   "execution_count": 6,
   "metadata": {
    "scrolled": false
   },
   "outputs": [
    {
     "data": {
      "text/html": [
       "<div>\n",
       "<style>\n",
       "    .dataframe thead tr:only-child th {\n",
       "        text-align: right;\n",
       "    }\n",
       "\n",
       "    .dataframe thead th {\n",
       "        text-align: left;\n",
       "    }\n",
       "\n",
       "    .dataframe tbody tr th {\n",
       "        vertical-align: top;\n",
       "    }\n",
       "</style>\n",
       "<table border=\"1\" class=\"dataframe\">\n",
       "  <thead>\n",
       "    <tr style=\"text-align: right;\">\n",
       "      <th></th>\n",
       "      <th>Countrycode</th>\n",
       "      <th>Seriescode</th>\n",
       "      <th>Description</th>\n",
       "    </tr>\n",
       "  </thead>\n",
       "  <tbody>\n",
       "    <tr>\n",
       "      <th>0</th>\n",
       "      <td>ABW</td>\n",
       "      <td>EG.EGY.PRIM.PP.KD</td>\n",
       "      <td>Sources: Estimated based on UN Energy Statisti...</td>\n",
       "    </tr>\n",
       "    <tr>\n",
       "      <th>1</th>\n",
       "      <td>ABW</td>\n",
       "      <td>EG.ELC.RNEW.ZS</td>\n",
       "      <td>Sources: UN Energy Statistics (2014)</td>\n",
       "    </tr>\n",
       "    <tr>\n",
       "      <th>2</th>\n",
       "      <td>ABW</td>\n",
       "      <td>EG.FEC.RNEW.ZS</td>\n",
       "      <td>Sources: UN Energy Statistics (2014)</td>\n",
       "    </tr>\n",
       "    <tr>\n",
       "      <th>3</th>\n",
       "      <td>ABW</td>\n",
       "      <td>SM.POP.NETM</td>\n",
       "      <td>Data sources : United Nations World Population...</td>\n",
       "    </tr>\n",
       "    <tr>\n",
       "      <th>4</th>\n",
       "      <td>ABW</td>\n",
       "      <td>SM.POP.TOTL</td>\n",
       "      <td>Estimates are derived from data on foreign-bor...</td>\n",
       "    </tr>\n",
       "  </tbody>\n",
       "</table>\n",
       "</div>"
      ],
      "text/plain": [
       "  Countrycode         Seriescode  \\\n",
       "0         ABW  EG.EGY.PRIM.PP.KD   \n",
       "1         ABW     EG.ELC.RNEW.ZS   \n",
       "2         ABW     EG.FEC.RNEW.ZS   \n",
       "3         ABW        SM.POP.NETM   \n",
       "4         ABW        SM.POP.TOTL   \n",
       "\n",
       "                                         Description  \n",
       "0  Sources: Estimated based on UN Energy Statisti...  \n",
       "1               Sources: UN Energy Statistics (2014)  \n",
       "2               Sources: UN Energy Statistics (2014)  \n",
       "3  Data sources : United Nations World Population...  \n",
       "4  Estimates are derived from data on foreign-bor...  "
      ]
     },
     "execution_count": 6,
     "metadata": {},
     "output_type": "execute_result"
    }
   ],
   "source": [
    "CountryNotes.head()"
   ]
  },
  {
   "cell_type": "code",
   "execution_count": 7,
   "metadata": {},
   "outputs": [
    {
     "data": {
      "text/html": [
       "<div>\n",
       "<style>\n",
       "    .dataframe thead tr:only-child th {\n",
       "        text-align: right;\n",
       "    }\n",
       "\n",
       "    .dataframe thead th {\n",
       "        text-align: left;\n",
       "    }\n",
       "\n",
       "    .dataframe tbody tr th {\n",
       "        vertical-align: top;\n",
       "    }\n",
       "</style>\n",
       "<table border=\"1\" class=\"dataframe\">\n",
       "  <thead>\n",
       "    <tr style=\"text-align: right;\">\n",
       "      <th></th>\n",
       "      <th>SeriesCode</th>\n",
       "      <th>Topic</th>\n",
       "      <th>IndicatorName</th>\n",
       "      <th>ShortDefinition</th>\n",
       "      <th>LongDefinition</th>\n",
       "      <th>UnitOfMeasure</th>\n",
       "      <th>Periodicity</th>\n",
       "      <th>BasePeriod</th>\n",
       "      <th>OtherNotes</th>\n",
       "      <th>AggregationMethod</th>\n",
       "      <th>LimitationsAndExceptions</th>\n",
       "      <th>NotesFromOriginalSource</th>\n",
       "      <th>GeneralComments</th>\n",
       "      <th>Source</th>\n",
       "      <th>StatisticalConceptAndMethodology</th>\n",
       "      <th>DevelopmentRelevance</th>\n",
       "      <th>RelatedSourceLinks</th>\n",
       "      <th>OtherWebLinks</th>\n",
       "      <th>RelatedIndicators</th>\n",
       "      <th>LicenseType</th>\n",
       "    </tr>\n",
       "  </thead>\n",
       "  <tbody>\n",
       "    <tr>\n",
       "      <th>0</th>\n",
       "      <td>BN.KLT.DINV.CD</td>\n",
       "      <td>Economic Policy &amp; Debt: Balance of payments: C...</td>\n",
       "      <td>Foreign direct investment, net (BoP, current US$)</td>\n",
       "      <td></td>\n",
       "      <td>Foreign direct investment are the net inflows ...</td>\n",
       "      <td></td>\n",
       "      <td>Annual</td>\n",
       "      <td></td>\n",
       "      <td></td>\n",
       "      <td></td>\n",
       "      <td></td>\n",
       "      <td></td>\n",
       "      <td>Note: Data are based on the sixth edition of t...</td>\n",
       "      <td>International Monetary Fund, Balance of Paymen...</td>\n",
       "      <td></td>\n",
       "      <td></td>\n",
       "      <td></td>\n",
       "      <td></td>\n",
       "      <td></td>\n",
       "      <td>Open</td>\n",
       "    </tr>\n",
       "    <tr>\n",
       "      <th>1</th>\n",
       "      <td>BX.KLT.DINV.WD.GD.ZS</td>\n",
       "      <td>Economic Policy &amp; Debt: Balance of payments: C...</td>\n",
       "      <td>Foreign direct investment, net inflows (% of GDP)</td>\n",
       "      <td></td>\n",
       "      <td>Foreign direct investment are the net inflows ...</td>\n",
       "      <td></td>\n",
       "      <td>Annual</td>\n",
       "      <td></td>\n",
       "      <td></td>\n",
       "      <td>Weighted average</td>\n",
       "      <td>FDI data do not give a complete picture of int...</td>\n",
       "      <td></td>\n",
       "      <td>Note: Data starting from 2005 are based on the...</td>\n",
       "      <td>International Monetary Fund, International Fin...</td>\n",
       "      <td>Data on equity flows are based on balance of p...</td>\n",
       "      <td>Private financial flows - equity and debt - ac...</td>\n",
       "      <td></td>\n",
       "      <td></td>\n",
       "      <td></td>\n",
       "      <td>Open</td>\n",
       "    </tr>\n",
       "    <tr>\n",
       "      <th>2</th>\n",
       "      <td>BX.KLT.DINV.CD.WD</td>\n",
       "      <td>Economic Policy &amp; Debt: Balance of payments: C...</td>\n",
       "      <td>Foreign direct investment, net inflows (BoP, c...</td>\n",
       "      <td></td>\n",
       "      <td>Foreign direct investment refers to direct inv...</td>\n",
       "      <td></td>\n",
       "      <td>Annual</td>\n",
       "      <td></td>\n",
       "      <td></td>\n",
       "      <td>Sum</td>\n",
       "      <td>FDI data do not give a complete picture of int...</td>\n",
       "      <td></td>\n",
       "      <td>Note: Data starting from 2005 are based on the...</td>\n",
       "      <td>International Monetary Fund, Balance of Paymen...</td>\n",
       "      <td>Data on equity flows are based on balance of p...</td>\n",
       "      <td>Private financial flows - equity and debt - ac...</td>\n",
       "      <td></td>\n",
       "      <td></td>\n",
       "      <td></td>\n",
       "      <td>Open</td>\n",
       "    </tr>\n",
       "    <tr>\n",
       "      <th>3</th>\n",
       "      <td>BM.KLT.DINV.GD.ZS</td>\n",
       "      <td>Economic Policy &amp; Debt: Balance of payments: C...</td>\n",
       "      <td>Foreign direct investment, net outflows (% of ...</td>\n",
       "      <td></td>\n",
       "      <td>Foreign direct investment are the net inflows ...</td>\n",
       "      <td></td>\n",
       "      <td>Annual</td>\n",
       "      <td></td>\n",
       "      <td></td>\n",
       "      <td>Weighted average</td>\n",
       "      <td></td>\n",
       "      <td></td>\n",
       "      <td>Note: Data are based on the sixth edition of t...</td>\n",
       "      <td>International Monetary Fund, International Fin...</td>\n",
       "      <td></td>\n",
       "      <td></td>\n",
       "      <td></td>\n",
       "      <td></td>\n",
       "      <td></td>\n",
       "      <td>Open</td>\n",
       "    </tr>\n",
       "    <tr>\n",
       "      <th>4</th>\n",
       "      <td>BN.TRF.KOGT.CD</td>\n",
       "      <td>Economic Policy &amp; Debt: Balance of payments: C...</td>\n",
       "      <td>Net capital account (BoP, current US$)</td>\n",
       "      <td></td>\n",
       "      <td>Net capital account records acquisitions and d...</td>\n",
       "      <td></td>\n",
       "      <td>Annual</td>\n",
       "      <td></td>\n",
       "      <td></td>\n",
       "      <td></td>\n",
       "      <td></td>\n",
       "      <td></td>\n",
       "      <td>Note: Data are based on the sixth edition of t...</td>\n",
       "      <td>International Monetary Fund, Balance of Paymen...</td>\n",
       "      <td></td>\n",
       "      <td></td>\n",
       "      <td></td>\n",
       "      <td></td>\n",
       "      <td></td>\n",
       "      <td>Open</td>\n",
       "    </tr>\n",
       "  </tbody>\n",
       "</table>\n",
       "</div>"
      ],
      "text/plain": [
       "             SeriesCode                                              Topic  \\\n",
       "0        BN.KLT.DINV.CD  Economic Policy & Debt: Balance of payments: C...   \n",
       "1  BX.KLT.DINV.WD.GD.ZS  Economic Policy & Debt: Balance of payments: C...   \n",
       "2     BX.KLT.DINV.CD.WD  Economic Policy & Debt: Balance of payments: C...   \n",
       "3     BM.KLT.DINV.GD.ZS  Economic Policy & Debt: Balance of payments: C...   \n",
       "4        BN.TRF.KOGT.CD  Economic Policy & Debt: Balance of payments: C...   \n",
       "\n",
       "                                       IndicatorName ShortDefinition  \\\n",
       "0  Foreign direct investment, net (BoP, current US$)                   \n",
       "1  Foreign direct investment, net inflows (% of GDP)                   \n",
       "2  Foreign direct investment, net inflows (BoP, c...                   \n",
       "3  Foreign direct investment, net outflows (% of ...                   \n",
       "4             Net capital account (BoP, current US$)                   \n",
       "\n",
       "                                      LongDefinition UnitOfMeasure  \\\n",
       "0  Foreign direct investment are the net inflows ...                 \n",
       "1  Foreign direct investment are the net inflows ...                 \n",
       "2  Foreign direct investment refers to direct inv...                 \n",
       "3  Foreign direct investment are the net inflows ...                 \n",
       "4  Net capital account records acquisitions and d...                 \n",
       "\n",
       "  Periodicity BasePeriod OtherNotes AggregationMethod  \\\n",
       "0      Annual                                           \n",
       "1      Annual                        Weighted average   \n",
       "2      Annual                                     Sum   \n",
       "3      Annual                        Weighted average   \n",
       "4      Annual                                           \n",
       "\n",
       "                            LimitationsAndExceptions NotesFromOriginalSource  \\\n",
       "0                                                                              \n",
       "1  FDI data do not give a complete picture of int...                           \n",
       "2  FDI data do not give a complete picture of int...                           \n",
       "3                                                                              \n",
       "4                                                                              \n",
       "\n",
       "                                     GeneralComments  \\\n",
       "0  Note: Data are based on the sixth edition of t...   \n",
       "1  Note: Data starting from 2005 are based on the...   \n",
       "2  Note: Data starting from 2005 are based on the...   \n",
       "3  Note: Data are based on the sixth edition of t...   \n",
       "4  Note: Data are based on the sixth edition of t...   \n",
       "\n",
       "                                              Source  \\\n",
       "0  International Monetary Fund, Balance of Paymen...   \n",
       "1  International Monetary Fund, International Fin...   \n",
       "2  International Monetary Fund, Balance of Paymen...   \n",
       "3  International Monetary Fund, International Fin...   \n",
       "4  International Monetary Fund, Balance of Paymen...   \n",
       "\n",
       "                    StatisticalConceptAndMethodology  \\\n",
       "0                                                      \n",
       "1  Data on equity flows are based on balance of p...   \n",
       "2  Data on equity flows are based on balance of p...   \n",
       "3                                                      \n",
       "4                                                      \n",
       "\n",
       "                                DevelopmentRelevance RelatedSourceLinks  \\\n",
       "0                                                                         \n",
       "1  Private financial flows - equity and debt - ac...                      \n",
       "2  Private financial flows - equity and debt - ac...                      \n",
       "3                                                                         \n",
       "4                                                                         \n",
       "\n",
       "  OtherWebLinks RelatedIndicators LicenseType  \n",
       "0                                        Open  \n",
       "1                                        Open  \n",
       "2                                        Open  \n",
       "3                                        Open  \n",
       "4                                        Open  "
      ]
     },
     "execution_count": 7,
     "metadata": {},
     "output_type": "execute_result"
    }
   ],
   "source": [
    "Series.head()"
   ]
  },
  {
   "cell_type": "code",
   "execution_count": 8,
   "metadata": {},
   "outputs": [
    {
     "data": {
      "text/html": [
       "<div>\n",
       "<style>\n",
       "    .dataframe thead tr:only-child th {\n",
       "        text-align: right;\n",
       "    }\n",
       "\n",
       "    .dataframe thead th {\n",
       "        text-align: left;\n",
       "    }\n",
       "\n",
       "    .dataframe tbody tr th {\n",
       "        vertical-align: top;\n",
       "    }\n",
       "</style>\n",
       "<table border=\"1\" class=\"dataframe\">\n",
       "  <thead>\n",
       "    <tr style=\"text-align: right;\">\n",
       "      <th></th>\n",
       "      <th>CountryName</th>\n",
       "      <th>CountryCode</th>\n",
       "      <th>IndicatorName</th>\n",
       "      <th>IndicatorCode</th>\n",
       "      <th>Year</th>\n",
       "      <th>Value</th>\n",
       "    </tr>\n",
       "  </thead>\n",
       "  <tbody>\n",
       "    <tr>\n",
       "      <th>0</th>\n",
       "      <td>Arab World</td>\n",
       "      <td>ARB</td>\n",
       "      <td>Adolescent fertility rate (births per 1,000 wo...</td>\n",
       "      <td>SP.ADO.TFRT</td>\n",
       "      <td>1960</td>\n",
       "      <td>1.335609e+02</td>\n",
       "    </tr>\n",
       "    <tr>\n",
       "      <th>1</th>\n",
       "      <td>Arab World</td>\n",
       "      <td>ARB</td>\n",
       "      <td>Age dependency ratio (% of working-age populat...</td>\n",
       "      <td>SP.POP.DPND</td>\n",
       "      <td>1960</td>\n",
       "      <td>8.779760e+01</td>\n",
       "    </tr>\n",
       "    <tr>\n",
       "      <th>2</th>\n",
       "      <td>Arab World</td>\n",
       "      <td>ARB</td>\n",
       "      <td>Age dependency ratio, old (% of working-age po...</td>\n",
       "      <td>SP.POP.DPND.OL</td>\n",
       "      <td>1960</td>\n",
       "      <td>6.634579e+00</td>\n",
       "    </tr>\n",
       "    <tr>\n",
       "      <th>3</th>\n",
       "      <td>Arab World</td>\n",
       "      <td>ARB</td>\n",
       "      <td>Age dependency ratio, young (% of working-age ...</td>\n",
       "      <td>SP.POP.DPND.YG</td>\n",
       "      <td>1960</td>\n",
       "      <td>8.102333e+01</td>\n",
       "    </tr>\n",
       "    <tr>\n",
       "      <th>4</th>\n",
       "      <td>Arab World</td>\n",
       "      <td>ARB</td>\n",
       "      <td>Arms exports (SIPRI trend indicator values)</td>\n",
       "      <td>MS.MIL.XPRT.KD</td>\n",
       "      <td>1960</td>\n",
       "      <td>3.000000e+06</td>\n",
       "    </tr>\n",
       "  </tbody>\n",
       "</table>\n",
       "</div>"
      ],
      "text/plain": [
       "  CountryName CountryCode                                      IndicatorName  \\\n",
       "0  Arab World         ARB  Adolescent fertility rate (births per 1,000 wo...   \n",
       "1  Arab World         ARB  Age dependency ratio (% of working-age populat...   \n",
       "2  Arab World         ARB  Age dependency ratio, old (% of working-age po...   \n",
       "3  Arab World         ARB  Age dependency ratio, young (% of working-age ...   \n",
       "4  Arab World         ARB        Arms exports (SIPRI trend indicator values)   \n",
       "\n",
       "    IndicatorCode  Year         Value  \n",
       "0     SP.ADO.TFRT  1960  1.335609e+02  \n",
       "1     SP.POP.DPND  1960  8.779760e+01  \n",
       "2  SP.POP.DPND.OL  1960  6.634579e+00  \n",
       "3  SP.POP.DPND.YG  1960  8.102333e+01  \n",
       "4  MS.MIL.XPRT.KD  1960  3.000000e+06  "
      ]
     },
     "execution_count": 8,
     "metadata": {},
     "output_type": "execute_result"
    }
   ],
   "source": [
    "Indicators.head()"
   ]
  },
  {
   "cell_type": "markdown",
   "metadata": {},
   "source": [
    "### 2. Data Exploration and Preparation"
   ]
  },
  {
   "cell_type": "markdown",
   "metadata": {},
   "source": [
    "#### 2.1 Selection of Countries"
   ]
  },
  {
   "cell_type": "markdown",
   "metadata": {},
   "source": [
    "The countries we will be focusing on belong to two main categories:\n",
    "1. Newly industrialised countries - China, India and Indonesia.\n",
    "2. Developing economies - Ecuador, Ethiopia, and Rwanda.\n",
    "\n",
    "By focusing on countries that are not already developed, we will be able to explore whether the quality of a country's educational system, and therefore educational outcomes are in any way correlated to advances in economic growth and development. "
   ]
  },
  {
   "cell_type": "code",
   "execution_count": 9,
   "metadata": {
    "scrolled": true
   },
   "outputs": [
    {
     "data": {
      "text/html": [
       "<div>\n",
       "<style>\n",
       "    .dataframe thead tr:only-child th {\n",
       "        text-align: right;\n",
       "    }\n",
       "\n",
       "    .dataframe thead th {\n",
       "        text-align: left;\n",
       "    }\n",
       "\n",
       "    .dataframe tbody tr th {\n",
       "        vertical-align: top;\n",
       "    }\n",
       "</style>\n",
       "<table border=\"1\" class=\"dataframe\">\n",
       "  <thead>\n",
       "    <tr style=\"text-align: right;\">\n",
       "      <th></th>\n",
       "      <th>CountryCode</th>\n",
       "      <th>ShortName</th>\n",
       "      <th>Region</th>\n",
       "      <th>IncomeGroup</th>\n",
       "    </tr>\n",
       "  </thead>\n",
       "  <tbody>\n",
       "    <tr>\n",
       "      <th>0</th>\n",
       "      <td>CHN</td>\n",
       "      <td>China</td>\n",
       "      <td>East Asia &amp; Pacific</td>\n",
       "      <td>Upper middle income</td>\n",
       "    </tr>\n",
       "    <tr>\n",
       "      <th>1</th>\n",
       "      <td>ECU</td>\n",
       "      <td>Ecuador</td>\n",
       "      <td>Latin America &amp; Caribbean</td>\n",
       "      <td>Upper middle income</td>\n",
       "    </tr>\n",
       "    <tr>\n",
       "      <th>2</th>\n",
       "      <td>ETH</td>\n",
       "      <td>Ethiopia</td>\n",
       "      <td>Sub-Saharan Africa</td>\n",
       "      <td>Low income</td>\n",
       "    </tr>\n",
       "    <tr>\n",
       "      <th>3</th>\n",
       "      <td>IND</td>\n",
       "      <td>India</td>\n",
       "      <td>South Asia</td>\n",
       "      <td>Lower middle income</td>\n",
       "    </tr>\n",
       "    <tr>\n",
       "      <th>4</th>\n",
       "      <td>IDN</td>\n",
       "      <td>Indonesia</td>\n",
       "      <td>East Asia &amp; Pacific</td>\n",
       "      <td>Lower middle income</td>\n",
       "    </tr>\n",
       "    <tr>\n",
       "      <th>5</th>\n",
       "      <td>RWA</td>\n",
       "      <td>Rwanda</td>\n",
       "      <td>Sub-Saharan Africa</td>\n",
       "      <td>Low income</td>\n",
       "    </tr>\n",
       "  </tbody>\n",
       "</table>\n",
       "</div>"
      ],
      "text/plain": [
       "  CountryCode  ShortName                     Region          IncomeGroup\n",
       "0         CHN      China        East Asia & Pacific  Upper middle income\n",
       "1         ECU    Ecuador  Latin America & Caribbean  Upper middle income\n",
       "2         ETH   Ethiopia         Sub-Saharan Africa           Low income\n",
       "3         IND      India                 South Asia  Lower middle income\n",
       "4         IDN  Indonesia        East Asia & Pacific  Lower middle income\n",
       "5         RWA     Rwanda         Sub-Saharan Africa           Low income"
      ]
     },
     "execution_count": 9,
     "metadata": {},
     "output_type": "execute_result"
    }
   ],
   "source": [
    "pd.read_sql(\"\"\" SELECT CountryCode, ShortName, Region, IncomeGroup\n",
    "                FROM Country\n",
    "                WHERE ShortName IN ('China', 'India', 'Indonesia', 'Ecuador', 'Ethiopia',\n",
    "                                    'Rwanda')\"\"\", con=conn)"
   ]
  },
  {
   "cell_type": "markdown",
   "metadata": {},
   "source": [
    "These countries also belong to three different income groups:\n",
    "1. Upper Middle Income\n",
    "2. Lower Middle Income\n",
    "3. Low Income\n",
    "\n",
    "We will also be examining whether the income group that a country belongs to is strongly correlated with economic and educational progress."
   ]
  },
  {
   "cell_type": "markdown",
   "metadata": {},
   "source": [
    "#### 2.2 Indicators to Measure Economic Growth and Development"
   ]
  },
  {
   "cell_type": "markdown",
   "metadata": {},
   "source": [
    "The 'Topics' most relevant to the measurement of economic growth and development include Economic Policy & Debt - National Accounts and Purchasing Power Parity, Poverty - Income Distribution and Poverty Rates, and Social Protection and Labour - Economic Activity, Labour Force Structure and Unemployment. The specific Indicators chosen have been listed below."
   ]
  },
  {
   "cell_type": "code",
   "execution_count": 10,
   "metadata": {},
   "outputs": [
    {
     "data": {
      "text/html": [
       "<div>\n",
       "<style>\n",
       "    .dataframe thead tr:only-child th {\n",
       "        text-align: right;\n",
       "    }\n",
       "\n",
       "    .dataframe thead th {\n",
       "        text-align: left;\n",
       "    }\n",
       "\n",
       "    .dataframe tbody tr th {\n",
       "        vertical-align: top;\n",
       "    }\n",
       "</style>\n",
       "<table border=\"1\" class=\"dataframe\">\n",
       "  <thead>\n",
       "    <tr style=\"text-align: right;\">\n",
       "      <th></th>\n",
       "      <th>SeriesCode</th>\n",
       "      <th>Topic</th>\n",
       "      <th>IndicatorName</th>\n",
       "    </tr>\n",
       "  </thead>\n",
       "  <tbody>\n",
       "    <tr>\n",
       "      <th>0</th>\n",
       "      <td>NY.GDP.MKTP.KD.ZG</td>\n",
       "      <td>Economic Policy &amp; Debt: National accounts: Gro...</td>\n",
       "      <td>GDP growth (annual %)</td>\n",
       "    </tr>\n",
       "    <tr>\n",
       "      <th>1</th>\n",
       "      <td>NY.GDP.PCAP.KD.ZG</td>\n",
       "      <td>Economic Policy &amp; Debt: National accounts: Gro...</td>\n",
       "      <td>GDP per capita growth (annual %)</td>\n",
       "    </tr>\n",
       "    <tr>\n",
       "      <th>2</th>\n",
       "      <td>NE.CON.PRVT.KD.ZG</td>\n",
       "      <td>Economic Policy &amp; Debt: National accounts: Gro...</td>\n",
       "      <td>Household final consumption expenditure (annua...</td>\n",
       "    </tr>\n",
       "    <tr>\n",
       "      <th>3</th>\n",
       "      <td>NY.GDP.PCAP.PP.KD</td>\n",
       "      <td>Economic Policy &amp; Debt: Purchasing power parity</td>\n",
       "      <td>GDP per capita, PPP (constant 2011 internation...</td>\n",
       "    </tr>\n",
       "    <tr>\n",
       "      <th>4</th>\n",
       "      <td>SI.POV.GINI</td>\n",
       "      <td>Poverty: Income distribution</td>\n",
       "      <td>GINI index (World Bank estimate)</td>\n",
       "    </tr>\n",
       "    <tr>\n",
       "      <th>5</th>\n",
       "      <td>SI.DST.10TH.10</td>\n",
       "      <td>Poverty: Income distribution</td>\n",
       "      <td>Income share held by highest 10%</td>\n",
       "    </tr>\n",
       "    <tr>\n",
       "      <th>6</th>\n",
       "      <td>SI.DST.FRST.10</td>\n",
       "      <td>Poverty: Income distribution</td>\n",
       "      <td>Income share held by lowest 10%</td>\n",
       "    </tr>\n",
       "    <tr>\n",
       "      <th>7</th>\n",
       "      <td>SI.POV.DDAY</td>\n",
       "      <td>Poverty: Poverty rates</td>\n",
       "      <td>Poverty headcount ratio at $1.90 a day (2011 P...</td>\n",
       "    </tr>\n",
       "    <tr>\n",
       "      <th>8</th>\n",
       "      <td>SI.POV.NAHC</td>\n",
       "      <td>Poverty: Poverty rates</td>\n",
       "      <td>Poverty headcount ratio at national poverty li...</td>\n",
       "    </tr>\n",
       "    <tr>\n",
       "      <th>9</th>\n",
       "      <td>SL.AGR.EMPL.ZS</td>\n",
       "      <td>Social Protection &amp; Labor: Economic activity</td>\n",
       "      <td>Employment in agriculture (% of total employment)</td>\n",
       "    </tr>\n",
       "    <tr>\n",
       "      <th>10</th>\n",
       "      <td>SL.IND.EMPL.ZS</td>\n",
       "      <td>Social Protection &amp; Labor: Economic activity</td>\n",
       "      <td>Employment in industry (% of total employment)</td>\n",
       "    </tr>\n",
       "    <tr>\n",
       "      <th>11</th>\n",
       "      <td>SL.SRV.EMPL.ZS</td>\n",
       "      <td>Social Protection &amp; Labor: Economic activity</td>\n",
       "      <td>Employment in services (% of total employment)</td>\n",
       "    </tr>\n",
       "    <tr>\n",
       "      <th>12</th>\n",
       "      <td>SL.EMP.TOTL.SP.ZS</td>\n",
       "      <td>Social Protection &amp; Labor: Economic activity</td>\n",
       "      <td>Employment to population ratio, 15+, total (%)...</td>\n",
       "    </tr>\n",
       "    <tr>\n",
       "      <th>13</th>\n",
       "      <td>SL.TLF.CACT.ZS</td>\n",
       "      <td>Social Protection &amp; Labor: Labor force structure</td>\n",
       "      <td>Labor force participation rate, total (% of to...</td>\n",
       "    </tr>\n",
       "    <tr>\n",
       "      <th>14</th>\n",
       "      <td>SL.UEM.TOTL.ZS</td>\n",
       "      <td>Social Protection &amp; Labor: Unemployment</td>\n",
       "      <td>Unemployment, total (% of total labor force) (...</td>\n",
       "    </tr>\n",
       "  </tbody>\n",
       "</table>\n",
       "</div>"
      ],
      "text/plain": [
       "           SeriesCode                                              Topic  \\\n",
       "0   NY.GDP.MKTP.KD.ZG  Economic Policy & Debt: National accounts: Gro...   \n",
       "1   NY.GDP.PCAP.KD.ZG  Economic Policy & Debt: National accounts: Gro...   \n",
       "2   NE.CON.PRVT.KD.ZG  Economic Policy & Debt: National accounts: Gro...   \n",
       "3   NY.GDP.PCAP.PP.KD    Economic Policy & Debt: Purchasing power parity   \n",
       "4         SI.POV.GINI                       Poverty: Income distribution   \n",
       "5      SI.DST.10TH.10                       Poverty: Income distribution   \n",
       "6      SI.DST.FRST.10                       Poverty: Income distribution   \n",
       "7         SI.POV.DDAY                             Poverty: Poverty rates   \n",
       "8         SI.POV.NAHC                             Poverty: Poverty rates   \n",
       "9      SL.AGR.EMPL.ZS       Social Protection & Labor: Economic activity   \n",
       "10     SL.IND.EMPL.ZS       Social Protection & Labor: Economic activity   \n",
       "11     SL.SRV.EMPL.ZS       Social Protection & Labor: Economic activity   \n",
       "12  SL.EMP.TOTL.SP.ZS       Social Protection & Labor: Economic activity   \n",
       "13     SL.TLF.CACT.ZS   Social Protection & Labor: Labor force structure   \n",
       "14     SL.UEM.TOTL.ZS            Social Protection & Labor: Unemployment   \n",
       "\n",
       "                                        IndicatorName  \n",
       "0                               GDP growth (annual %)  \n",
       "1                    GDP per capita growth (annual %)  \n",
       "2   Household final consumption expenditure (annua...  \n",
       "3   GDP per capita, PPP (constant 2011 internation...  \n",
       "4                    GINI index (World Bank estimate)  \n",
       "5                    Income share held by highest 10%  \n",
       "6                     Income share held by lowest 10%  \n",
       "7   Poverty headcount ratio at $1.90 a day (2011 P...  \n",
       "8   Poverty headcount ratio at national poverty li...  \n",
       "9   Employment in agriculture (% of total employment)  \n",
       "10     Employment in industry (% of total employment)  \n",
       "11     Employment in services (% of total employment)  \n",
       "12  Employment to population ratio, 15+, total (%)...  \n",
       "13  Labor force participation rate, total (% of to...  \n",
       "14  Unemployment, total (% of total labor force) (...  "
      ]
     },
     "execution_count": 10,
     "metadata": {},
     "output_type": "execute_result"
    }
   ],
   "source": [
    "pd.read_sql(\"\"\" SELECT SeriesCode, Topic, IndicatorName\n",
    "                FROM Series\n",
    "                WHERE SeriesCode IN ('NY.GDP.PCAP.PP.KD', 'NY.GDP.MKTP.KD.ZG', \n",
    "                                    'NY.GDP.PCAP.KD.ZG', 'NE.CON.PRVT.KD.ZG',\n",
    "                                    'SI.POV.GINI','SI.DST.10TH.10', 'SI.DST.FRST.10',\n",
    "                                    'SI.POV.DDAY', 'SI.POV.NAHC',\n",
    "                                    'SL.AGR.EMPL.ZS', 'SL.IND.EMPL.ZS',\n",
    "                                    'SL.SRV.EMPL.ZS', 'SL.EMP.TOTL.SP.ZS',\n",
    "                                    'SL.TLF.CACT.ZS', 'SL.UEM.TOTL.ZS')\"\"\", con=conn)"
   ]
  },
  {
   "cell_type": "markdown",
   "metadata": {},
   "source": [
    "#### 2.3 Indicators to Measure Education Quality and Outcomes"
   ]
  },
  {
   "cell_type": "markdown",
   "metadata": {},
   "source": [
    "Likewise, the 'Topics' that best depict the quality of a country's education system and best reflect changes in educational outcomes are Education - Efficiency, Inputs, Outcomes and Participation. Again, the specific indicators chosen have been listed below."
   ]
  },
  {
   "cell_type": "code",
   "execution_count": 11,
   "metadata": {},
   "outputs": [
    {
     "data": {
      "text/html": [
       "<div>\n",
       "<style>\n",
       "    .dataframe thead tr:only-child th {\n",
       "        text-align: right;\n",
       "    }\n",
       "\n",
       "    .dataframe thead th {\n",
       "        text-align: left;\n",
       "    }\n",
       "\n",
       "    .dataframe tbody tr th {\n",
       "        vertical-align: top;\n",
       "    }\n",
       "</style>\n",
       "<table border=\"1\" class=\"dataframe\">\n",
       "  <thead>\n",
       "    <tr style=\"text-align: right;\">\n",
       "      <th></th>\n",
       "      <th>SeriesCode</th>\n",
       "      <th>Topic</th>\n",
       "      <th>IndicatorName</th>\n",
       "    </tr>\n",
       "  </thead>\n",
       "  <tbody>\n",
       "    <tr>\n",
       "      <th>0</th>\n",
       "      <td>SE.PRM.PRSL.ZS</td>\n",
       "      <td>Education: Efficiency</td>\n",
       "      <td>Persistence to last grade of primary, total (%...</td>\n",
       "    </tr>\n",
       "    <tr>\n",
       "      <th>1</th>\n",
       "      <td>SE.SEC.PROG.ZS</td>\n",
       "      <td>Education: Efficiency</td>\n",
       "      <td>Progression to secondary school (%)</td>\n",
       "    </tr>\n",
       "    <tr>\n",
       "      <th>2</th>\n",
       "      <td>SE.XPD.PRIM.ZS</td>\n",
       "      <td>Education: Inputs</td>\n",
       "      <td>Expenditure on primary education (% of governm...</td>\n",
       "    </tr>\n",
       "    <tr>\n",
       "      <th>3</th>\n",
       "      <td>SE.XPD.SECO.ZS</td>\n",
       "      <td>Education: Inputs</td>\n",
       "      <td>Expenditure on secondary education (% of gover...</td>\n",
       "    </tr>\n",
       "    <tr>\n",
       "      <th>4</th>\n",
       "      <td>SE.XPD.TERT.ZS</td>\n",
       "      <td>Education: Inputs</td>\n",
       "      <td>Expenditure on tertiary education (% of govern...</td>\n",
       "    </tr>\n",
       "    <tr>\n",
       "      <th>5</th>\n",
       "      <td>SE.XPD.TOTL.GB.ZS</td>\n",
       "      <td>Education: Inputs</td>\n",
       "      <td>Government expenditure on education, total (% ...</td>\n",
       "    </tr>\n",
       "    <tr>\n",
       "      <th>6</th>\n",
       "      <td>SE.PRM.TCAQ.ZS</td>\n",
       "      <td>Education: Inputs</td>\n",
       "      <td>Trained teachers in primary education (% of to...</td>\n",
       "    </tr>\n",
       "    <tr>\n",
       "      <th>7</th>\n",
       "      <td>SE.ADT.LITR.ZS</td>\n",
       "      <td>Education: Outcomes</td>\n",
       "      <td>Literacy rate, adult total (% of people ages 1...</td>\n",
       "    </tr>\n",
       "    <tr>\n",
       "      <th>8</th>\n",
       "      <td>SE.ADT.1524.LT.ZS</td>\n",
       "      <td>Education: Outcomes</td>\n",
       "      <td>Literacy rate, youth total (% of people ages 1...</td>\n",
       "    </tr>\n",
       "    <tr>\n",
       "      <th>9</th>\n",
       "      <td>SE.TER.ENRR</td>\n",
       "      <td>Education: Participation</td>\n",
       "      <td>School enrollment, tertiary (% gross)</td>\n",
       "    </tr>\n",
       "  </tbody>\n",
       "</table>\n",
       "</div>"
      ],
      "text/plain": [
       "          SeriesCode                     Topic  \\\n",
       "0     SE.PRM.PRSL.ZS     Education: Efficiency   \n",
       "1     SE.SEC.PROG.ZS     Education: Efficiency   \n",
       "2     SE.XPD.PRIM.ZS         Education: Inputs   \n",
       "3     SE.XPD.SECO.ZS         Education: Inputs   \n",
       "4     SE.XPD.TERT.ZS         Education: Inputs   \n",
       "5  SE.XPD.TOTL.GB.ZS         Education: Inputs   \n",
       "6     SE.PRM.TCAQ.ZS         Education: Inputs   \n",
       "7     SE.ADT.LITR.ZS       Education: Outcomes   \n",
       "8  SE.ADT.1524.LT.ZS       Education: Outcomes   \n",
       "9        SE.TER.ENRR  Education: Participation   \n",
       "\n",
       "                                       IndicatorName  \n",
       "0  Persistence to last grade of primary, total (%...  \n",
       "1                Progression to secondary school (%)  \n",
       "2  Expenditure on primary education (% of governm...  \n",
       "3  Expenditure on secondary education (% of gover...  \n",
       "4  Expenditure on tertiary education (% of govern...  \n",
       "5  Government expenditure on education, total (% ...  \n",
       "6  Trained teachers in primary education (% of to...  \n",
       "7  Literacy rate, adult total (% of people ages 1...  \n",
       "8  Literacy rate, youth total (% of people ages 1...  \n",
       "9              School enrollment, tertiary (% gross)  "
      ]
     },
     "execution_count": 11,
     "metadata": {},
     "output_type": "execute_result"
    }
   ],
   "source": [
    "pd.read_sql(\"\"\" SELECT SeriesCode, Topic, IndicatorName\n",
    "                FROM Series\n",
    "                WHERE SeriesCode IN ('SE.PRM.PRSL.ZS', 'SE.SEC.PROG.ZS',\n",
    "                                    'SE.XPD.PRIM.ZS', 'SE.XPD.SECO.ZS',\n",
    "                                    'SE.XPD.TERT.ZS', 'SE.XPD.TOTL.GB.ZS',\n",
    "                                    'SE.PRM.TCAQ.ZS', 'SE.ADT.LITR.ZS',\n",
    "                                    'SE.ADT.1524.LT.ZS', 'SE.TER.ENRR')\"\"\", con=conn)"
   ]
  },
  {
   "cell_type": "markdown",
   "metadata": {},
   "source": [
    "### 3. Data Visualisation and Analysis"
   ]
  },
  {
   "cell_type": "markdown",
   "metadata": {},
   "source": [
    "#### 3.1 Exploring Trends in Economic Growth and Development Indicators"
   ]
  },
  {
   "cell_type": "markdown",
   "metadata": {},
   "source": [
    "##### 3.1.1 GDP Growth (Annual %)"
   ]
  },
  {
   "cell_type": "markdown",
   "metadata": {},
   "source": [
    "Gross domestic product (GDP) is the sum of gross value added by all resident producers in the economy, plus any product taxes and minus any subsidies not included in the value of the products. It is commonly used an as indicator of the economic health of a country, as well as a gauge of a country's standard of living.\n",
    "\n",
    "The annual percentage growth rate of GDP is at market prices based on constant local currency."
   ]
  },
  {
   "cell_type": "code",
   "execution_count": 12,
   "metadata": {
    "collapsed": true
   },
   "outputs": [],
   "source": [
    "GDP_growth = pd.read_sql(\"\"\" SELECT IndicatorCode, CountryName, Year, Value\n",
    "                FROM Indicators\n",
    "                WHERE IndicatorCode = 'NY.GDP.MKTP.KD.ZG'\n",
    "                AND CountryName IN ('China', 'India', 'Indonesia', 'Ecuador', 'Rwanda',\n",
    "                                    'Ethiopia')\"\"\", con=conn)\n",
    "GDP_growth = GDP_growth.sort_values(['CountryName', 'Year'], ascending=[1,0])"
   ]
  },
  {
   "cell_type": "code",
   "execution_count": 13,
   "metadata": {},
   "outputs": [
    {
     "data": {
      "text/plain": [
       "<matplotlib.legend.Legend at 0x15be61080>"
      ]
     },
     "execution_count": 13,
     "metadata": {},
     "output_type": "execute_result"
    },
    {
     "data": {
      "image/png": "[encoded data removed]",
      "text/plain": [
       "<matplotlib.figure.Figure at 0x10f5f6f98>"
      ]
     },
     "metadata": {},
     "output_type": "display_data"
    }
   ],
   "source": [
    "sns.set_style('whitegrid')\n",
    "sns.set_palette(\"Paired\")\n",
    "\n",
    "fig = plt.figure()\n",
    "plt.title('GDP Growth')\n",
    "plt.xlabel('Year')\n",
    "plt.ylabel('GDP Growth (Annual %)')\n",
    "\n",
    "plt.plot(GDP_growth[GDP_growth['CountryName'] == 'China'][\"Year\"], GDP_growth[GDP_growth['CountryName'] == 'China'][\"Value\"], label = 'China')\n",
    "plt.plot(GDP_growth[GDP_growth['CountryName'] == 'India'][\"Year\"], GDP_growth[GDP_growth['CountryName'] == 'India'][\"Value\"], label = 'India')\n",
    "plt.plot(GDP_growth[GDP_growth['CountryName'] == 'Indonesia'][\"Year\"], GDP_growth[GDP_growth['CountryName'] == 'Indonesia'][\"Value\"], label = 'Indonesia')\n",
    "plt.plot(GDP_growth[GDP_growth['CountryName'] == 'Ecuador'][\"Year\"], GDP_growth[GDP_growth['CountryName'] == 'Ecuador'][\"Value\"], label = 'Ecuador')\n",
    "plt.plot(GDP_growth[GDP_growth['CountryName'] == 'Ethiopia'][\"Year\"], GDP_growth[GDP_growth['CountryName'] == 'Ethiopia'][\"Value\"], label = 'Ethiopia')\n",
    "plt.plot(GDP_growth[GDP_growth['CountryName'] == 'Rwanda'][\"Year\"], GDP_growth[GDP_growth['CountryName'] == 'Rwanda'][\"Value\"], label = 'Rwanda')\n",
    "plt.legend(bbox_to_anchor=(1.01, 1), loc=2, borderaxespad=1.)"
   ]
  },
  {
   "cell_type": "markdown",
   "metadata": {},
   "source": [
    "As we can see, the annual growth rate of GDP appears to fluctuate over time due to natural variations in economic activity. However in recent times, the annual growth rates of GDP have generally been positive, signalling economic growth in these countries."
   ]
  },
  {
   "cell_type": "markdown",
   "metadata": {},
   "source": [
    "##### 3.1.2 GDP Per Capita Growth (Annual %)"
   ]
  },
  {
   "cell_type": "markdown",
   "metadata": {},
   "source": [
    "GDP per capita is gross domestic product divided by midyear population. As with the annual percentage growth rate of GDP, the annual percentage growth rate of GDP per capita is also based on constant local currency.\n",
    "\n",
    "This measure is especially useful when comparing one country to another, because it shows the relative performance of the countries."
   ]
  },
  {
   "cell_type": "code",
   "execution_count": 14,
   "metadata": {
    "collapsed": true
   },
   "outputs": [],
   "source": [
    "GDPPC_growth = pd.read_sql(\"\"\" SELECT IndicatorCode, CountryName, Year, Value\n",
    "                FROM Indicators\n",
    "                WHERE IndicatorCode = 'NY.GDP.PCAP.KD.ZG'\n",
    "                AND CountryName IN ('China', 'India', 'Indonesia', 'Ecuador', 'Rwanda',\n",
    "                                    'Ethiopia')\"\"\", con=conn)\n",
    "GDPPC_growth = GDPPC_growth.sort_values(['CountryName', 'Year'], ascending=[1,0])"
   ]
  },
  {
   "cell_type": "code",
   "execution_count": 15,
   "metadata": {},
   "outputs": [
    {
     "data": {
      "text/plain": [
       "<matplotlib.legend.Legend at 0x18be5a7f0>"
      ]
     },
     "execution_count": 15,
     "metadata": {},
     "output_type": "execute_result"
    },
    {
     "data": {
      "image/png": "[encoded data removed]",
      "text/plain": [
       "<matplotlib.figure.Figure at 0x181fdd320>"
      ]
     },
     "metadata": {},
     "output_type": "display_data"
    }
   ],
   "source": [
    "sns.set_style('whitegrid')\n",
    "sns.set_palette(\"Paired\")\n",
    "\n",
    "fig = plt.figure()\n",
    "plt.title('GDP per Capita Growth')\n",
    "plt.xlabel('Year')\n",
    "plt.ylabel('GDP per Capita Growth (Annual %)')\n",
    "\n",
    "plt.plot(GDPPC_growth[GDPPC_growth['CountryName'] == 'China'][\"Year\"], GDPPC_growth[GDPPC_growth['CountryName'] == 'China'][\"Value\"], label = 'China')\n",
    "plt.plot(GDPPC_growth[GDPPC_growth['CountryName'] == 'India'][\"Year\"], GDPPC_growth[GDPPC_growth['CountryName'] == 'India'][\"Value\"], label = 'India')\n",
    "plt.plot(GDPPC_growth[GDPPC_growth['CountryName'] == 'Indonesia'][\"Year\"], GDPPC_growth[GDPPC_growth['CountryName'] == 'Indonesia'][\"Value\"], label = 'Indonesia')\n",
    "plt.plot(GDPPC_growth[GDPPC_growth['CountryName'] == 'Ecuador'][\"Year\"], GDPPC_growth[GDPPC_growth['CountryName'] == 'Ecuador'][\"Value\"], label = 'Ecuador')\n",
    "plt.plot(GDPPC_growth[GDPPC_growth['CountryName'] == 'Ethiopia'][\"Year\"], GDPPC_growth[GDPPC_growth['CountryName'] == 'Ethiopia'][\"Value\"], label = 'Ethiopia')\n",
    "plt.plot(GDPPC_growth[GDPPC_growth['CountryName'] == 'Rwanda'][\"Year\"], GDPPC_growth[GDPPC_growth['CountryName'] == 'Rwanda'][\"Value\"], label = 'Rwanda')\n",
    "plt.legend(bbox_to_anchor=(1.01, 1), loc=2, borderaxespad=1.)"
   ]
  },
  {
   "cell_type": "markdown",
   "metadata": {},
   "source": [
    "##### 3.1.3 GDP Per Capita PPP (Purchasing Power Parity)"
   ]
  },
  {
   "cell_type": "markdown",
   "metadata": {},
   "source": [
    "While the two indicators above do allow us to compare economic activity, consumption and production between the different countries, they do not take into account the differences in cost of living as the calculations are based on nominal estimates.\n",
    "\n",
    "PPP GDP is gross domestic product converted to international dollars using purchasing power parity rates. As the PPP basis accounts for over and under-valuations in the exchange rate, it can be argued that GDP per capita PPP is a more useful measure of economic activity and standards of living across different countries.\n",
    "\n",
    "In fact, we can observe that GDP per capita PPP has indeed been rising over time for our chosen countries."
   ]
  },
  {
   "cell_type": "code",
   "execution_count": 16,
   "metadata": {
    "collapsed": true
   },
   "outputs": [],
   "source": [
    "GDPPC_PPP = pd.read_sql(\"\"\" SELECT IndicatorCode, CountryName, IndicatorName, Year, Value\n",
    "                FROM Indicators\n",
    "                WHERE IndicatorCode = 'NY.GDP.PCAP.PP.KD'\n",
    "                AND CountryName IN ('China', 'India', 'Indonesia', 'Ecuador', 'Rwanda',\n",
    "                                    'Ethiopia')\"\"\", con=conn)\n",
    "GDPPC_PPP = GDPPC_PPP.sort_values(['CountryName', 'Year'], ascending=[1,0])"
   ]
  },
  {
   "cell_type": "code",
   "execution_count": 17,
   "metadata": {},
   "outputs": [
    {
     "data": {
      "text/plain": [
       "<matplotlib.legend.Legend at 0x127112470>"
      ]
     },
     "execution_count": 17,
     "metadata": {},
     "output_type": "execute_result"
    },
    {
     "data": {
      "image/png": "[encoded data removed]",
      "text/plain": [
       "<matplotlib.figure.Figure at 0x11f830710>"
      ]
     },
     "metadata": {},
     "output_type": "display_data"
    }
   ],
   "source": [
    "sns.set_style('whitegrid')\n",
    "sns.set_palette(\"Paired\")\n",
    "\n",
    "fig = plt.figure()\n",
    "plt.title('GDP per Capita Purchasing Power Parity')\n",
    "plt.xlabel('Year')\n",
    "plt.ylabel('GDP per Capita PPP')\n",
    "\n",
    "plt.plot(GDPPC_PPP[GDPPC_PPP['CountryName'] == 'China'][\"Year\"], GDPPC_PPP[GDPPC_PPP['CountryName'] == 'China'][\"Value\"], label = 'China')\n",
    "plt.plot(GDPPC_PPP[GDPPC_PPP['CountryName'] == 'India'][\"Year\"], GDPPC_PPP[GDPPC_PPP['CountryName'] == 'India'][\"Value\"], label = 'India')\n",
    "plt.plot(GDPPC_PPP[GDPPC_PPP['CountryName'] == 'Indonesia'][\"Year\"], GDPPC_PPP[GDPPC_PPP['CountryName'] == 'Indonesia'][\"Value\"], label = 'Indonesia')\n",
    "plt.plot(GDPPC_PPP[GDPPC_PPP['CountryName'] == 'Ecuador'][\"Year\"], GDPPC_PPP[GDPPC_PPP['CountryName'] == 'Ecuador'][\"Value\"], label = 'Ecuador')\n",
    "plt.plot(GDPPC_PPP[GDPPC_PPP['CountryName'] == 'Ethiopia'][\"Year\"], GDPPC_PPP[GDPPC_PPP['CountryName'] == 'Ethiopia'][\"Value\"], label = 'Ethiopia')\n",
    "plt.plot(GDPPC_PPP[GDPPC_PPP['CountryName'] == 'Rwanda'][\"Year\"], GDPPC_PPP[GDPPC_PPP['CountryName'] == 'Rwanda'][\"Value\"], label = 'Rwanda')\n",
    "plt.legend(bbox_to_anchor=(1.01, 1), loc=2, borderaxespad=1.)"
   ]
  },
  {
   "cell_type": "markdown",
   "metadata": {},
   "source": [
    "##### 3.1.4 Household Final Consumption Expenditure Growth (Annual %)"
   ]
  },
  {
   "cell_type": "markdown",
   "metadata": {},
   "source": [
    "Household final consumption is the market value of all goods and services, including durable products purchased by households. It can be argued that consumer spending is the most important short run determinant of economic performance. \n",
    "\n",
    "The annual percentage growth of household final consumption expenditure is based on constant local currency. Overall, the annual growth rate of household final consumption expenditure also tends to fluctuate over time. "
   ]
  },
  {
   "cell_type": "code",
   "execution_count": 18,
   "metadata": {
    "collapsed": true
   },
   "outputs": [],
   "source": [
    "HC = pd.read_sql(\"\"\" SELECT IndicatorCode, CountryName, Year, Value\n",
    "                FROM Indicators\n",
    "                WHERE IndicatorCode = 'NE.CON.PRVT.KD.ZG'\n",
    "                AND CountryName IN ('China', 'India', 'Indonesia', 'Ecuador', 'Rwanda',\n",
    "                                    'Ethiopia')\"\"\", con=conn)\n",
    "HC = HC.sort_values(['CountryName', 'Year'], ascending=[1,0])"
   ]
  },
  {
   "cell_type": "code",
   "execution_count": 19,
   "metadata": {},
   "outputs": [
    {
     "data": {
      "text/plain": [
       "<matplotlib.legend.Legend at 0x138ff4fd0>"
      ]
     },
     "execution_count": 19,
     "metadata": {},
     "output_type": "execute_result"
    },
    {
     "data": {
      "image/png": "[encoded data removed]",
      "text/plain": [
       "<matplotlib.figure.Figure at 0x131cc6eb8>"
      ]
     },
     "metadata": {},
     "output_type": "display_data"
    }
   ],
   "source": [
    "sns.set_style('whitegrid')\n",
    "sns.set_palette(\"Paired\")\n",
    "\n",
    "fig = plt.figure()\n",
    "plt.title('Household Final Consumption Expenditure Growth')\n",
    "plt.xlabel('Year')\n",
    "plt.ylabel('Household Final Consumption Expenditure (Annual %)')\n",
    "\n",
    "plt.plot(HC[HC['CountryName'] == 'China'][\"Year\"], HC[HC['CountryName'] == 'China'][\"Value\"], label = 'China')\n",
    "plt.plot(HC[HC['CountryName'] == 'India'][\"Year\"], HC[HC['CountryName'] == 'India'][\"Value\"], label = 'India')\n",
    "plt.plot(HC[HC['CountryName'] == 'Indonesia'][\"Year\"], HC[HC['CountryName'] == 'Indonesia'][\"Value\"], label = 'Indonesia')\n",
    "plt.plot(HC[HC['CountryName'] == 'Ecuador'][\"Year\"], HC[HC['CountryName'] == 'Ecuador'][\"Value\"], label = 'Ecuador')\n",
    "plt.plot(HC[HC['CountryName'] == 'Ethiopia'][\"Year\"], HC[HC['CountryName'] == 'Ethiopia'][\"Value\"], label = 'Ethiopia')\n",
    "plt.plot(HC[HC['CountryName'] == 'Rwanda'][\"Year\"], HC[HC['CountryName'] == 'Rwanda'][\"Value\"], label = 'Rwanda')\n",
    "plt.legend(bbox_to_anchor=(1.01, 1), loc=2, borderaxespad=1.)"
   ]
  },
  {
   "cell_type": "markdown",
   "metadata": {},
   "source": [
    "##### 3.1.5 GINI Index"
   ]
  },
  {
   "cell_type": "markdown",
   "metadata": {},
   "source": [
    "The GINI index is a statistical measure used to represent the income or wealth distribution of a nation's citizens. It measures the extent to which the distribution of income among individuals or households within an economy deviates from a perfectly equal distribution. This is calculated by measuring the area between the Lorenz curve and a hypothetical line of absolute quality, expressed as a percentage of the maximum area under the line. A Gini index of 0 represents perfect equality, while an index of 100 implies perfect inequality.\n",
    "\n",
    "Interestingly, it appears that the positive trend in growth of GDP per capita PPP over time has not necessarily resulted in more equal distributions of income. Only in Ecuador and Ethiopia has the distribution of income become more equal over time.  "
   ]
  },
  {
   "cell_type": "code",
   "execution_count": 20,
   "metadata": {
    "collapsed": true
   },
   "outputs": [],
   "source": [
    "gini = pd.read_sql(\"\"\" SELECT IndicatorCode, CountryName, IndicatorName, Year, Value\n",
    "                FROM Indicators\n",
    "                WHERE IndicatorCode = 'SI.POV.GINI'\n",
    "                AND CountryName IN ('China', 'India', 'Indonesia', 'Ecuador', 'Rwanda',\n",
    "                                    'Ethiopia')\"\"\", con=conn)\n",
    "gini = gini.sort_values(['CountryName', 'Year'], ascending=[1,0])"
   ]
  },
  {
   "cell_type": "code",
   "execution_count": 21,
   "metadata": {},
   "outputs": [
    {
     "data": {
      "image/png": "[encoded data removed]",
      "text/plain": [
       "<matplotlib.figure.Figure at 0x1419ddf98>"
      ]
     },
     "metadata": {},
     "output_type": "display_data"
    }
   ],
   "source": [
    "sns.set_style('whitegrid')\n",
    "f, ((ax1, ax2), (ax3, ax4), (ax5, ax6)) = plt.subplots(3,2,figsize=(10,10))\n",
    "\n",
    "# Plot of GINI Index of China\n",
    "points = ax1.scatter(gini[gini['CountryName'] == 'China'][\"Year\"], gini[gini['CountryName'] == 'China'][\"Value\"],\n",
    "                    c=gini[gini['CountryName'] == 'China'][\"Value\"], s=100, cmap=\"viridis\")\n",
    "sns.regplot(\"Year\", \"Value\", data=gini[gini['CountryName'] == 'China'], ax=ax1)\n",
    "ax1.set_title(\"GINI Index of China\")\n",
    "\n",
    "# Plot of GINI Index of Ethiopia\n",
    "points = ax2.scatter(gini[gini['CountryName'] == 'Ethiopia'][\"Year\"], gini[gini['CountryName'] == 'Ethiopia'][\"Value\"],\n",
    "                    c=gini[gini['CountryName'] == 'Ethiopia'][\"Value\"], s=85, cmap=\"viridis\")\n",
    "sns.regplot(\"Year\", \"Value\", data=gini[gini['CountryName'] == 'Ethiopia'], ax=ax2)\n",
    "ax2.set_title(\"GINI Index of Ethiopia\")\n",
    "\n",
    "# Plot of GINI Index of India\n",
    "points = ax3.scatter(gini[gini['CountryName'] == 'India'][\"Year\"], gini[gini['CountryName'] == 'India'][\"Value\"],\n",
    "                    c=gini[gini['CountryName'] == 'India'][\"Value\"], s=100, cmap=\"Blues\")\n",
    "sns.regplot(\"Year\", \"Value\", data=gini[gini['CountryName'] == 'India'], ax=ax3)\n",
    "ax3.set_title(\"GINI Index of India\")\n",
    "\n",
    "\n",
    "# Plot of GNI Index of Ecuador\n",
    "point = ax4.scatter(gini[gini['CountryName'] == 'Ecuador'][\"Year\"], gini[gini['CountryName'] == 'Ecuador'][\"Value\"],\n",
    "                   c=gini[gini['CountryName'] == 'Ecuador'][\"Value\"], s=100, cmap=\"YlOrBr\")\n",
    "sns.regplot(\"Year\", \"Value\", data=gini[gini['CountryName'] == 'Ecuador'], ax=ax4)\n",
    "ax4.set_title(\"GINI Index of Ecuador\")\n",
    "\n",
    "# Plot of GNI Index of Indonesia\n",
    "point = ax5.scatter(gini[gini['CountryName'] == 'Indonesia'][\"Year\"], gini[gini['CountryName'] == 'Indonesia'][\"Value\"],\n",
    "                   c=gini[gini['CountryName'] == 'Indonesia'][\"Value\"], s=100, cmap=\"YlOrBr\")\n",
    "sns.regplot(\"Year\", \"Value\", data=gini[gini['CountryName'] == 'Indonesia'], ax=ax5)\n",
    "ax5.set_title(\"GINI Index of Indonesia\")\n",
    "\n",
    "# Plot of GNI Index of Rwanda\n",
    "point = ax6.scatter(gini[gini['CountryName'] == 'Rwanda'][\"Year\"], gini[gini['CountryName'] == 'Rwanda'][\"Value\"],\n",
    "                   c=gini[gini['CountryName'] == 'Rwanda'][\"Value\"], s=100, cmap=\"YlOrBr\")\n",
    "sns.regplot(\"Year\", \"Value\", data=gini[gini['CountryName'] == 'Rwanda'], ax=ax6)\n",
    "ax6.set_title(\"GINI Index of Rwanda\")\n",
    "\n",
    "plt.subplots_adjust(wspace=0.25, hspace=0.5)"
   ]
  },
  {
   "cell_type": "markdown",
   "metadata": {},
   "source": [
    "##### 3.1.6 Income Distribution and Income Share"
   ]
  },
  {
   "cell_type": "markdown",
   "metadata": {},
   "source": [
    "These trends can be affirmed by examining the share of income belonging to each quintile of the general population within each economy.\n",
    "\n",
    "In China, the share of income held by the lowest quintile has been rapidly dropping over the years from roughly 8.86% in 1981 to 4.67% in 2010. We also see similar patterns for the second and third quintiles. The share of income belonging to the fourth quintile has remained roughly the same, while the share of income belonging to the highest quintile has actually increased by roughly 10% over the last 30 years. "
   ]
  },
  {
   "cell_type": "code",
   "execution_count": 22,
   "metadata": {
    "collapsed": true
   },
   "outputs": [],
   "source": [
    "CHN_income_share = pd.read_sql(\"\"\" SELECT IndicatorCode, CountryName, Year, Value\n",
    "                FROM Indicators\n",
    "                WHERE IndicatorCode IN ('SI.DST.FRST.10', 'SI.DST.10TH.10', 'SI.DST.FRST.20', \n",
    "                'SI.DST.02ND.20', 'SI.DST.03RD.20', 'SI.DST.04TH.20', 'SI.DST.05TH.20')\n",
    "                AND CountryName = 'China'\"\"\", con=conn)\n",
    "\n",
    "IND_income_share = pd.read_sql(\"\"\" SELECT IndicatorCode, CountryName, Year, Value\n",
    "                FROM Indicators\n",
    "                WHERE IndicatorCode IN ('SI.DST.FRST.10', 'SI.DST.10TH.10', 'SI.DST.FRST.20', \n",
    "                'SI.DST.02ND.20', 'SI.DST.03RD.20', 'SI.DST.04TH.20', 'SI.DST.05TH.20')\n",
    "                AND CountryName = 'India'\"\"\", con=conn)\n",
    "\n",
    "IDN_income_share = pd.read_sql(\"\"\" SELECT IndicatorCode, CountryName, Year, Value\n",
    "                FROM Indicators\n",
    "                WHERE IndicatorCode IN ('SI.DST.FRST.10', 'SI.DST.10TH.10', 'SI.DST.FRST.20', \n",
    "                'SI.DST.02ND.20', 'SI.DST.03RD.20', 'SI.DST.04TH.20', 'SI.DST.05TH.20')\n",
    "                AND CountryName = 'Indonesia'\"\"\", con=conn)\n",
    "\n",
    "ECU_income_share = pd.read_sql(\"\"\" SELECT IndicatorCode, CountryName, Year, Value\n",
    "                FROM Indicators\n",
    "                WHERE IndicatorCode IN ('SI.DST.FRST.10', 'SI.DST.10TH.10', 'SI.DST.FRST.20', \n",
    "                'SI.DST.02ND.20', 'SI.DST.03RD.20', 'SI.DST.04TH.20', 'SI.DST.05TH.20')\n",
    "                AND CountryName = 'Ecuador'\"\"\", con=conn)\n",
    "\n",
    "ETH_income_share = pd.read_sql(\"\"\" SELECT IndicatorCode, CountryName, Year, Value\n",
    "                FROM Indicators\n",
    "                WHERE IndicatorCode IN ('SI.DST.FRST.10', 'SI.DST.10TH.10', 'SI.DST.FRST.20', \n",
    "                'SI.DST.02ND.20', 'SI.DST.03RD.20', 'SI.DST.04TH.20', 'SI.DST.05TH.20')\n",
    "                AND CountryName = 'Ethiopia'\"\"\", con=conn)\n",
    "\n",
    "RWA_income_share = pd.read_sql(\"\"\" SELECT IndicatorCode, CountryName, Year, Value\n",
    "                FROM Indicators\n",
    "                WHERE IndicatorCode IN ('SI.DST.FRST.10', 'SI.DST.10TH.10', 'SI.DST.FRST.20', \n",
    "                'SI.DST.02ND.20', 'SI.DST.03RD.20', 'SI.DST.04TH.20', 'SI.DST.05TH.20')\n",
    "                AND CountryName = 'Rwanda'\"\"\", con=conn)\n",
    "\n",
    "frames = [CHN_income_share, IND_income_share, IDN_income_share, ECU_income_share, ETH_income_share, RWA_income_share]\n",
    "income_share = pd.concat(frames)"
   ]
  },
  {
   "cell_type": "code",
   "execution_count": 23,
   "metadata": {},
   "outputs": [
    {
     "data": {
      "application/vnd.plotly.v1+json": {
       "data": [
        {
         "marker": {
          "color": "rgb(237,248,251)"
         },
         "name": "Income Share Held By Lowest 20%",
         "type": "bar",
         "x": [
          1981,
          1984,
          1985,
          1987,
          1990,
          1993,
          1996,
          1999,
          2002,
          2005,
          2008,
          2010
         ],
         "y": [
          8.68,
          8.86,
          9.23,
          7.99,
          8.04,
          7.35,
          7.24,
          6.39,
          5.47,
          5.02,
          4.78,
          4.67
         ]
        },
        {
         "marker": {
          "color": "rgb(178,226,226)"
         },
         "name": "Income Share Held By Second 20%",
         "type": "bar",
         "x": [
          1981,
          1984,
          1985,
          1987,
          1990,
          1993,
          1996,
          1999,
          2002,
          2005,
          2008,
          2010
         ],
         "y": [
          13.13,
          13.53,
          13.94,
          13.06,
          12.15,
          11.32,
          11.31,
          10.29,
          9.37,
          9.81,
          9.65,
          9.74
         ]
        },
        {
         "marker": {
          "color": "rgb(102,194,164)"
         },
         "name": "Income Share Held By Third 20%",
         "type": "bar",
         "x": [
          1981,
          1984,
          1985,
          1987,
          1990,
          1993,
          1996,
          1999,
          2002,
          2005,
          2008,
          2010
         ],
         "y": [
          17.37,
          17.8,
          17.78,
          17.63,
          16.52,
          15.8,
          15.82,
          15.01,
          14.33,
          14.95,
          15,
          15.31
         ]
        },
        {
         "marker": {
          "color": "rgb(44,162,95)"
         },
         "name": "Income Share Held By Fourth 20%",
         "type": "bar",
         "x": [
          1981,
          1984,
          1985,
          1987,
          1990,
          1993,
          1996,
          1999,
          2002,
          2005,
          2008,
          2010
         ],
         "y": [
          22.89,
          23.19,
          22.45,
          23.38,
          22.56,
          22.3,
          22.3,
          22.2,
          22.19,
          22.23,
          22.7,
          23.2
         ]
        },
        {
         "marker": {
          "color": "rgb(0,109,44)"
         },
         "name": "Income Share Held By Highest 20%",
         "type": "bar",
         "x": [
          1981,
          1984,
          1985,
          1987,
          1990,
          1993,
          1996,
          1999,
          2002,
          2005,
          2008,
          2010
         ],
         "y": [
          37.94,
          36.62,
          36.58,
          37.94,
          40.73,
          43.23,
          43.31,
          46.11,
          48.65,
          48,
          47.87,
          47.09
         ]
        }
       ],
       "layout": {
        "barmode": "stack",
        "title": "Income Distribution (By Quintiles) - China"
       }
      },
      "text/html": [
       "<div id=\"65300d60-06ff-45dd-8b85-006b7daf0f5a\" style=\"height: 525px; width: 100%;\" class=\"plotly-graph-div\"></div><script type=\"text/javascript\">require([\"plotly\"], function(Plotly) { window.PLOTLYENV=window.PLOTLYENV || {};window.PLOTLYENV.BASE_URL=\"https://plot.ly\";Plotly.newPlot(\"65300d60-06ff-45dd-8b85-006b7daf0f5a\", [{\"type\": \"bar\", \"x\": [1981, 1984, 1985, 1987, 1990, 1993, 1996, 1999, 2002, 2005, 2008, 2010], \"y\": [8.68, 8.86, 9.23, 7.99, 8.04, 7.35, 7.24, 6.39, 5.47, 5.02, 4.78, 4.67], \"name\": \"Income Share Held By Lowest 20%\", \"marker\": {\"color\": \"rgb(237,248,251)\"}}, {\"type\": \"bar\", \"x\": [1981, 1984, 1985, 1987, 1990, 1993, 1996, 1999, 2002, 2005, 2008, 2010], \"y\": [13.13, 13.53, 13.94, 13.06, 12.15, 11.32, 11.31, 10.29, 9.37, 9.81, 9.65, 9.74], \"name\": \"Income Share Held By Second 20%\", \"marker\": {\"color\": \"rgb(178,226,226)\"}}, {\"type\": \"bar\", \"x\": [1981, 1984, 1985, 1987, 1990, 1993, 1996, 1999, 2002, 2005, 2008, 2010], \"y\": [17.37, 17.8, 17.78, 17.63, 16.52, 15.8, 15.82, 15.01, 14.33, 14.95, 15.0, 15.31], \"name\": \"Income Share Held By Third 20%\", \"marker\": {\"color\": \"rgb(102,194,164)\"}}, {\"type\": \"bar\", \"x\": [1981, 1984, 1985, 1987, 1990, 1993, 1996, 1999, 2002, 2005, 2008, 2010], \"y\": [22.89, 23.19, 22.45, 23.38, 22.56, 22.3, 22.3, 22.2, 22.19, 22.23, 22.7, 23.2], \"name\": \"Income Share Held By Fourth 20%\", \"marker\": {\"color\": \"rgb(44,162,95)\"}}, {\"type\": \"bar\", \"x\": [1981, 1984, 1985, 1987, 1990, 1993, 1996, 1999, 2002, 2005, 2008, 2010], \"y\": [37.94, 36.62, 36.58, 37.94, 40.73, 43.23, 43.31, 46.11, 48.65, 48.0, 47.87, 47.09], \"name\": \"Income Share Held By Highest 20%\", \"marker\": {\"color\": \"rgb(0,109,44)\"}}], {\"title\": \"Income Distribution (By Quintiles) - China\", \"barmode\": \"stack\"}, {\"showLink\": true, \"linkText\": \"Export to plot.ly\"})});</script>"
      ],
      "text/vnd.plotly.v1+html": [
       "<div id=\"65300d60-06ff-45dd-8b85-006b7daf0f5a\" style=\"height: 525px; width: 100%;\" class=\"plotly-graph-div\"></div><script type=\"text/javascript\">require([\"plotly\"], function(Plotly) { window.PLOTLYENV=window.PLOTLYENV || {};window.PLOTLYENV.BASE_URL=\"https://plot.ly\";Plotly.newPlot(\"65300d60-06ff-45dd-8b85-006b7daf0f5a\", [{\"type\": \"bar\", \"x\": [1981, 1984, 1985, 1987, 1990, 1993, 1996, 1999, 2002, 2005, 2008, 2010], \"y\": [8.68, 8.86, 9.23, 7.99, 8.04, 7.35, 7.24, 6.39, 5.47, 5.02, 4.78, 4.67], \"name\": \"Income Share Held By Lowest 20%\", \"marker\": {\"color\": \"rgb(237,248,251)\"}}, {\"type\": \"bar\", \"x\": [1981, 1984, 1985, 1987, 1990, 1993, 1996, 1999, 2002, 2005, 2008, 2010], \"y\": [13.13, 13.53, 13.94, 13.06, 12.15, 11.32, 11.31, 10.29, 9.37, 9.81, 9.65, 9.74], \"name\": \"Income Share Held By Second 20%\", \"marker\": {\"color\": \"rgb(178,226,226)\"}}, {\"type\": \"bar\", \"x\": [1981, 1984, 1985, 1987, 1990, 1993, 1996, 1999, 2002, 2005, 2008, 2010], \"y\": [17.37, 17.8, 17.78, 17.63, 16.52, 15.8, 15.82, 15.01, 14.33, 14.95, 15.0, 15.31], \"name\": \"Income Share Held By Third 20%\", \"marker\": {\"color\": \"rgb(102,194,164)\"}}, {\"type\": \"bar\", \"x\": [1981, 1984, 1985, 1987, 1990, 1993, 1996, 1999, 2002, 2005, 2008, 2010], \"y\": [22.89, 23.19, 22.45, 23.38, 22.56, 22.3, 22.3, 22.2, 22.19, 22.23, 22.7, 23.2], \"name\": \"Income Share Held By Fourth 20%\", \"marker\": {\"color\": \"rgb(44,162,95)\"}}, {\"type\": \"bar\", \"x\": [1981, 1984, 1985, 1987, 1990, 1993, 1996, 1999, 2002, 2005, 2008, 2010], \"y\": [37.94, 36.62, 36.58, 37.94, 40.73, 43.23, 43.31, 46.11, 48.65, 48.0, 47.87, 47.09], \"name\": \"Income Share Held By Highest 20%\", \"marker\": {\"color\": \"rgb(0,109,44)\"}}], {\"title\": \"Income Distribution (By Quintiles) - China\", \"barmode\": \"stack\"}, {\"showLink\": true, \"linkText\": \"Export to plot.ly\"})});</script>"
      ]
     },
     "metadata": {},
     "output_type": "display_data"
    }
   ],
   "source": [
    "trace1 = go.Bar(\n",
    "    x = CHN_income_share[CHN_income_share['IndicatorCode'] == 'SI.DST.FRST.20'][\"Year\"],\n",
    "    y = CHN_income_share[CHN_income_share['IndicatorCode'] == 'SI.DST.FRST.20'][\"Value\"],\n",
    "    name = 'Income Share Held By Lowest 20%',\n",
    "    marker = dict(\n",
    "        color='rgb(237,248,251)'\n",
    "    )\n",
    ")\n",
    "\n",
    "trace2 = go.Bar(\n",
    "    x = CHN_income_share[CHN_income_share['IndicatorCode'] == 'SI.DST.02ND.20'][\"Year\"],\n",
    "    y = CHN_income_share[CHN_income_share['IndicatorCode'] == 'SI.DST.02ND.20'][\"Value\"],\n",
    "    name = 'Income Share Held By Second 20%',\n",
    "    marker = dict(\n",
    "        color='rgb(178,226,226)'\n",
    "    )\n",
    ")\n",
    "\n",
    "trace3 = go.Bar(\n",
    "    x = CHN_income_share[CHN_income_share['IndicatorCode'] == 'SI.DST.03RD.20'][\"Year\"],\n",
    "    y = CHN_income_share[CHN_income_share['IndicatorCode'] == 'SI.DST.03RD.20'][\"Value\"],\n",
    "    name = 'Income Share Held By Third 20%',\n",
    "    marker = dict(\n",
    "        color='rgb(102,194,164)'\n",
    "    )\n",
    ")\n",
    "\n",
    "trace4 = go.Bar(\n",
    "    x = CHN_income_share[CHN_income_share['IndicatorCode'] == 'SI.DST.04TH.20'][\"Year\"],\n",
    "    y = CHN_income_share[CHN_income_share['IndicatorCode'] == 'SI.DST.04TH.20'][\"Value\"],\n",
    "    name = 'Income Share Held By Fourth 20%',\n",
    "    marker = dict(\n",
    "        color='rgb(44,162,95)'\n",
    "    )\n",
    ")\n",
    "\n",
    "trace5 = go.Bar(\n",
    "    x = CHN_income_share[CHN_income_share['IndicatorCode'] == 'SI.DST.05TH.20'][\"Year\"],\n",
    "    y = CHN_income_share[CHN_income_share['IndicatorCode'] == 'SI.DST.05TH.20'][\"Value\"],\n",
    "    name = 'Income Share Held By Highest 20%',\n",
    "    marker = dict(\n",
    "        color='rgb(0,109,44)'\n",
    "    )    \n",
    ")\n",
    "\n",
    "data = [trace1, trace2, trace3, trace4, trace5]\n",
    "layout = go.Layout(\n",
    "    title = 'Income Distribution (By Quintiles) - China',\n",
    "    barmode='stack'\n",
    ")\n",
    "\n",
    "fig = go.Figure(data=data, layout=layout)\n",
    "py.iplot(fig, filename='stacked-bar')"
   ]
  },
  {
   "cell_type": "code",
   "execution_count": 24,
   "metadata": {},
   "outputs": [
    {
     "data": {
      "application/vnd.plotly.v1+json": {
       "data": [
        {
         "name": "Income Share Held By Lowest 10%",
         "type": "bar",
         "x": [
          1981,
          1984,
          1985,
          1987,
          1990,
          1993,
          1996,
          1999,
          2002,
          2005,
          2008,
          2010
         ],
         "y": [
          3.72,
          3.76,
          3.88,
          3.26,
          3.49,
          3.18,
          3.11,
          2.73,
          2.28,
          1.89,
          1.77,
          1.69
         ]
        },
        {
         "marker": {
          "color": "rgb(158,202,225)"
         },
         "name": "Income Share Held By Highest 10%",
         "type": "bar",
         "x": [
          1981,
          1984,
          1985,
          1987,
          1990,
          1993,
          1996,
          1999,
          2002,
          2005,
          2008,
          2010
         ],
         "y": [
          22.86,
          21.6,
          22.3,
          22.59,
          25.27,
          27.44,
          27.55,
          29.72,
          31.67,
          31.69,
          31.05,
          29.98
         ]
        }
       ],
       "layout": {
        "barmode": "stack",
        "title": "Income Distribution - China"
       }
      },
      "text/html": [
       "<div id=\"0deb6731-11dd-4314-857e-7cb714f08a0b\" style=\"height: 525px; width: 100%;\" class=\"plotly-graph-div\"></div><script type=\"text/javascript\">require([\"plotly\"], function(Plotly) { window.PLOTLYENV=window.PLOTLYENV || {};window.PLOTLYENV.BASE_URL=\"https://plot.ly\";Plotly.newPlot(\"0deb6731-11dd-4314-857e-7cb714f08a0b\", [{\"type\": \"bar\", \"x\": [1981, 1984, 1985, 1987, 1990, 1993, 1996, 1999, 2002, 2005, 2008, 2010], \"y\": [3.72, 3.76, 3.88, 3.26, 3.49, 3.18, 3.11, 2.73, 2.28, 1.89, 1.77, 1.69], \"name\": \"Income Share Held By Lowest 10%\"}, {\"type\": \"bar\", \"x\": [1981, 1984, 1985, 1987, 1990, 1993, 1996, 1999, 2002, 2005, 2008, 2010], \"y\": [22.86, 21.6, 22.3, 22.59, 25.27, 27.44, 27.55, 29.72, 31.67, 31.69, 31.05, 29.98], \"name\": \"Income Share Held By Highest 10%\", \"marker\": {\"color\": \"rgb(158,202,225)\"}}], {\"title\": \"Income Distribution - China\", \"barmode\": \"stack\"}, {\"showLink\": true, \"linkText\": \"Export to plot.ly\"})});</script>"
      ],
      "text/vnd.plotly.v1+html": [
       "<div id=\"0deb6731-11dd-4314-857e-7cb714f08a0b\" style=\"height: 525px; width: 100%;\" class=\"plotly-graph-div\"></div><script type=\"text/javascript\">require([\"plotly\"], function(Plotly) { window.PLOTLYENV=window.PLOTLYENV || {};window.PLOTLYENV.BASE_URL=\"https://plot.ly\";Plotly.newPlot(\"0deb6731-11dd-4314-857e-7cb714f08a0b\", [{\"type\": \"bar\", \"x\": [1981, 1984, 1985, 1987, 1990, 1993, 1996, 1999, 2002, 2005, 2008, 2010], \"y\": [3.72, 3.76, 3.88, 3.26, 3.49, 3.18, 3.11, 2.73, 2.28, 1.89, 1.77, 1.69], \"name\": \"Income Share Held By Lowest 10%\"}, {\"type\": \"bar\", \"x\": [1981, 1984, 1985, 1987, 1990, 1993, 1996, 1999, 2002, 2005, 2008, 2010], \"y\": [22.86, 21.6, 22.3, 22.59, 25.27, 27.44, 27.55, 29.72, 31.67, 31.69, 31.05, 29.98], \"name\": \"Income Share Held By Highest 10%\", \"marker\": {\"color\": \"rgb(158,202,225)\"}}], {\"title\": \"Income Distribution - China\", \"barmode\": \"stack\"}, {\"showLink\": true, \"linkText\": \"Export to plot.ly\"})});</script>"
      ]
     },
     "metadata": {},
     "output_type": "display_data"
    }
   ],
   "source": [
    "trace1 = go.Bar(\n",
    "    x = CHN_income_share[CHN_income_share['IndicatorCode'] == 'SI.DST.FRST.10'][\"Year\"],\n",
    "    y = CHN_income_share[CHN_income_share['IndicatorCode'] == 'SI.DST.FRST.10'][\"Value\"],\n",
    "    name = 'Income Share Held By Lowest 10%'\n",
    ")\n",
    "\n",
    "trace2 = go.Bar(\n",
    "    x = CHN_income_share[CHN_income_share['IndicatorCode'] == 'SI.DST.10TH.10'][\"Year\"],\n",
    "    y = CHN_income_share[CHN_income_share['IndicatorCode'] == 'SI.DST.10TH.10'][\"Value\"],\n",
    "    name = 'Income Share Held By Highest 10%',\n",
    "    marker = dict(\n",
    "        color='rgb(158,202,225)'\n",
    "    )\n",
    ")\n",
    "\n",
    "data = [trace1, trace2]\n",
    "layout = go.Layout(\n",
    "    title = 'Income Distribution - China',\n",
    "    barmode='stack'\n",
    ")\n",
    "\n",
    "fig = go.Figure(data=data, layout=layout)\n",
    "py.iplot(fig, filename='stacked-bar')"
   ]
  },
  {
   "cell_type": "markdown",
   "metadata": {},
   "source": [
    "Additionally, we observe similar trends in India, Indonesia and Rwanda, where the share of income belonging to each of the bottom four quintiles has decreased over time while the share of income belonging to the top quintile has increased."
   ]
  },
  {
   "cell_type": "code",
   "execution_count": 25,
   "metadata": {},
   "outputs": [
    {
     "data": {
      "application/vnd.plotly.v1+json": {
       "data": [
        {
         "marker": {
          "color": "rgb(237,248,251)"
         },
         "name": "Income Share Held By Lowest 20%",
         "type": "bar",
         "x": [
          1983,
          1987,
          1993,
          2004,
          2009,
          2011
         ],
         "y": [
          8.69,
          8.84,
          9.09,
          8.63,
          8.54,
          8.2
         ]
        },
        {
         "marker": {
          "color": "rgb(178,226,226)"
         },
         "name": "Income Share Held By Second 20%",
         "type": "bar",
         "x": [
          1983,
          1987,
          1993,
          2004,
          2009,
          2011
         ],
         "y": [
          12.76,
          12.58,
          12.82,
          12.22,
          12.14,
          11.79
         ]
        },
        {
         "marker": {
          "color": "rgb(102,194,164)"
         },
         "name": "Income Share Held By Third 20%",
         "type": "bar",
         "x": [
          1983,
          1987,
          1993,
          2004,
          2009,
          2011
         ],
         "y": [
          16.65,
          16.26,
          16.45,
          15.81,
          15.69,
          15.24
         ]
        },
        {
         "marker": {
          "color": "rgb(44,162,95)"
         },
         "name": "Income Share Held By Fourth 20%",
         "type": "bar",
         "x": [
          1983,
          1987,
          1993,
          2004,
          2009,
          2011
         ],
         "y": [
          21.76,
          21.24,
          21.51,
          20.97,
          20.81,
          20.54
         ]
        },
        {
         "marker": {
          "color": "rgb(0,109,44)"
         },
         "name": "Income Share Held By Highest 20%",
         "type": "bar",
         "x": [
          1983,
          1987,
          1993,
          2004,
          2009,
          2011
         ],
         "y": [
          40.14,
          41.08,
          40.14,
          42.35,
          42.82,
          44.22
         ]
        }
       ],
       "layout": {
        "barmode": "stack",
        "title": "Income Distribution (By Quintiles) - India"
       }
      },
      "text/html": [
       "<div id=\"1bdc554e-d875-4246-9d0e-92bc8310273e\" style=\"height: 525px; width: 100%;\" class=\"plotly-graph-div\"></div><script type=\"text/javascript\">require([\"plotly\"], function(Plotly) { window.PLOTLYENV=window.PLOTLYENV || {};window.PLOTLYENV.BASE_URL=\"https://plot.ly\";Plotly.newPlot(\"1bdc554e-d875-4246-9d0e-92bc8310273e\", [{\"type\": \"bar\", \"x\": [1983, 1987, 1993, 2004, 2009, 2011], \"y\": [8.69, 8.84, 9.09, 8.63, 8.54, 8.2], \"name\": \"Income Share Held By Lowest 20%\", \"marker\": {\"color\": \"rgb(237,248,251)\"}}, {\"type\": \"bar\", \"x\": [1983, 1987, 1993, 2004, 2009, 2011], \"y\": [12.76, 12.58, 12.82, 12.22, 12.14, 11.79], \"name\": \"Income Share Held By Second 20%\", \"marker\": {\"color\": \"rgb(178,226,226)\"}}, {\"type\": \"bar\", \"x\": [1983, 1987, 1993, 2004, 2009, 2011], \"y\": [16.65, 16.26, 16.45, 15.81, 15.69, 15.24], \"name\": \"Income Share Held By Third 20%\", \"marker\": {\"color\": \"rgb(102,194,164)\"}}, {\"type\": \"bar\", \"x\": [1983, 1987, 1993, 2004, 2009, 2011], \"y\": [21.76, 21.24, 21.51, 20.97, 20.81, 20.54], \"name\": \"Income Share Held By Fourth 20%\", \"marker\": {\"color\": \"rgb(44,162,95)\"}}, {\"type\": \"bar\", \"x\": [1983, 1987, 1993, 2004, 2009, 2011], \"y\": [40.14, 41.08, 40.14, 42.35, 42.82, 44.22], \"name\": \"Income Share Held By Highest 20%\", \"marker\": {\"color\": \"rgb(0,109,44)\"}}], {\"title\": \"Income Distribution (By Quintiles) - India\", \"barmode\": \"stack\"}, {\"showLink\": true, \"linkText\": \"Export to plot.ly\"})});</script>"
      ],
      "text/vnd.plotly.v1+html": [
       "<div id=\"1bdc554e-d875-4246-9d0e-92bc8310273e\" style=\"height: 525px; width: 100%;\" class=\"plotly-graph-div\"></div><script type=\"text/javascript\">require([\"plotly\"], function(Plotly) { window.PLOTLYENV=window.PLOTLYENV || {};window.PLOTLYENV.BASE_URL=\"https://plot.ly\";Plotly.newPlot(\"1bdc554e-d875-4246-9d0e-92bc8310273e\", [{\"type\": \"bar\", \"x\": [1983, 1987, 1993, 2004, 2009, 2011], \"y\": [8.69, 8.84, 9.09, 8.63, 8.54, 8.2], \"name\": \"Income Share Held By Lowest 20%\", \"marker\": {\"color\": \"rgb(237,248,251)\"}}, {\"type\": \"bar\", \"x\": [1983, 1987, 1993, 2004, 2009, 2011], \"y\": [12.76, 12.58, 12.82, 12.22, 12.14, 11.79], \"name\": \"Income Share Held By Second 20%\", \"marker\": {\"color\": \"rgb(178,226,226)\"}}, {\"type\": \"bar\", \"x\": [1983, 1987, 1993, 2004, 2009, 2011], \"y\": [16.65, 16.26, 16.45, 15.81, 15.69, 15.24], \"name\": \"Income Share Held By Third 20%\", \"marker\": {\"color\": \"rgb(102,194,164)\"}}, {\"type\": \"bar\", \"x\": [1983, 1987, 1993, 2004, 2009, 2011], \"y\": [21.76, 21.24, 21.51, 20.97, 20.81, 20.54], \"name\": \"Income Share Held By Fourth 20%\", \"marker\": {\"color\": \"rgb(44,162,95)\"}}, {\"type\": \"bar\", \"x\": [1983, 1987, 1993, 2004, 2009, 2011], \"y\": [40.14, 41.08, 40.14, 42.35, 42.82, 44.22], \"name\": \"Income Share Held By Highest 20%\", \"marker\": {\"color\": \"rgb(0,109,44)\"}}], {\"title\": \"Income Distribution (By Quintiles) - India\", \"barmode\": \"stack\"}, {\"showLink\": true, \"linkText\": \"Export to plot.ly\"})});</script>"
      ]
     },
     "metadata": {},
     "output_type": "display_data"
    }
   ],
   "source": [
    "trace1 = go.Bar(\n",
    "    x = IND_income_share[IND_income_share['IndicatorCode'] == 'SI.DST.FRST.20'][\"Year\"],\n",
    "    y = IND_income_share[IND_income_share['IndicatorCode'] == 'SI.DST.FRST.20'][\"Value\"],\n",
    "    name = 'Income Share Held By Lowest 20%',\n",
    "    marker = dict(\n",
    "        color='rgb(237,248,251)'\n",
    "    )\n",
    ")\n",
    "\n",
    "trace2 = go.Bar(\n",
    "    x = IND_income_share[IND_income_share['IndicatorCode'] == 'SI.DST.02ND.20'][\"Year\"],\n",
    "    y = IND_income_share[IND_income_share['IndicatorCode'] == 'SI.DST.02ND.20'][\"Value\"],\n",
    "    name = 'Income Share Held By Second 20%',\n",
    "    marker = dict(\n",
    "        color='rgb(178,226,226)'\n",
    "    )\n",
    ")\n",
    "\n",
    "trace3 = go.Bar(\n",
    "    x = IND_income_share[IND_income_share['IndicatorCode'] == 'SI.DST.03RD.20'][\"Year\"],\n",
    "    y = IND_income_share[IND_income_share['IndicatorCode'] == 'SI.DST.03RD.20'][\"Value\"],\n",
    "    name = 'Income Share Held By Third 20%',\n",
    "    marker = dict(\n",
    "        color='rgb(102,194,164)'\n",
    "    )\n",
    ")\n",
    "\n",
    "trace4 = go.Bar(\n",
    "    x = IND_income_share[IND_income_share['IndicatorCode'] == 'SI.DST.04TH.20'][\"Year\"],\n",
    "    y = IND_income_share[IND_income_share['IndicatorCode'] == 'SI.DST.04TH.20'][\"Value\"],\n",
    "    name = 'Income Share Held By Fourth 20%',\n",
    "    marker = dict(\n",
    "        color='rgb(44,162,95)'\n",
    "    )\n",
    ")\n",
    "\n",
    "trace5 = go.Bar(\n",
    "    x = IND_income_share[IND_income_share['IndicatorCode'] == 'SI.DST.05TH.20'][\"Year\"],\n",
    "    y = IND_income_share[IND_income_share['IndicatorCode'] == 'SI.DST.05TH.20'][\"Value\"],\n",
    "    name = 'Income Share Held By Highest 20%',\n",
    "    marker = dict(\n",
    "        color='rgb(0,109,44)'\n",
    "    )\n",
    ")\n",
    "\n",
    "data = [trace1, trace2, trace3, trace4, trace5]\n",
    "layout = go.Layout(\n",
    "    title = 'Income Distribution (By Quintiles) - India',\n",
    "    barmode='stack'\n",
    ")\n",
    "\n",
    "fig = go.Figure(data=data, layout=layout)\n",
    "py.iplot(fig, filename='stacked-bar')"
   ]
  },
  {
   "cell_type": "code",
   "execution_count": 26,
   "metadata": {},
   "outputs": [
    {
     "data": {
      "application/vnd.plotly.v1+json": {
       "data": [
        {
         "name": "Income Share Held By Lowest 10%",
         "type": "bar",
         "x": [
          1983,
          1987,
          1993,
          2004,
          2009,
          2011
         ],
         "y": [
          3.77,
          3.91,
          3.95,
          3.75,
          3.69,
          3.52
         ]
        },
        {
         "marker": {
          "color": "rgb(158,202,225)"
         },
         "name": "Income Share Held By Highest 10%",
         "type": "bar",
         "x": [
          1983,
          1987,
          1993,
          2004,
          2009,
          2011
         ],
         "y": [
          25.72,
          26.96,
          25.98,
          28.26,
          28.79,
          29.98
         ]
        }
       ],
       "layout": {
        "barmode": "stack",
        "title": "Income Distribution - India"
       }
      },
      "text/html": [
       "<div id=\"c37ba3f3-3f5a-4882-8f8e-79a958eda89a\" style=\"height: 525px; width: 100%;\" class=\"plotly-graph-div\"></div><script type=\"text/javascript\">require([\"plotly\"], function(Plotly) { window.PLOTLYENV=window.PLOTLYENV || {};window.PLOTLYENV.BASE_URL=\"https://plot.ly\";Plotly.newPlot(\"c37ba3f3-3f5a-4882-8f8e-79a958eda89a\", [{\"type\": \"bar\", \"x\": [1983, 1987, 1993, 2004, 2009, 2011], \"y\": [3.77, 3.91, 3.95, 3.75, 3.69, 3.52], \"name\": \"Income Share Held By Lowest 10%\"}, {\"type\": \"bar\", \"x\": [1983, 1987, 1993, 2004, 2009, 2011], \"y\": [25.72, 26.96, 25.98, 28.26, 28.79, 29.98], \"name\": \"Income Share Held By Highest 10%\", \"marker\": {\"color\": \"rgb(158,202,225)\"}}], {\"title\": \"Income Distribution - India\", \"barmode\": \"stack\"}, {\"showLink\": true, \"linkText\": \"Export to plot.ly\"})});</script>"
      ],
      "text/vnd.plotly.v1+html": [
       "<div id=\"c37ba3f3-3f5a-4882-8f8e-79a958eda89a\" style=\"height: 525px; width: 100%;\" class=\"plotly-graph-div\"></div><script type=\"text/javascript\">require([\"plotly\"], function(Plotly) { window.PLOTLYENV=window.PLOTLYENV || {};window.PLOTLYENV.BASE_URL=\"https://plot.ly\";Plotly.newPlot(\"c37ba3f3-3f5a-4882-8f8e-79a958eda89a\", [{\"type\": \"bar\", \"x\": [1983, 1987, 1993, 2004, 2009, 2011], \"y\": [3.77, 3.91, 3.95, 3.75, 3.69, 3.52], \"name\": \"Income Share Held By Lowest 10%\"}, {\"type\": \"bar\", \"x\": [1983, 1987, 1993, 2004, 2009, 2011], \"y\": [25.72, 26.96, 25.98, 28.26, 28.79, 29.98], \"name\": \"Income Share Held By Highest 10%\", \"marker\": {\"color\": \"rgb(158,202,225)\"}}], {\"title\": \"Income Distribution - India\", \"barmode\": \"stack\"}, {\"showLink\": true, \"linkText\": \"Export to plot.ly\"})});</script>"
      ]
     },
     "metadata": {},
     "output_type": "display_data"
    }
   ],
   "source": [
    "trace1 = go.Bar(\n",
    "    x = IND_income_share[IND_income_share['IndicatorCode'] == 'SI.DST.FRST.10'][\"Year\"],\n",
    "    y = IND_income_share[IND_income_share['IndicatorCode'] == 'SI.DST.FRST.10'][\"Value\"],\n",
    "    name = 'Income Share Held By Lowest 10%'\n",
    ")\n",
    "\n",
    "trace2 = go.Bar(\n",
    "    x = IND_income_share[IND_income_share['IndicatorCode'] == 'SI.DST.10TH.10'][\"Year\"],\n",
    "    y = IND_income_share[IND_income_share['IndicatorCode'] == 'SI.DST.10TH.10'][\"Value\"],\n",
    "    name = 'Income Share Held By Highest 10%',\n",
    "    marker = dict(\n",
    "        color='rgb(158,202,225)'\n",
    "    )\n",
    ")\n",
    "\n",
    "data = [trace1, trace2]\n",
    "layout = go.Layout(\n",
    "    title = 'Income Distribution - India',\n",
    "    barmode='stack'\n",
    ")\n",
    "\n",
    "fig = go.Figure(data=data, layout=layout)\n",
    "py.iplot(fig, filename='stacked-bar')"
   ]
  },
  {
   "cell_type": "code",
   "execution_count": 27,
   "metadata": {},
   "outputs": [
    {
     "data": {
      "application/vnd.plotly.v1+json": {
       "data": [
        {
         "marker": {
          "color": "rgb(237,248,251)"
         },
         "name": "Income Share Held By Lowest 20%",
         "type": "bar",
         "x": [
          1984,
          1987,
          1990,
          1993,
          1996,
          1999,
          2002,
          2005,
          2008,
          2010
         ],
         "y": [
          8.68,
          9.36,
          9.39,
          9.46,
          9,
          9.58,
          9.53,
          8.33,
          8.1,
          7.63
         ]
        },
        {
         "marker": {
          "color": "rgb(178,226,226)"
         },
         "name": "Income Share Held By Second 20%",
         "type": "bar",
         "x": [
          1984,
          1987,
          1990,
          1993,
          1996,
          1999,
          2002,
          2005,
          2008,
          2010
         ],
         "y": [
          12.93,
          13.17,
          13.18,
          13.16,
          12.67,
          13.35,
          13.03,
          12.03,
          11.87,
          11.33
         ]
        },
        {
         "marker": {
          "color": "rgb(102,194,164)"
         },
         "name": "Income Share Held By Third 20%",
         "type": "bar",
         "x": [
          1984,
          1987,
          1990,
          1993,
          1996,
          1999,
          2002,
          2005,
          2008,
          2010
         ],
         "y": [
          16.89,
          16.83,
          16.84,
          16.74,
          16.33,
          16.84,
          16.53,
          15.82,
          15.87,
          15.56
         ]
        },
        {
         "marker": {
          "color": "rgb(44,162,95)"
         },
         "name": "Income Share Held By Fourth 20%",
         "type": "bar",
         "x": [
          1984,
          1987,
          1990,
          1993,
          1996,
          1999,
          2002,
          2005,
          2008,
          2010
         ],
         "y": [
          22.04,
          21.83,
          21.69,
          21.53,
          21.28,
          21.36,
          21.3,
          21.05,
          21.52,
          21.83
         ]
        },
        {
         "marker": {
          "color": "rgb(0,109,44)"
         },
         "name": "Income Share Held By Highest 20%",
         "type": "bar",
         "x": [
          1984,
          1987,
          1990,
          1993,
          1996,
          1999,
          2002,
          2005,
          2008,
          2010
         ],
         "y": [
          39.46,
          38.79,
          38.89,
          39.11,
          40.71,
          38.87,
          39.61,
          42.75,
          42.64,
          43.65
         ]
        }
       ],
       "layout": {
        "barmode": "stack",
        "title": "Income Distribution (By Quintiles) - Indonesia"
       }
      },
      "text/html": [
       "<div id=\"79055278-772b-482f-a22f-af2967ec759b\" style=\"height: 525px; width: 100%;\" class=\"plotly-graph-div\"></div><script type=\"text/javascript\">require([\"plotly\"], function(Plotly) { window.PLOTLYENV=window.PLOTLYENV || {};window.PLOTLYENV.BASE_URL=\"https://plot.ly\";Plotly.newPlot(\"79055278-772b-482f-a22f-af2967ec759b\", [{\"type\": \"bar\", \"x\": [1984, 1987, 1990, 1993, 1996, 1999, 2002, 2005, 2008, 2010], \"y\": [8.68, 9.36, 9.39, 9.46, 9.0, 9.58, 9.53, 8.33, 8.1, 7.63], \"name\": \"Income Share Held By Lowest 20%\", \"marker\": {\"color\": \"rgb(237,248,251)\"}}, {\"type\": \"bar\", \"x\": [1984, 1987, 1990, 1993, 1996, 1999, 2002, 2005, 2008, 2010], \"y\": [12.93, 13.17, 13.18, 13.16, 12.67, 13.35, 13.03, 12.03, 11.87, 11.33], \"name\": \"Income Share Held By Second 20%\", \"marker\": {\"color\": \"rgb(178,226,226)\"}}, {\"type\": \"bar\", \"x\": [1984, 1987, 1990, 1993, 1996, 1999, 2002, 2005, 2008, 2010], \"y\": [16.89, 16.83, 16.84, 16.74, 16.33, 16.84, 16.53, 15.82, 15.87, 15.56], \"name\": \"Income Share Held By Third 20%\", \"marker\": {\"color\": \"rgb(102,194,164)\"}}, {\"type\": \"bar\", \"x\": [1984, 1987, 1990, 1993, 1996, 1999, 2002, 2005, 2008, 2010], \"y\": [22.04, 21.83, 21.69, 21.53, 21.28, 21.36, 21.3, 21.05, 21.52, 21.83], \"name\": \"Income Share Held By Fourth 20%\", \"marker\": {\"color\": \"rgb(44,162,95)\"}}, {\"type\": \"bar\", \"x\": [1984, 1987, 1990, 1993, 1996, 1999, 2002, 2005, 2008, 2010], \"y\": [39.46, 38.79, 38.89, 39.11, 40.71, 38.87, 39.61, 42.75, 42.64, 43.65], \"name\": \"Income Share Held By Highest 20%\", \"marker\": {\"color\": \"rgb(0,109,44)\"}}], {\"title\": \"Income Distribution (By Quintiles) - Indonesia\", \"barmode\": \"stack\"}, {\"showLink\": true, \"linkText\": \"Export to plot.ly\"})});</script>"
      ],
      "text/vnd.plotly.v1+html": [
       "<div id=\"79055278-772b-482f-a22f-af2967ec759b\" style=\"height: 525px; width: 100%;\" class=\"plotly-graph-div\"></div><script type=\"text/javascript\">require([\"plotly\"], function(Plotly) { window.PLOTLYENV=window.PLOTLYENV || {};window.PLOTLYENV.BASE_URL=\"https://plot.ly\";Plotly.newPlot(\"79055278-772b-482f-a22f-af2967ec759b\", [{\"type\": \"bar\", \"x\": [1984, 1987, 1990, 1993, 1996, 1999, 2002, 2005, 2008, 2010], \"y\": [8.68, 9.36, 9.39, 9.46, 9.0, 9.58, 9.53, 8.33, 8.1, 7.63], \"name\": \"Income Share Held By Lowest 20%\", \"marker\": {\"color\": \"rgb(237,248,251)\"}}, {\"type\": \"bar\", \"x\": [1984, 1987, 1990, 1993, 1996, 1999, 2002, 2005, 2008, 2010], \"y\": [12.93, 13.17, 13.18, 13.16, 12.67, 13.35, 13.03, 12.03, 11.87, 11.33], \"name\": \"Income Share Held By Second 20%\", \"marker\": {\"color\": \"rgb(178,226,226)\"}}, {\"type\": \"bar\", \"x\": [1984, 1987, 1990, 1993, 1996, 1999, 2002, 2005, 2008, 2010], \"y\": [16.89, 16.83, 16.84, 16.74, 16.33, 16.84, 16.53, 15.82, 15.87, 15.56], \"name\": \"Income Share Held By Third 20%\", \"marker\": {\"color\": \"rgb(102,194,164)\"}}, {\"type\": \"bar\", \"x\": [1984, 1987, 1990, 1993, 1996, 1999, 2002, 2005, 2008, 2010], \"y\": [22.04, 21.83, 21.69, 21.53, 21.28, 21.36, 21.3, 21.05, 21.52, 21.83], \"name\": \"Income Share Held By Fourth 20%\", \"marker\": {\"color\": \"rgb(44,162,95)\"}}, {\"type\": \"bar\", \"x\": [1984, 1987, 1990, 1993, 1996, 1999, 2002, 2005, 2008, 2010], \"y\": [39.46, 38.79, 38.89, 39.11, 40.71, 38.87, 39.61, 42.75, 42.64, 43.65], \"name\": \"Income Share Held By Highest 20%\", \"marker\": {\"color\": \"rgb(0,109,44)\"}}], {\"title\": \"Income Distribution (By Quintiles) - Indonesia\", \"barmode\": \"stack\"}, {\"showLink\": true, \"linkText\": \"Export to plot.ly\"})});</script>"
      ]
     },
     "metadata": {},
     "output_type": "display_data"
    }
   ],
   "source": [
    "trace1 = go.Bar(\n",
    "    x = IDN_income_share[IDN_income_share['IndicatorCode'] == 'SI.DST.FRST.20'][\"Year\"],\n",
    "    y = IDN_income_share[IDN_income_share['IndicatorCode'] == 'SI.DST.FRST.20'][\"Value\"],\n",
    "    name = 'Income Share Held By Lowest 20%',\n",
    "    marker = dict(\n",
    "        color='rgb(237,248,251)'\n",
    "    )\n",
    ")\n",
    "\n",
    "trace2 = go.Bar(\n",
    "    x = IDN_income_share[IDN_income_share['IndicatorCode'] == 'SI.DST.02ND.20'][\"Year\"],\n",
    "    y = IDN_income_share[IDN_income_share['IndicatorCode'] == 'SI.DST.02ND.20'][\"Value\"],\n",
    "    name = 'Income Share Held By Second 20%',\n",
    "    marker = dict(\n",
    "        color='rgb(178,226,226)'\n",
    "    )\n",
    ")\n",
    "\n",
    "trace3 = go.Bar(\n",
    "    x = IDN_income_share[IDN_income_share['IndicatorCode'] == 'SI.DST.03RD.20'][\"Year\"],\n",
    "    y = IDN_income_share[IDN_income_share['IndicatorCode'] == 'SI.DST.03RD.20'][\"Value\"],\n",
    "    name = 'Income Share Held By Third 20%',\n",
    "    marker = dict(\n",
    "        color='rgb(102,194,164)'\n",
    "    )\n",
    ")\n",
    "\n",
    "trace4 = go.Bar(\n",
    "    x = IDN_income_share[IDN_income_share['IndicatorCode'] == 'SI.DST.04TH.20'][\"Year\"],\n",
    "    y = IDN_income_share[IDN_income_share['IndicatorCode'] == 'SI.DST.04TH.20'][\"Value\"],\n",
    "    name = 'Income Share Held By Fourth 20%',\n",
    "    marker = dict(\n",
    "        color='rgb(44,162,95)'\n",
    "    )\n",
    ")\n",
    "\n",
    "trace5 = go.Bar(\n",
    "    x = IDN_income_share[IDN_income_share['IndicatorCode'] == 'SI.DST.05TH.20'][\"Year\"],\n",
    "    y = IDN_income_share[IDN_income_share['IndicatorCode'] == 'SI.DST.05TH.20'][\"Value\"],\n",
    "    name = 'Income Share Held By Highest 20%',\n",
    "    marker = dict(\n",
    "        color='rgb(0,109,44)'\n",
    "    )\n",
    ")\n",
    "\n",
    "data = [trace1, trace2, trace3, trace4, trace5]\n",
    "layout = go.Layout(\n",
    "    title = 'Income Distribution (By Quintiles) - Indonesia',\n",
    "    barmode='stack'\n",
    ")\n",
    "\n",
    "fig = go.Figure(data=data, layout=layout)\n",
    "py.iplot(fig, filename='stacked-bar')"
   ]
  },
  {
   "cell_type": "code",
   "execution_count": 28,
   "metadata": {},
   "outputs": [
    {
     "data": {
      "application/vnd.plotly.v1+json": {
       "data": [
        {
         "name": "Income Share Held By Lowest 10%",
         "type": "bar",
         "x": [
          1984,
          1987,
          1990,
          1993,
          1996,
          1999,
          2002,
          2005,
          2008,
          2010
         ],
         "y": [
          3.74,
          4.07,
          4.17,
          4.22,
          4,
          4.25,
          4.29,
          3.67,
          3.56,
          3.36
         ]
        },
        {
         "marker": {
          "color": "rgb(158,202,225)"
         },
         "name": "Income Share Held By Highest 10%",
         "type": "bar",
         "x": [
          1984,
          1987,
          1990,
          1993,
          1996,
          1999,
          2002,
          2005,
          2008,
          2010
         ],
         "y": [
          24.91,
          24.61,
          24.68,
          25.01,
          26.57,
          25.08,
          25.6,
          28.51,
          27.84,
          28.18
         ]
        }
       ],
       "layout": {
        "barmode": "stack",
        "title": "Income Distribution - Indonesia"
       }
      },
      "text/html": [
       "<div id=\"858a9361-1edf-4797-8d9e-23ab4c64f6b6\" style=\"height: 525px; width: 100%;\" class=\"plotly-graph-div\"></div><script type=\"text/javascript\">require([\"plotly\"], function(Plotly) { window.PLOTLYENV=window.PLOTLYENV || {};window.PLOTLYENV.BASE_URL=\"https://plot.ly\";Plotly.newPlot(\"858a9361-1edf-4797-8d9e-23ab4c64f6b6\", [{\"type\": \"bar\", \"x\": [1984, 1987, 1990, 1993, 1996, 1999, 2002, 2005, 2008, 2010], \"y\": [3.74, 4.07, 4.17, 4.22, 4.0, 4.25, 4.29, 3.67, 3.56, 3.36], \"name\": \"Income Share Held By Lowest 10%\"}, {\"type\": \"bar\", \"x\": [1984, 1987, 1990, 1993, 1996, 1999, 2002, 2005, 2008, 2010], \"y\": [24.91, 24.61, 24.68, 25.01, 26.57, 25.08, 25.6, 28.51, 27.84, 28.18], \"name\": \"Income Share Held By Highest 10%\", \"marker\": {\"color\": \"rgb(158,202,225)\"}}], {\"title\": \"Income Distribution - Indonesia\", \"barmode\": \"stack\"}, {\"showLink\": true, \"linkText\": \"Export to plot.ly\"})});</script>"
      ],
      "text/vnd.plotly.v1+html": [
       "<div id=\"858a9361-1edf-4797-8d9e-23ab4c64f6b6\" style=\"height: 525px; width: 100%;\" class=\"plotly-graph-div\"></div><script type=\"text/javascript\">require([\"plotly\"], function(Plotly) { window.PLOTLYENV=window.PLOTLYENV || {};window.PLOTLYENV.BASE_URL=\"https://plot.ly\";Plotly.newPlot(\"858a9361-1edf-4797-8d9e-23ab4c64f6b6\", [{\"type\": \"bar\", \"x\": [1984, 1987, 1990, 1993, 1996, 1999, 2002, 2005, 2008, 2010], \"y\": [3.74, 4.07, 4.17, 4.22, 4.0, 4.25, 4.29, 3.67, 3.56, 3.36], \"name\": \"Income Share Held By Lowest 10%\"}, {\"type\": \"bar\", \"x\": [1984, 1987, 1990, 1993, 1996, 1999, 2002, 2005, 2008, 2010], \"y\": [24.91, 24.61, 24.68, 25.01, 26.57, 25.08, 25.6, 28.51, 27.84, 28.18], \"name\": \"Income Share Held By Highest 10%\", \"marker\": {\"color\": \"rgb(158,202,225)\"}}], {\"title\": \"Income Distribution - Indonesia\", \"barmode\": \"stack\"}, {\"showLink\": true, \"linkText\": \"Export to plot.ly\"})});</script>"
      ]
     },
     "metadata": {},
     "output_type": "display_data"
    }
   ],
   "source": [
    "trace1 = go.Bar(\n",
    "    x = IDN_income_share[IDN_income_share['IndicatorCode'] == 'SI.DST.FRST.10'][\"Year\"],\n",
    "    y = IDN_income_share[IDN_income_share['IndicatorCode'] == 'SI.DST.FRST.10'][\"Value\"],\n",
    "    name = 'Income Share Held By Lowest 10%'\n",
    ")\n",
    "\n",
    "trace2 = go.Bar(\n",
    "    x = IDN_income_share[IDN_income_share['IndicatorCode'] == 'SI.DST.10TH.10'][\"Year\"],\n",
    "    y = IDN_income_share[IDN_income_share['IndicatorCode'] == 'SI.DST.10TH.10'][\"Value\"],\n",
    "    name = 'Income Share Held By Highest 10%',\n",
    "    marker = dict(\n",
    "        color='rgb(158,202,225)'\n",
    "    )\n",
    ")\n",
    "\n",
    "data = [trace1, trace2]\n",
    "layout = go.Layout(\n",
    "    title = 'Income Distribution - Indonesia',\n",
    "    barmode='stack'\n",
    ")\n",
    "\n",
    "fig = go.Figure(data=data, layout=layout)\n",
    "py.iplot(fig, filename='stacked-bar')"
   ]
  },
  {
   "cell_type": "markdown",
   "metadata": {},
   "source": [
    "It is only in Ecuador that these trends are reversed, while income share across the quintiles in Ethiopia has not varied greatly over the years."
   ]
  },
  {
   "cell_type": "code",
   "execution_count": 29,
   "metadata": {},
   "outputs": [
    {
     "data": {
      "application/vnd.plotly.v1+json": {
       "data": [
        {
         "marker": {
          "color": "rgb(237,248,251)"
         },
         "name": "Income Share Held By Lowest 20%",
         "type": "bar",
         "x": [
          1987,
          1994,
          1995,
          1998,
          1999,
          2000,
          2003,
          2004,
          2005,
          2006,
          2007,
          2008,
          2009,
          2010,
          2011,
          2012,
          2013
         ],
         "y": [
          3.28,
          3.23,
          3.69,
          3.92,
          2.59,
          3.05,
          3.04,
          3.17,
          3.09,
          3.57,
          3.31,
          3.72,
          3.95,
          4.1,
          4.38,
          4.3,
          4.56
         ]
        },
        {
         "marker": {
          "color": "rgb(178,226,226)"
         },
         "name": "Income Share Held By Second 20%",
         "type": "bar",
         "x": [
          1987,
          1994,
          1995,
          1998,
          1999,
          2000,
          2003,
          2004,
          2005,
          2006,
          2007,
          2008,
          2009,
          2010,
          2011,
          2012,
          2013
         ],
         "y": [
          8.06,
          7.74,
          8.25,
          8.15,
          6.53,
          6.95,
          7.16,
          7.26,
          7.29,
          7.58,
          7.37,
          8.13,
          8.48,
          8.42,
          9.06,
          9.01,
          8.8
         ]
        },
        {
         "marker": {
          "color": "rgb(102,194,164)"
         },
         "name": "Income Share Held By Third 20%",
         "type": "bar",
         "x": [
          1987,
          1994,
          1995,
          1998,
          1999,
          2000,
          2003,
          2004,
          2005,
          2006,
          2007,
          2008,
          2009,
          2010,
          2011,
          2012,
          2013
         ],
         "y": [
          13.31,
          12.02,
          12.47,
          12.49,
          10.73,
          11.22,
          11.58,
          11.73,
          11.83,
          11.93,
          11.54,
          12.64,
          13.03,
          12.97,
          13.81,
          13.86,
          13.31
         ]
        },
        {
         "marker": {
          "color": "rgb(44,162,95)"
         },
         "name": "Income Share Held By Fourth 20%",
         "type": "bar",
         "x": [
          1987,
          1994,
          1995,
          1998,
          1999,
          2000,
          2003,
          2004,
          2005,
          2006,
          2007,
          2008,
          2009,
          2010,
          2011,
          2012,
          2013
         ],
         "y": [
          20.9,
          19.07,
          19.5,
          20.66,
          17.68,
          18.08,
          18.88,
          19.35,
          19.34,
          19.09,
          18.79,
          20.08,
          20.27,
          20.15,
          21.4,
          21.23,
          20.62
         ]
        },
        {
         "marker": {
          "color": "rgb(0,109,44)"
         },
         "name": "Income Share Held By Highest 20%",
         "type": "bar",
         "x": [
          1987,
          1994,
          1995,
          1998,
          1999,
          2000,
          2003,
          2004,
          2005,
          2006,
          2007,
          2008,
          2009,
          2010,
          2011,
          2012,
          2013
         ],
         "y": [
          54.43,
          57.94,
          56.09,
          54.77,
          62.46,
          60.7,
          59.33,
          58.48,
          58.44,
          57.83,
          58.99,
          55.44,
          54.27,
          54.35,
          51.34,
          51.59,
          52.71
         ]
        }
       ],
       "layout": {
        "barmode": "stack",
        "title": "Income Distribution (By Quintiles) - Ecuador"
       }
      },
      "text/html": [
       "<div id=\"0f7d50a8-3a73-4007-9d36-7cdf8bd2cfd2\" style=\"height: 525px; width: 100%;\" class=\"plotly-graph-div\"></div><script type=\"text/javascript\">require([\"plotly\"], function(Plotly) { window.PLOTLYENV=window.PLOTLYENV || {};window.PLOTLYENV.BASE_URL=\"https://plot.ly\";Plotly.newPlot(\"0f7d50a8-3a73-4007-9d36-7cdf8bd2cfd2\", [{\"type\": \"bar\", \"x\": [1987, 1994, 1995, 1998, 1999, 2000, 2003, 2004, 2005, 2006, 2007, 2008, 2009, 2010, 2011, 2012, 2013], \"y\": [3.28, 3.23, 3.69, 3.92, 2.59, 3.05, 3.04, 3.17, 3.09, 3.57, 3.31, 3.72, 3.95, 4.1, 4.38, 4.3, 4.56], \"name\": \"Income Share Held By Lowest 20%\", \"marker\": {\"color\": \"rgb(237,248,251)\"}}, {\"type\": \"bar\", \"x\": [1987, 1994, 1995, 1998, 1999, 2000, 2003, 2004, 2005, 2006, 2007, 2008, 2009, 2010, 2011, 2012, 2013], \"y\": [8.06, 7.74, 8.25, 8.15, 6.53, 6.95, 7.16, 7.26, 7.29, 7.58, 7.37, 8.13, 8.48, 8.42, 9.06, 9.01, 8.8], \"name\": \"Income Share Held By Second 20%\", \"marker\": {\"color\": \"rgb(178,226,226)\"}}, {\"type\": \"bar\", \"x\": [1987, 1994, 1995, 1998, 1999, 2000, 2003, 2004, 2005, 2006, 2007, 2008, 2009, 2010, 2011, 2012, 2013], \"y\": [13.31, 12.02, 12.47, 12.49, 10.73, 11.22, 11.58, 11.73, 11.83, 11.93, 11.54, 12.64, 13.03, 12.97, 13.81, 13.86, 13.31], \"name\": \"Income Share Held By Third 20%\", \"marker\": {\"color\": \"rgb(102,194,164)\"}}, {\"type\": \"bar\", \"x\": [1987, 1994, 1995, 1998, 1999, 2000, 2003, 2004, 2005, 2006, 2007, 2008, 2009, 2010, 2011, 2012, 2013], \"y\": [20.9, 19.07, 19.5, 20.66, 17.68, 18.08, 18.88, 19.35, 19.34, 19.09, 18.79, 20.08, 20.27, 20.15, 21.4, 21.23, 20.62], \"name\": \"Income Share Held By Fourth 20%\", \"marker\": {\"color\": \"rgb(44,162,95)\"}}, {\"type\": \"bar\", \"x\": [1987, 1994, 1995, 1998, 1999, 2000, 2003, 2004, 2005, 2006, 2007, 2008, 2009, 2010, 2011, 2012, 2013], \"y\": [54.43, 57.94, 56.09, 54.77, 62.46, 60.7, 59.33, 58.48, 58.44, 57.83, 58.99, 55.44, 54.27, 54.35, 51.34, 51.59, 52.71], \"name\": \"Income Share Held By Highest 20%\", \"marker\": {\"color\": \"rgb(0,109,44)\"}}], {\"title\": \"Income Distribution (By Quintiles) - Ecuador\", \"barmode\": \"stack\"}, {\"showLink\": true, \"linkText\": \"Export to plot.ly\"})});</script>"
      ],
      "text/vnd.plotly.v1+html": [
       "<div id=\"0f7d50a8-3a73-4007-9d36-7cdf8bd2cfd2\" style=\"height: 525px; width: 100%;\" class=\"plotly-graph-div\"></div><script type=\"text/javascript\">require([\"plotly\"], function(Plotly) { window.PLOTLYENV=window.PLOTLYENV || {};window.PLOTLYENV.BASE_URL=\"https://plot.ly\";Plotly.newPlot(\"0f7d50a8-3a73-4007-9d36-7cdf8bd2cfd2\", [{\"type\": \"bar\", \"x\": [1987, 1994, 1995, 1998, 1999, 2000, 2003, 2004, 2005, 2006, 2007, 2008, 2009, 2010, 2011, 2012, 2013], \"y\": [3.28, 3.23, 3.69, 3.92, 2.59, 3.05, 3.04, 3.17, 3.09, 3.57, 3.31, 3.72, 3.95, 4.1, 4.38, 4.3, 4.56], \"name\": \"Income Share Held By Lowest 20%\", \"marker\": {\"color\": \"rgb(237,248,251)\"}}, {\"type\": \"bar\", \"x\": [1987, 1994, 1995, 1998, 1999, 2000, 2003, 2004, 2005, 2006, 2007, 2008, 2009, 2010, 2011, 2012, 2013], \"y\": [8.06, 7.74, 8.25, 8.15, 6.53, 6.95, 7.16, 7.26, 7.29, 7.58, 7.37, 8.13, 8.48, 8.42, 9.06, 9.01, 8.8], \"name\": \"Income Share Held By Second 20%\", \"marker\": {\"color\": \"rgb(178,226,226)\"}}, {\"type\": \"bar\", \"x\": [1987, 1994, 1995, 1998, 1999, 2000, 2003, 2004, 2005, 2006, 2007, 2008, 2009, 2010, 2011, 2012, 2013], \"y\": [13.31, 12.02, 12.47, 12.49, 10.73, 11.22, 11.58, 11.73, 11.83, 11.93, 11.54, 12.64, 13.03, 12.97, 13.81, 13.86, 13.31], \"name\": \"Income Share Held By Third 20%\", \"marker\": {\"color\": \"rgb(102,194,164)\"}}, {\"type\": \"bar\", \"x\": [1987, 1994, 1995, 1998, 1999, 2000, 2003, 2004, 2005, 2006, 2007, 2008, 2009, 2010, 2011, 2012, 2013], \"y\": [20.9, 19.07, 19.5, 20.66, 17.68, 18.08, 18.88, 19.35, 19.34, 19.09, 18.79, 20.08, 20.27, 20.15, 21.4, 21.23, 20.62], \"name\": \"Income Share Held By Fourth 20%\", \"marker\": {\"color\": \"rgb(44,162,95)\"}}, {\"type\": \"bar\", \"x\": [1987, 1994, 1995, 1998, 1999, 2000, 2003, 2004, 2005, 2006, 2007, 2008, 2009, 2010, 2011, 2012, 2013], \"y\": [54.43, 57.94, 56.09, 54.77, 62.46, 60.7, 59.33, 58.48, 58.44, 57.83, 58.99, 55.44, 54.27, 54.35, 51.34, 51.59, 52.71], \"name\": \"Income Share Held By Highest 20%\", \"marker\": {\"color\": \"rgb(0,109,44)\"}}], {\"title\": \"Income Distribution (By Quintiles) - Ecuador\", \"barmode\": \"stack\"}, {\"showLink\": true, \"linkText\": \"Export to plot.ly\"})});</script>"
      ]
     },
     "metadata": {},
     "output_type": "display_data"
    }
   ],
   "source": [
    "trace1 = go.Bar(\n",
    "    x = ECU_income_share[ECU_income_share['IndicatorCode'] == 'SI.DST.FRST.20'][\"Year\"],\n",
    "    y = ECU_income_share[ECU_income_share['IndicatorCode'] == 'SI.DST.FRST.20'][\"Value\"],\n",
    "    name = 'Income Share Held By Lowest 20%',\n",
    "    marker = dict(\n",
    "        color='rgb(237,248,251)'\n",
    "    )\n",
    ")\n",
    "\n",
    "trace2 = go.Bar(\n",
    "    x = ECU_income_share[ECU_income_share['IndicatorCode'] == 'SI.DST.02ND.20'][\"Year\"],\n",
    "    y = ECU_income_share[ECU_income_share['IndicatorCode'] == 'SI.DST.02ND.20'][\"Value\"],\n",
    "    name = 'Income Share Held By Second 20%',\n",
    "    marker = dict(\n",
    "        color='rgb(178,226,226)'\n",
    "    )\n",
    ")\n",
    "\n",
    "trace3 = go.Bar(\n",
    "    x = ECU_income_share[ECU_income_share['IndicatorCode'] == 'SI.DST.03RD.20'][\"Year\"],\n",
    "    y = ECU_income_share[ECU_income_share['IndicatorCode'] == 'SI.DST.03RD.20'][\"Value\"],\n",
    "    name = 'Income Share Held By Third 20%',\n",
    "    marker = dict(\n",
    "        color='rgb(102,194,164)'\n",
    "    )\n",
    ")\n",
    "\n",
    "trace4 = go.Bar(\n",
    "    x = ECU_income_share[ECU_income_share['IndicatorCode'] == 'SI.DST.04TH.20'][\"Year\"],\n",
    "    y = ECU_income_share[ECU_income_share['IndicatorCode'] == 'SI.DST.04TH.20'][\"Value\"],\n",
    "    name = 'Income Share Held By Fourth 20%',\n",
    "    marker = dict(\n",
    "        color='rgb(44,162,95)'\n",
    "    )\n",
    ")\n",
    "\n",
    "trace5 = go.Bar(\n",
    "    x = ECU_income_share[ECU_income_share['IndicatorCode'] == 'SI.DST.05TH.20'][\"Year\"],\n",
    "    y = ECU_income_share[ECU_income_share['IndicatorCode'] == 'SI.DST.05TH.20'][\"Value\"],\n",
    "    name = 'Income Share Held By Highest 20%',\n",
    "    marker = dict(\n",
    "        color='rgb(0,109,44)'\n",
    "    )\n",
    ")\n",
    "\n",
    "data = [trace1, trace2, trace3, trace4, trace5]\n",
    "layout = go.Layout(\n",
    "    title = 'Income Distribution (By Quintiles) - Ecuador',\n",
    "    barmode='stack'\n",
    ")\n",
    "\n",
    "fig = go.Figure(data=data, layout=layout)\n",
    "py.iplot(fig, filename='stacked-bar')"
   ]
  },
  {
   "cell_type": "code",
   "execution_count": 30,
   "metadata": {},
   "outputs": [
    {
     "data": {
      "application/vnd.plotly.v1+json": {
       "data": [
        {
         "name": "Income Share Held By Lowest 10%",
         "type": "bar",
         "x": [
          1987,
          1994,
          1995,
          1998,
          1999,
          2000,
          2003,
          2004,
          2005,
          2006,
          2007,
          2008,
          2009,
          2010,
          2011,
          2012,
          2013
         ],
         "y": [
          1.03,
          0.89,
          0.98,
          1.26,
          0.74,
          0.94,
          0.89,
          0.96,
          0.93,
          1.17,
          1.01,
          1.15,
          1.25,
          1.36,
          1.44,
          1.41,
          1.59
         ]
        },
        {
         "marker": {
          "color": "rgb(158,202,225)"
         },
         "name": "Income Share Held By Highest 10%",
         "type": "bar",
         "x": [
          1987,
          1994,
          1995,
          1998,
          1999,
          2000,
          2003,
          2004,
          2005,
          2006,
          2007,
          2008,
          2009,
          2010,
          2011,
          2012,
          2013
         ],
         "y": [
          38.44,
          42.47,
          40.03,
          37.86,
          47.85,
          45.91,
          43.8,
          42.62,
          42.59,
          42.46,
          43.33,
          39.35,
          38.24,
          38.35,
          34.83,
          35.4,
          36.53
         ]
        }
       ],
       "layout": {
        "barmode": "stack",
        "title": "Income Distribution - Ecuador"
       }
      },
      "text/html": [
       "<div id=\"6daf02f3-12f7-4328-9617-1d659f49bfa2\" style=\"height: 525px; width: 100%;\" class=\"plotly-graph-div\"></div><script type=\"text/javascript\">require([\"plotly\"], function(Plotly) { window.PLOTLYENV=window.PLOTLYENV || {};window.PLOTLYENV.BASE_URL=\"https://plot.ly\";Plotly.newPlot(\"6daf02f3-12f7-4328-9617-1d659f49bfa2\", [{\"type\": \"bar\", \"x\": [1987, 1994, 1995, 1998, 1999, 2000, 2003, 2004, 2005, 2006, 2007, 2008, 2009, 2010, 2011, 2012, 2013], \"y\": [1.03, 0.89, 0.98, 1.26, 0.74, 0.94, 0.89, 0.96, 0.93, 1.17, 1.01, 1.15, 1.25, 1.36, 1.44, 1.41, 1.59], \"name\": \"Income Share Held By Lowest 10%\"}, {\"type\": \"bar\", \"x\": [1987, 1994, 1995, 1998, 1999, 2000, 2003, 2004, 2005, 2006, 2007, 2008, 2009, 2010, 2011, 2012, 2013], \"y\": [38.44, 42.47, 40.03, 37.86, 47.85, 45.91, 43.8, 42.62, 42.59, 42.46, 43.33, 39.35, 38.24, 38.35, 34.83, 35.4, 36.53], \"name\": \"Income Share Held By Highest 10%\", \"marker\": {\"color\": \"rgb(158,202,225)\"}}], {\"title\": \"Income Distribution - Ecuador\", \"barmode\": \"stack\"}, {\"showLink\": true, \"linkText\": \"Export to plot.ly\"})});</script>"
      ],
      "text/vnd.plotly.v1+html": [
       "<div id=\"6daf02f3-12f7-4328-9617-1d659f49bfa2\" style=\"height: 525px; width: 100%;\" class=\"plotly-graph-div\"></div><script type=\"text/javascript\">require([\"plotly\"], function(Plotly) { window.PLOTLYENV=window.PLOTLYENV || {};window.PLOTLYENV.BASE_URL=\"https://plot.ly\";Plotly.newPlot(\"6daf02f3-12f7-4328-9617-1d659f49bfa2\", [{\"type\": \"bar\", \"x\": [1987, 1994, 1995, 1998, 1999, 2000, 2003, 2004, 2005, 2006, 2007, 2008, 2009, 2010, 2011, 2012, 2013], \"y\": [1.03, 0.89, 0.98, 1.26, 0.74, 0.94, 0.89, 0.96, 0.93, 1.17, 1.01, 1.15, 1.25, 1.36, 1.44, 1.41, 1.59], \"name\": \"Income Share Held By Lowest 10%\"}, {\"type\": \"bar\", \"x\": [1987, 1994, 1995, 1998, 1999, 2000, 2003, 2004, 2005, 2006, 2007, 2008, 2009, 2010, 2011, 2012, 2013], \"y\": [38.44, 42.47, 40.03, 37.86, 47.85, 45.91, 43.8, 42.62, 42.59, 42.46, 43.33, 39.35, 38.24, 38.35, 34.83, 35.4, 36.53], \"name\": \"Income Share Held By Highest 10%\", \"marker\": {\"color\": \"rgb(158,202,225)\"}}], {\"title\": \"Income Distribution - Ecuador\", \"barmode\": \"stack\"}, {\"showLink\": true, \"linkText\": \"Export to plot.ly\"})});</script>"
      ]
     },
     "metadata": {},
     "output_type": "display_data"
    }
   ],
   "source": [
    "trace1 = go.Bar(\n",
    "    x = ECU_income_share[ECU_income_share['IndicatorCode'] == 'SI.DST.FRST.10'][\"Year\"],\n",
    "    y = ECU_income_share[ECU_income_share['IndicatorCode'] == 'SI.DST.FRST.10'][\"Value\"],\n",
    "    name = 'Income Share Held By Lowest 10%',\n",
    ")\n",
    "\n",
    "trace2 = go.Bar(\n",
    "    x = ECU_income_share[ECU_income_share['IndicatorCode'] == 'SI.DST.10TH.10'][\"Year\"],\n",
    "    y = ECU_income_share[ECU_income_share['IndicatorCode'] == 'SI.DST.10TH.10'][\"Value\"],\n",
    "    name = 'Income Share Held By Highest 10%',\n",
    "    marker = dict(\n",
    "        color='rgb(158,202,225)'\n",
    "    )\n",
    ")\n",
    "\n",
    "data = [trace1, trace2]\n",
    "layout = go.Layout(\n",
    "    title = 'Income Distribution - Ecuador',\n",
    "    barmode='stack'\n",
    ")\n",
    "\n",
    "fig = go.Figure(data=data, layout=layout)\n",
    "py.iplot(fig, filename='stacked-bar')"
   ]
  },
  {
   "cell_type": "code",
   "execution_count": 31,
   "metadata": {},
   "outputs": [
    {
     "data": {
      "application/vnd.plotly.v1+json": {
       "data": [
        {
         "marker": {
          "color": "rgb(237,248,251)"
         },
         "name": "Income Share Held By Lowest 20%",
         "type": "bar",
         "x": [
          1981,
          1995,
          1999,
          2004,
          2010
         ],
         "y": [
          8.56,
          6.34,
          9.12,
          9.38,
          8.03
         ]
        },
        {
         "marker": {
          "color": "rgb(178,226,226)"
         },
         "name": "Income Share Held By Second 20%",
         "type": "bar",
         "x": [
          1981,
          1995,
          1999,
          2004,
          2010
         ],
         "y": [
          12.67,
          9.91,
          13.24,
          13.05,
          12.61
         ]
        },
        {
         "marker": {
          "color": "rgb(102,194,164)"
         },
         "name": "Income Share Held By Third 20%",
         "type": "bar",
         "x": [
          1981,
          1995,
          1999,
          2004,
          2010
         ],
         "y": [
          16.37,
          13.36,
          16.77,
          16.89,
          16.34
         ]
        },
        {
         "marker": {
          "color": "rgb(44,162,95)"
         },
         "name": "Income Share Held By Fourth 20%",
         "type": "bar",
         "x": [
          1981,
          1995,
          1999,
          2004,
          2010
         ],
         "y": [
          21.1,
          18.76,
          21.47,
          21.38,
          21.34
         ]
        },
        {
         "marker": {
          "color": "rgb(0,109,44)"
         },
         "name": "Income Share Held By Highest 20%",
         "type": "bar",
         "x": [
          1981,
          1995,
          1999,
          2004,
          2010
         ],
         "y": [
          41.31,
          51.63,
          39.4,
          39.32,
          41.67
         ]
        }
       ],
       "layout": {
        "barmode": "stack",
        "title": "Income Distribution (By Quintiles) - Ethiopia"
       }
      },
      "text/html": [
       "<div id=\"64c52c46-1cb5-4281-9199-1c8c0b794998\" style=\"height: 525px; width: 100%;\" class=\"plotly-graph-div\"></div><script type=\"text/javascript\">require([\"plotly\"], function(Plotly) { window.PLOTLYENV=window.PLOTLYENV || {};window.PLOTLYENV.BASE_URL=\"https://plot.ly\";Plotly.newPlot(\"64c52c46-1cb5-4281-9199-1c8c0b794998\", [{\"type\": \"bar\", \"x\": [1981, 1995, 1999, 2004, 2010], \"y\": [8.56, 6.34, 9.12, 9.38, 8.03], \"name\": \"Income Share Held By Lowest 20%\", \"marker\": {\"color\": \"rgb(237,248,251)\"}}, {\"type\": \"bar\", \"x\": [1981, 1995, 1999, 2004, 2010], \"y\": [12.67, 9.91, 13.24, 13.05, 12.61], \"name\": \"Income Share Held By Second 20%\", \"marker\": {\"color\": \"rgb(178,226,226)\"}}, {\"type\": \"bar\", \"x\": [1981, 1995, 1999, 2004, 2010], \"y\": [16.37, 13.36, 16.77, 16.89, 16.34], \"name\": \"Income Share Held By Third 20%\", \"marker\": {\"color\": \"rgb(102,194,164)\"}}, {\"type\": \"bar\", \"x\": [1981, 1995, 1999, 2004, 2010], \"y\": [21.1, 18.76, 21.47, 21.38, 21.34], \"name\": \"Income Share Held By Fourth 20%\", \"marker\": {\"color\": \"rgb(44,162,95)\"}}, {\"type\": \"bar\", \"x\": [1981, 1995, 1999, 2004, 2010], \"y\": [41.31, 51.63, 39.4, 39.32, 41.67], \"name\": \"Income Share Held By Highest 20%\", \"marker\": {\"color\": \"rgb(0,109,44)\"}}], {\"title\": \"Income Distribution (By Quintiles) - Ethiopia\", \"barmode\": \"stack\"}, {\"showLink\": true, \"linkText\": \"Export to plot.ly\"})});</script>"
      ],
      "text/vnd.plotly.v1+html": [
       "<div id=\"64c52c46-1cb5-4281-9199-1c8c0b794998\" style=\"height: 525px; width: 100%;\" class=\"plotly-graph-div\"></div><script type=\"text/javascript\">require([\"plotly\"], function(Plotly) { window.PLOTLYENV=window.PLOTLYENV || {};window.PLOTLYENV.BASE_URL=\"https://plot.ly\";Plotly.newPlot(\"64c52c46-1cb5-4281-9199-1c8c0b794998\", [{\"type\": \"bar\", \"x\": [1981, 1995, 1999, 2004, 2010], \"y\": [8.56, 6.34, 9.12, 9.38, 8.03], \"name\": \"Income Share Held By Lowest 20%\", \"marker\": {\"color\": \"rgb(237,248,251)\"}}, {\"type\": \"bar\", \"x\": [1981, 1995, 1999, 2004, 2010], \"y\": [12.67, 9.91, 13.24, 13.05, 12.61], \"name\": \"Income Share Held By Second 20%\", \"marker\": {\"color\": \"rgb(178,226,226)\"}}, {\"type\": \"bar\", \"x\": [1981, 1995, 1999, 2004, 2010], \"y\": [16.37, 13.36, 16.77, 16.89, 16.34], \"name\": \"Income Share Held By Third 20%\", \"marker\": {\"color\": \"rgb(102,194,164)\"}}, {\"type\": \"bar\", \"x\": [1981, 1995, 1999, 2004, 2010], \"y\": [21.1, 18.76, 21.47, 21.38, 21.34], \"name\": \"Income Share Held By Fourth 20%\", \"marker\": {\"color\": \"rgb(44,162,95)\"}}, {\"type\": \"bar\", \"x\": [1981, 1995, 1999, 2004, 2010], \"y\": [41.31, 51.63, 39.4, 39.32, 41.67], \"name\": \"Income Share Held By Highest 20%\", \"marker\": {\"color\": \"rgb(0,109,44)\"}}], {\"title\": \"Income Distribution (By Quintiles) - Ethiopia\", \"barmode\": \"stack\"}, {\"showLink\": true, \"linkText\": \"Export to plot.ly\"})});</script>"
      ]
     },
     "metadata": {},
     "output_type": "display_data"
    }
   ],
   "source": [
    "trace1 = go.Bar(\n",
    "    x = ETH_income_share[ETH_income_share['IndicatorCode'] == 'SI.DST.FRST.20'][\"Year\"],\n",
    "    y = ETH_income_share[ETH_income_share['IndicatorCode'] == 'SI.DST.FRST.20'][\"Value\"],\n",
    "    name = 'Income Share Held By Lowest 20%',\n",
    "    marker = dict(\n",
    "        color='rgb(237,248,251)'\n",
    "    )\n",
    ")\n",
    "\n",
    "trace2 = go.Bar(\n",
    "    x = ETH_income_share[ETH_income_share['IndicatorCode'] == 'SI.DST.02ND.20'][\"Year\"],\n",
    "    y = ETH_income_share[ETH_income_share['IndicatorCode'] == 'SI.DST.02ND.20'][\"Value\"],\n",
    "    name = 'Income Share Held By Second 20%',\n",
    "    marker = dict(\n",
    "        color='rgb(178,226,226)'\n",
    "    )\n",
    ")\n",
    "\n",
    "trace3 = go.Bar(\n",
    "    x = ETH_income_share[ETH_income_share['IndicatorCode'] == 'SI.DST.03RD.20'][\"Year\"],\n",
    "    y = ETH_income_share[ETH_income_share['IndicatorCode'] == 'SI.DST.03RD.20'][\"Value\"],\n",
    "    name = 'Income Share Held By Third 20%',\n",
    "    marker = dict(\n",
    "        color='rgb(102,194,164)'\n",
    "    )\n",
    ")\n",
    "\n",
    "trace4 = go.Bar(\n",
    "    x = ETH_income_share[ETH_income_share['IndicatorCode'] == 'SI.DST.04TH.20'][\"Year\"],\n",
    "    y = ETH_income_share[ETH_income_share['IndicatorCode'] == 'SI.DST.04TH.20'][\"Value\"],\n",
    "    name = 'Income Share Held By Fourth 20%',\n",
    "    marker = dict(\n",
    "        color='rgb(44,162,95)'\n",
    "    )\n",
    ")\n",
    "\n",
    "trace5 = go.Bar(\n",
    "    x = ETH_income_share[ETH_income_share['IndicatorCode'] == 'SI.DST.05TH.20'][\"Year\"],\n",
    "    y = ETH_income_share[ETH_income_share['IndicatorCode'] == 'SI.DST.05TH.20'][\"Value\"],\n",
    "    name = 'Income Share Held By Highest 20%',\n",
    "    marker = dict(\n",
    "        color='rgb(0,109,44)'\n",
    "    )\n",
    ")\n",
    "\n",
    "data = [trace1, trace2, trace3, trace4, trace5]\n",
    "layout = go.Layout(\n",
    "    title = 'Income Distribution (By Quintiles) - Ethiopia',\n",
    "    barmode='stack'\n",
    ")\n",
    "\n",
    "fig = go.Figure(data=data, layout=layout)\n",
    "py.iplot(fig, filename='stacked-bar')"
   ]
  },
  {
   "cell_type": "code",
   "execution_count": 32,
   "metadata": {},
   "outputs": [
    {
     "data": {
      "application/vnd.plotly.v1+json": {
       "data": [
        {
         "name": "Income Share Held By Lowest 10%",
         "type": "bar",
         "x": [
          1981,
          1995,
          1999,
          2004,
          2010
         ],
         "y": [
          3.68,
          2.59,
          3.85,
          4.07,
          3.18
         ]
        },
        {
         "marker": {
          "color": "rgb(158,202,225)"
         },
         "name": "Income Share Held By Highest 10%",
         "type": "bar",
         "x": [
          1981,
          1995,
          1999,
          2004,
          2010
         ],
         "y": [
          27.52,
          38.05,
          25.48,
          25.64,
          27.4
         ]
        }
       ],
       "layout": {
        "barmode": "stack",
        "title": "Income Distribution - Ethiopia"
       }
      },
      "text/html": [
       "<div id=\"7854dafb-ffac-41b6-bdfc-fc79ed40665f\" style=\"height: 525px; width: 100%;\" class=\"plotly-graph-div\"></div><script type=\"text/javascript\">require([\"plotly\"], function(Plotly) { window.PLOTLYENV=window.PLOTLYENV || {};window.PLOTLYENV.BASE_URL=\"https://plot.ly\";Plotly.newPlot(\"7854dafb-ffac-41b6-bdfc-fc79ed40665f\", [{\"type\": \"bar\", \"x\": [1981, 1995, 1999, 2004, 2010], \"y\": [3.68, 2.59, 3.85, 4.07, 3.18], \"name\": \"Income Share Held By Lowest 10%\"}, {\"type\": \"bar\", \"x\": [1981, 1995, 1999, 2004, 2010], \"y\": [27.52, 38.05, 25.48, 25.64, 27.4], \"name\": \"Income Share Held By Highest 10%\", \"marker\": {\"color\": \"rgb(158,202,225)\"}}], {\"title\": \"Income Distribution - Ethiopia\", \"barmode\": \"stack\"}, {\"showLink\": true, \"linkText\": \"Export to plot.ly\"})});</script>"
      ],
      "text/vnd.plotly.v1+html": [
       "<div id=\"7854dafb-ffac-41b6-bdfc-fc79ed40665f\" style=\"height: 525px; width: 100%;\" class=\"plotly-graph-div\"></div><script type=\"text/javascript\">require([\"plotly\"], function(Plotly) { window.PLOTLYENV=window.PLOTLYENV || {};window.PLOTLYENV.BASE_URL=\"https://plot.ly\";Plotly.newPlot(\"7854dafb-ffac-41b6-bdfc-fc79ed40665f\", [{\"type\": \"bar\", \"x\": [1981, 1995, 1999, 2004, 2010], \"y\": [3.68, 2.59, 3.85, 4.07, 3.18], \"name\": \"Income Share Held By Lowest 10%\"}, {\"type\": \"bar\", \"x\": [1981, 1995, 1999, 2004, 2010], \"y\": [27.52, 38.05, 25.48, 25.64, 27.4], \"name\": \"Income Share Held By Highest 10%\", \"marker\": {\"color\": \"rgb(158,202,225)\"}}], {\"title\": \"Income Distribution - Ethiopia\", \"barmode\": \"stack\"}, {\"showLink\": true, \"linkText\": \"Export to plot.ly\"})});</script>"
      ]
     },
     "metadata": {},
     "output_type": "display_data"
    }
   ],
   "source": [
    "trace1 = go.Bar(\n",
    "    x = ETH_income_share[ETH_income_share['IndicatorCode'] == 'SI.DST.FRST.10'][\"Year\"],\n",
    "    y = ETH_income_share[ETH_income_share['IndicatorCode'] == 'SI.DST.FRST.10'][\"Value\"],\n",
    "    name = 'Income Share Held By Lowest 10%'\n",
    ")\n",
    "\n",
    "trace2 = go.Bar(\n",
    "    x = ETH_income_share[ETH_income_share['IndicatorCode'] == 'SI.DST.10TH.10'][\"Year\"],\n",
    "    y = ETH_income_share[ETH_income_share['IndicatorCode'] == 'SI.DST.10TH.10'][\"Value\"],\n",
    "    name = 'Income Share Held By Highest 10%',\n",
    "    marker = dict(\n",
    "        color='rgb(158,202,225)'\n",
    "    )\n",
    ")\n",
    "\n",
    "data = [trace1, trace2]\n",
    "layout = go.Layout(\n",
    "    title = 'Income Distribution - Ethiopia',\n",
    "    barmode='stack'\n",
    ")\n",
    "\n",
    "fig = go.Figure(data=data, layout=layout)\n",
    "py.iplot(fig, filename='stacked-bar')"
   ]
  },
  {
   "cell_type": "code",
   "execution_count": 33,
   "metadata": {},
   "outputs": [
    {
     "data": {
      "application/vnd.plotly.v1+json": {
       "data": [
        {
         "marker": {
          "color": "rgb(237,248,251)"
         },
         "name": "Income Share Held By Lowest 20%",
         "type": "bar",
         "x": [
          1984,
          2000,
          2005,
          2010
         ],
         "y": [
          9.69,
          5.19,
          4.54,
          5.13
         ]
        },
        {
         "marker": {
          "color": "rgb(178,226,226)"
         },
         "name": "Income Share Held By Second 20%",
         "type": "bar",
         "x": [
          1984,
          2000,
          2005,
          2010
         ],
         "y": [
          13.09,
          8.87,
          8.14,
          8.27
         ]
        },
        {
         "marker": {
          "color": "rgb(102,194,164)"
         },
         "name": "Income Share Held By Third 20%",
         "type": "bar",
         "x": [
          1984,
          2000,
          2005,
          2010
         ],
         "y": [
          16.66,
          12.57,
          11.68,
          11.58
         ]
        },
        {
         "marker": {
          "color": "rgb(44,162,95)"
         },
         "name": "Income Share Held By Fourth 20%",
         "type": "bar",
         "x": [
          1984,
          2000,
          2005,
          2010
         ],
         "y": [
          21.63,
          18.44,
          17.64,
          17.05
         ]
        },
        {
         "marker": {
          "color": "rgb(0,109,44)"
         },
         "name": "Income Share Held By Highest 20%",
         "type": "bar",
         "x": [
          1984,
          2000,
          2005,
          2010
         ],
         "y": [
          38.92,
          54.92,
          58.02,
          57.97
         ]
        }
       ],
       "layout": {
        "barmode": "stack",
        "title": "Income Distribution (By Quintiles) - Rwanda"
       }
      },
      "text/html": [
       "<div id=\"aae03e65-b29d-480e-8387-9bd6f015d35c\" style=\"height: 525px; width: 100%;\" class=\"plotly-graph-div\"></div><script type=\"text/javascript\">require([\"plotly\"], function(Plotly) { window.PLOTLYENV=window.PLOTLYENV || {};window.PLOTLYENV.BASE_URL=\"https://plot.ly\";Plotly.newPlot(\"aae03e65-b29d-480e-8387-9bd6f015d35c\", [{\"type\": \"bar\", \"x\": [1984, 2000, 2005, 2010], \"y\": [9.69, 5.19, 4.54, 5.13], \"name\": \"Income Share Held By Lowest 20%\", \"marker\": {\"color\": \"rgb(237,248,251)\"}}, {\"type\": \"bar\", \"x\": [1984, 2000, 2005, 2010], \"y\": [13.09, 8.87, 8.14, 8.27], \"name\": \"Income Share Held By Second 20%\", \"marker\": {\"color\": \"rgb(178,226,226)\"}}, {\"type\": \"bar\", \"x\": [1984, 2000, 2005, 2010], \"y\": [16.66, 12.57, 11.68, 11.58], \"name\": \"Income Share Held By Third 20%\", \"marker\": {\"color\": \"rgb(102,194,164)\"}}, {\"type\": \"bar\", \"x\": [1984, 2000, 2005, 2010], \"y\": [21.63, 18.44, 17.64, 17.05], \"name\": \"Income Share Held By Fourth 20%\", \"marker\": {\"color\": \"rgb(44,162,95)\"}}, {\"type\": \"bar\", \"x\": [1984, 2000, 2005, 2010], \"y\": [38.92, 54.92, 58.02, 57.97], \"name\": \"Income Share Held By Highest 20%\", \"marker\": {\"color\": \"rgb(0,109,44)\"}}], {\"title\": \"Income Distribution (By Quintiles) - Rwanda\", \"barmode\": \"stack\"}, {\"showLink\": true, \"linkText\": \"Export to plot.ly\"})});</script>"
      ],
      "text/vnd.plotly.v1+html": [
       "<div id=\"aae03e65-b29d-480e-8387-9bd6f015d35c\" style=\"height: 525px; width: 100%;\" class=\"plotly-graph-div\"></div><script type=\"text/javascript\">require([\"plotly\"], function(Plotly) { window.PLOTLYENV=window.PLOTLYENV || {};window.PLOTLYENV.BASE_URL=\"https://plot.ly\";Plotly.newPlot(\"aae03e65-b29d-480e-8387-9bd6f015d35c\", [{\"type\": \"bar\", \"x\": [1984, 2000, 2005, 2010], \"y\": [9.69, 5.19, 4.54, 5.13], \"name\": \"Income Share Held By Lowest 20%\", \"marker\": {\"color\": \"rgb(237,248,251)\"}}, {\"type\": \"bar\", \"x\": [1984, 2000, 2005, 2010], \"y\": [13.09, 8.87, 8.14, 8.27], \"name\": \"Income Share Held By Second 20%\", \"marker\": {\"color\": \"rgb(178,226,226)\"}}, {\"type\": \"bar\", \"x\": [1984, 2000, 2005, 2010], \"y\": [16.66, 12.57, 11.68, 11.58], \"name\": \"Income Share Held By Third 20%\", \"marker\": {\"color\": \"rgb(102,194,164)\"}}, {\"type\": \"bar\", \"x\": [1984, 2000, 2005, 2010], \"y\": [21.63, 18.44, 17.64, 17.05], \"name\": \"Income Share Held By Fourth 20%\", \"marker\": {\"color\": \"rgb(44,162,95)\"}}, {\"type\": \"bar\", \"x\": [1984, 2000, 2005, 2010], \"y\": [38.92, 54.92, 58.02, 57.97], \"name\": \"Income Share Held By Highest 20%\", \"marker\": {\"color\": \"rgb(0,109,44)\"}}], {\"title\": \"Income Distribution (By Quintiles) - Rwanda\", \"barmode\": \"stack\"}, {\"showLink\": true, \"linkText\": \"Export to plot.ly\"})});</script>"
      ]
     },
     "metadata": {},
     "output_type": "display_data"
    }
   ],
   "source": [
    "trace1 = go.Bar(\n",
    "    x = RWA_income_share[RWA_income_share['IndicatorCode'] == 'SI.DST.FRST.20'][\"Year\"],\n",
    "    y = RWA_income_share[RWA_income_share['IndicatorCode'] == 'SI.DST.FRST.20'][\"Value\"],\n",
    "    name = 'Income Share Held By Lowest 20%',\n",
    "    marker = dict(\n",
    "        color='rgb(237,248,251)'\n",
    "    )\n",
    ")\n",
    "\n",
    "trace2 = go.Bar(\n",
    "    x = RWA_income_share[RWA_income_share['IndicatorCode'] == 'SI.DST.02ND.20'][\"Year\"],\n",
    "    y = RWA_income_share[RWA_income_share['IndicatorCode'] == 'SI.DST.02ND.20'][\"Value\"],\n",
    "    name = 'Income Share Held By Second 20%',\n",
    "    marker = dict(\n",
    "        color='rgb(178,226,226)'\n",
    "    )\n",
    ")\n",
    "\n",
    "trace3 = go.Bar(\n",
    "    x = RWA_income_share[RWA_income_share['IndicatorCode'] == 'SI.DST.03RD.20'][\"Year\"],\n",
    "    y = RWA_income_share[RWA_income_share['IndicatorCode'] == 'SI.DST.03RD.20'][\"Value\"],\n",
    "    name = 'Income Share Held By Third 20%',\n",
    "    marker = dict(\n",
    "        color='rgb(102,194,164)'\n",
    "    )\n",
    ")\n",
    "\n",
    "trace4 = go.Bar(\n",
    "    x = RWA_income_share[RWA_income_share['IndicatorCode'] == 'SI.DST.04TH.20'][\"Year\"],\n",
    "    y = RWA_income_share[RWA_income_share['IndicatorCode'] == 'SI.DST.04TH.20'][\"Value\"],\n",
    "    name = 'Income Share Held By Fourth 20%',\n",
    "    marker = dict(\n",
    "        color='rgb(44,162,95)'\n",
    "    )\n",
    ")\n",
    "\n",
    "trace5 = go.Bar(\n",
    "    x = RWA_income_share[RWA_income_share['IndicatorCode'] == 'SI.DST.05TH.20'][\"Year\"],\n",
    "    y = RWA_income_share[RWA_income_share['IndicatorCode'] == 'SI.DST.05TH.20'][\"Value\"],\n",
    "    name = 'Income Share Held By Highest 20%',\n",
    "    marker = dict(\n",
    "        color='rgb(0,109,44)'\n",
    "    )\n",
    ")\n",
    "\n",
    "data = [trace1, trace2, trace3, trace4, trace5]\n",
    "layout = go.Layout(\n",
    "    title = 'Income Distribution (By Quintiles) - Rwanda',\n",
    "    barmode='stack'\n",
    ")\n",
    "\n",
    "fig = go.Figure(data=data, layout=layout)\n",
    "py.iplot(fig, filename='stacked-bar')"
   ]
  },
  {
   "cell_type": "code",
   "execution_count": 34,
   "metadata": {},
   "outputs": [
    {
     "data": {
      "application/vnd.plotly.v1+json": {
       "data": [
        {
         "name": "Income Share Held By Lowest 10%",
         "type": "bar",
         "x": [
          1984,
          2000,
          2005,
          2010
         ],
         "y": [
          4.4,
          1.99,
          1.72,
          2.07
         ]
        },
        {
         "marker": {
          "color": "rgb(158,202,225)"
         },
         "name": "Income Share Held By Highest 10%",
         "type": "bar",
         "x": [
          1984,
          2000,
          2005,
          2010
         ],
         "y": [
          24.58,
          40.8,
          43.88,
          44.34
         ]
        }
       ],
       "layout": {
        "barmode": "stack",
        "title": "Income Distribution - Rwanda"
       }
      },
      "text/html": [
       "<div id=\"0a260705-4a82-4952-8957-2dfe8c1a81b7\" style=\"height: 525px; width: 100%;\" class=\"plotly-graph-div\"></div><script type=\"text/javascript\">require([\"plotly\"], function(Plotly) { window.PLOTLYENV=window.PLOTLYENV || {};window.PLOTLYENV.BASE_URL=\"https://plot.ly\";Plotly.newPlot(\"0a260705-4a82-4952-8957-2dfe8c1a81b7\", [{\"type\": \"bar\", \"x\": [1984, 2000, 2005, 2010], \"y\": [4.4, 1.99, 1.72, 2.07], \"name\": \"Income Share Held By Lowest 10%\"}, {\"type\": \"bar\", \"x\": [1984, 2000, 2005, 2010], \"y\": [24.58, 40.8, 43.88, 44.34], \"name\": \"Income Share Held By Highest 10%\", \"marker\": {\"color\": \"rgb(158,202,225)\"}}], {\"title\": \"Income Distribution - Rwanda\", \"barmode\": \"stack\"}, {\"showLink\": true, \"linkText\": \"Export to plot.ly\"})});</script>"
      ],
      "text/vnd.plotly.v1+html": [
       "<div id=\"0a260705-4a82-4952-8957-2dfe8c1a81b7\" style=\"height: 525px; width: 100%;\" class=\"plotly-graph-div\"></div><script type=\"text/javascript\">require([\"plotly\"], function(Plotly) { window.PLOTLYENV=window.PLOTLYENV || {};window.PLOTLYENV.BASE_URL=\"https://plot.ly\";Plotly.newPlot(\"0a260705-4a82-4952-8957-2dfe8c1a81b7\", [{\"type\": \"bar\", \"x\": [1984, 2000, 2005, 2010], \"y\": [4.4, 1.99, 1.72, 2.07], \"name\": \"Income Share Held By Lowest 10%\"}, {\"type\": \"bar\", \"x\": [1984, 2000, 2005, 2010], \"y\": [24.58, 40.8, 43.88, 44.34], \"name\": \"Income Share Held By Highest 10%\", \"marker\": {\"color\": \"rgb(158,202,225)\"}}], {\"title\": \"Income Distribution - Rwanda\", \"barmode\": \"stack\"}, {\"showLink\": true, \"linkText\": \"Export to plot.ly\"})});</script>"
      ]
     },
     "metadata": {},
     "output_type": "display_data"
    }
   ],
   "source": [
    "trace1 = go.Bar(\n",
    "    x = RWA_income_share[RWA_income_share['IndicatorCode'] == 'SI.DST.FRST.10'][\"Year\"],\n",
    "    y = RWA_income_share[RWA_income_share['IndicatorCode'] == 'SI.DST.FRST.10'][\"Value\"],\n",
    "    name = 'Income Share Held By Lowest 10%'\n",
    ")\n",
    "\n",
    "trace2 = go.Bar(\n",
    "    x = RWA_income_share[RWA_income_share['IndicatorCode'] == 'SI.DST.10TH.10'][\"Year\"],\n",
    "    y = RWA_income_share[RWA_income_share['IndicatorCode'] == 'SI.DST.10TH.10'][\"Value\"],\n",
    "    name = 'Income Share Held By Highest 10%',\n",
    "    marker = dict(\n",
    "        color='rgb(158,202,225)'\n",
    "    )\n",
    ")\n",
    "\n",
    "data = [trace1, trace2]\n",
    "layout = go.Layout(\n",
    "    title = 'Income Distribution - Rwanda',\n",
    "    barmode='stack'\n",
    ")\n",
    "\n",
    "fig = go.Figure(data=data, layout=layout)\n",
    "py.iplot(fig, filename='stacked-bar')"
   ]
  },
  {
   "cell_type": "markdown",
   "metadata": {},
   "source": [
    "##### 3.1.6 Poverty Rates"
   ]
  },
  {
   "cell_type": "markdown",
   "metadata": {},
   "source": [
    "The poverty headcount ratio at $\\$$1.90 a day is the percentage of the population living on less than $\\$$1.90 a day at 2011 international prices. The national poverty headcount ratio is the percentage of the population living below the national poverty lines. National estimates are based on population-weighted subgroup estimates from household surveys.\n",
    "\n",
    "Overall, the descreasing trend in poverty rates across all chosen countries indicates progress in the alleviation of poverty. Although the distribution of income is not necessarily becoming more equitable, the combination of both increasing GDP per capita PPP quantities and decreasing poverty rates does indicate that the standard of living for the whole population is generally improving."
   ]
  },
  {
   "cell_type": "code",
   "execution_count": 35,
   "metadata": {
    "collapsed": true
   },
   "outputs": [],
   "source": [
    "poverty_rate_190 = pd.read_sql(\"\"\" SELECT IndicatorCode, CountryName, Year, Value\n",
    "                FROM Indicators\n",
    "                WHERE IndicatorCode = 'SI.POV.DDAY'\n",
    "                AND CountryName IN ('China', 'India', 'Indonesia', 'Ecuador', 'Rwanda',\n",
    "                                    'Ethiopia')\"\"\", con=conn)\n",
    "poverty_rate_190 = poverty_rate_190.sort_values(['CountryName', 'Year'], ascending=[1,0])\n",
    "\n",
    "poverty_rate_NPL = pd.read_sql(\"\"\" SELECT IndicatorCode, CountryName, Year, Value\n",
    "                FROM Indicators\n",
    "                WHERE IndicatorCode = 'SI.POV.NAHC'\n",
    "                AND CountryName IN ('China', 'India', 'Indonesia', 'Ecuador', 'Rwanda',\n",
    "                                    'Ethiopia')\"\"\", con=conn)\n",
    "poverty_rate_NPL = poverty_rate_NPL.sort_values(['CountryName', 'Year'], ascending=[1,0])\n",
    "\n",
    "frames = [poverty_rate_190, poverty_rate_NPL]\n",
    "poverty_rates = pd.concat(frames)"
   ]
  },
  {
   "cell_type": "code",
   "execution_count": 36,
   "metadata": {},
   "outputs": [
    {
     "data": {
      "image/png": "[encoded data removed]",
      "text/plain": [
       "<matplotlib.figure.Figure at 0x1881a9a58>"
      ]
     },
     "metadata": {},
     "output_type": "display_data"
    }
   ],
   "source": [
    "sns.set_style('whitegrid')\n",
    "sns.set_palette(\"Paired\")\n",
    "\n",
    "plt.subplot(1, 2, 1)\n",
    "plt.plot(poverty_rate_190[poverty_rate_190['CountryName'] == 'China'][\"Year\"], poverty_rate_190[poverty_rate_190['CountryName'] == 'China'][\"Value\"], label = 'China')\n",
    "plt.plot(poverty_rate_190[poverty_rate_190['CountryName'] == 'India'][\"Year\"], poverty_rate_190[poverty_rate_190['CountryName'] == 'India'][\"Value\"], label = 'India')\n",
    "plt.plot(poverty_rate_190[poverty_rate_190['CountryName'] == 'Indonesia'][\"Year\"], poverty_rate_190[poverty_rate_190['CountryName'] == 'Indonesia'][\"Value\"], label = 'Indonesia')\n",
    "plt.plot(poverty_rate_190[poverty_rate_190['CountryName'] == 'Ecuador'][\"Year\"], poverty_rate_190[poverty_rate_190['CountryName'] == 'Ecuador'][\"Value\"], label = 'Ecuador')\n",
    "plt.plot(poverty_rate_190[poverty_rate_190['CountryName'] == 'Ethiopia'][\"Year\"], poverty_rate_190[poverty_rate_190['CountryName'] == 'Ethiopia'][\"Value\"], label = 'Ethiopia')\n",
    "plt.plot(poverty_rate_190[poverty_rate_190['CountryName'] == 'Rwanda'][\"Year\"], poverty_rate_190[poverty_rate_190['CountryName'] == 'Rwanda'][\"Value\"], label = 'Rwanda')\n",
    "plt.title('Poverty Headcount Ratio at $1.90 Per Day')\n",
    "plt.xlabel('Year')\n",
    "plt.ylabel('Poverty Headcount Ratio (%)')\n",
    "plt.legend(bbox_to_anchor=(1.01, 1), loc=2, borderaxespad=1.)\n",
    "\n",
    "plt.subplot(1, 2, 2)\n",
    "plt.plot(poverty_rate_NPL[poverty_rate_NPL['CountryName'] == 'China'][\"Year\"], poverty_rate_NPL[poverty_rate_NPL['CountryName'] == 'China'][\"Value\"], label = 'China')\n",
    "plt.plot(poverty_rate_NPL[poverty_rate_NPL['CountryName'] == 'India'][\"Year\"], poverty_rate_NPL[poverty_rate_NPL['CountryName'] == 'India'][\"Value\"], label = 'India')\n",
    "plt.plot(poverty_rate_NPL[poverty_rate_NPL['CountryName'] == 'Indonesia'][\"Year\"], poverty_rate_NPL[poverty_rate_NPL['CountryName'] == 'Indonesia'][\"Value\"], label = 'Indonesia')\n",
    "plt.plot(poverty_rate_NPL[poverty_rate_NPL['CountryName'] == 'Ecuador'][\"Year\"], poverty_rate_NPL[poverty_rate_NPL['CountryName'] == 'Ecuador'][\"Value\"], label = 'Ecuador')\n",
    "plt.plot(poverty_rate_NPL[poverty_rate_NPL['CountryName'] == 'Ethiopia'][\"Year\"], poverty_rate_NPL[poverty_rate_NPL['CountryName'] == 'Ethiopia'][\"Value\"], label = 'Ethiopia')\n",
    "plt.plot(poverty_rate_NPL[poverty_rate_NPL['CountryName'] == 'Rwanda'][\"Year\"], poverty_rate_NPL[poverty_rate_NPL['CountryName'] == 'Rwanda'][\"Value\"], label = 'Rwanda')\n",
    "plt.title('Poverty Headcount Ratio at National Poverty Line')\n",
    "plt.xlabel('Year')\n",
    "plt.ylabel('Poverty Headcount Ratio (%)')\n",
    "plt.legend(bbox_to_anchor=(1.01, 1), loc=2, borderaxespad=1.)\n",
    "\n",
    "plt.subplots_adjust(right = 1.5, wspace=1)"
   ]
  },
  {
   "cell_type": "markdown",
   "metadata": {
    "collapsed": true
   },
   "source": [
    "##### 3.1.7 Labour Force Structure"
   ]
  },
  {
   "cell_type": "markdown",
   "metadata": {},
   "source": [
    "Unemployment and total employment are the broadest indicators of economic activity as reflected by the labour market.Employment is defined as persons of working age who were engaged in any activity to produce goods or services for pay or profit, whether at work during the reference period, or not at work due to temporary absence from a job, or to working-time arrangement.\n",
    "\n",
    "1. The employment to population ratio is the proportion of a country's population that is employed. The working age population is considered to be all those individuals who are aged 15 years and older.\n",
    "2. The labour force participation rate is the proportion of the population ages 15 and older that is economically active - that is, all people who supply labour for the production of goods and services during a specified period.\n",
    "3. The unemployment rate refers to the share of the labour force that is without work, but available for and seeking employment.\n",
    "\n",
    "While both the employment to population ratio and labour force participation rate has decreased over time for China, India and Rwanda, the unemployment rates for these countries have remained relatively stable over time. From this, we can deduce that both the employment to population ratio and the labour force participation rate are inversely related to the rate of unemployment."
   ]
  },
  {
   "cell_type": "code",
   "execution_count": 37,
   "metadata": {
    "collapsed": true
   },
   "outputs": [],
   "source": [
    "lf_structure = pd.read_sql(\"\"\" SELECT IndicatorCode, CountryName, Year, Value\n",
    "                FROM Indicators\n",
    "                WHERE IndicatorCode IN ('SL.EMP.TOTL.SP.ZS', 'SL.TLF.CACT.ZS', 'SL.UEM.TOTL.ZS')\n",
    "                AND CountryName IN ('China', 'India', 'Indonesia', 'Ecuador', 'Rwanda',\n",
    "                                    'Ethiopia')\"\"\", con=conn)\n",
    "lf_structure = lf_structure.sort_values(['CountryName', 'Year'], ascending=[1,0])"
   ]
  },
  {
   "cell_type": "code",
   "execution_count": 38,
   "metadata": {},
   "outputs": [
    {
     "data": {
      "image/png": "[encoded data removed]",
      "text/plain": [
       "<matplotlib.figure.Figure at 0x1881a9a90>"
      ]
     },
     "metadata": {},
     "output_type": "display_data"
    }
   ],
   "source": [
    "sns.set_palette(\"Paired\")\n",
    "sns.set_style('whitegrid')\n",
    "\n",
    "plt.subplot(1, 3, 1)\n",
    "plt.plot(lf_structure[(lf_structure['IndicatorCode'] == 'SL.EMP.TOTL.SP.ZS') & (lf_structure['CountryName'] == 'China')][\"Year\"], lf_structure[(lf_structure['IndicatorCode'] == 'SL.EMP.TOTL.SP.ZS') & (lf_structure['CountryName'] == 'China')][\"Value\"], label = 'China')\n",
    "plt.plot(lf_structure[(lf_structure['IndicatorCode'] == 'SL.EMP.TOTL.SP.ZS') & (lf_structure['CountryName'] == 'India')][\"Year\"], lf_structure[(lf_structure['IndicatorCode'] == 'SL.EMP.TOTL.SP.ZS') & (lf_structure['CountryName'] == 'India')][\"Value\"], label = 'India')\n",
    "plt.plot(lf_structure[(lf_structure['IndicatorCode'] == 'SL.EMP.TOTL.SP.ZS') & (lf_structure['CountryName'] == 'Indonesia')][\"Year\"], lf_structure[(lf_structure['IndicatorCode'] == 'SL.EMP.TOTL.SP.ZS') & (lf_structure['CountryName'] == 'Indonesia')][\"Value\"], label = 'Indonesia')\n",
    "plt.plot(lf_structure[(lf_structure['IndicatorCode'] == 'SL.EMP.TOTL.SP.ZS') & (lf_structure['CountryName'] == 'Ecuador')][\"Year\"], lf_structure[(lf_structure['IndicatorCode'] == 'SL.EMP.TOTL.SP.ZS') & (lf_structure['CountryName'] == 'Ecuador')][\"Value\"], label = 'Ecuador')\n",
    "plt.plot(lf_structure[(lf_structure['IndicatorCode'] == 'SL.EMP.TOTL.SP.ZS') & (lf_structure['CountryName'] == 'Ethiopia')][\"Year\"], lf_structure[(lf_structure['IndicatorCode'] == 'SL.EMP.TOTL.SP.ZS') & (lf_structure['CountryName'] == 'Ethiopia')][\"Value\"], label = 'Ethiopia')\n",
    "plt.plot(lf_structure[(lf_structure['IndicatorCode'] == 'SL.EMP.TOTL.SP.ZS') & (lf_structure['CountryName'] == 'Rwanda')][\"Year\"], lf_structure[(lf_structure['IndicatorCode'] == 'SL.EMP.TOTL.SP.ZS') & (lf_structure['CountryName'] == 'Rwanda')][\"Value\"], label = 'Rwanda')\n",
    "plt.title('Employment to Population Ratio (15+ Years)')\n",
    "plt.xlabel('Year')\n",
    "plt.ylabel('Employment to Population Ratio (%)')\n",
    "plt.legend(bbox_to_anchor=(1.01, 1), loc=2, borderaxespad=1.)\n",
    "\n",
    "plt.subplot(1, 3, 2)\n",
    "plt.plot(lf_structure[(lf_structure['IndicatorCode'] == 'SL.TLF.CACT.ZS') & (lf_structure['CountryName'] == 'China')][\"Year\"], lf_structure[(lf_structure['IndicatorCode'] == 'SL.TLF.CACT.ZS') & (lf_structure['CountryName'] == 'China')][\"Value\"], label = 'China')\n",
    "plt.plot(lf_structure[(lf_structure['IndicatorCode'] == 'SL.TLF.CACT.ZS') & (lf_structure['CountryName'] == 'India')][\"Year\"], lf_structure[(lf_structure['IndicatorCode'] == 'SL.TLF.CACT.ZS') & (lf_structure['CountryName'] == 'India')][\"Value\"], label = 'India')\n",
    "plt.plot(lf_structure[(lf_structure['IndicatorCode'] == 'SL.TLF.CACT.ZS') & (lf_structure['CountryName'] == 'Indonesia')][\"Year\"], lf_structure[(lf_structure['IndicatorCode'] == 'SL.TLF.CACT.ZS') & (lf_structure['CountryName'] == 'Indonesia')][\"Value\"], label = 'Indonesia')\n",
    "plt.plot(lf_structure[(lf_structure['IndicatorCode'] == 'SL.TLF.CACT.ZS') & (lf_structure['CountryName'] == 'Ecuador')][\"Year\"], lf_structure[(lf_structure['IndicatorCode'] == 'SL.TLF.CACT.ZS') & (lf_structure['CountryName'] == 'Ecuador')][\"Value\"], label = 'Ecuador')\n",
    "plt.plot(lf_structure[(lf_structure['IndicatorCode'] == 'SL.TLF.CACT.ZS') & (lf_structure['CountryName'] == 'Ethiopia')][\"Year\"], lf_structure[(lf_structure['IndicatorCode'] == 'SL.TLF.CACT.ZS') & (lf_structure['CountryName'] == 'Ethiopia')][\"Value\"], label = 'Ethiopia')\n",
    "plt.plot(lf_structure[(lf_structure['IndicatorCode'] == 'SL.TLF.CACT.ZS') & (lf_structure['CountryName'] == 'Rwanda')][\"Year\"], lf_structure[(lf_structure['IndicatorCode'] == 'SL.TLF.CACT.ZS') & (lf_structure['CountryName'] == 'Rwanda')][\"Value\"], label = 'Rwanda')\n",
    "plt.title('Labour Force Participation Rate')\n",
    "plt.xlabel('Year')\n",
    "plt.ylabel('Participation Rate (% of Total Population)')\n",
    "plt.legend(bbox_to_anchor=(1.01, 1), loc=2, borderaxespad=1.)\n",
    "\n",
    "plt.subplot(1, 3, 3)\n",
    "plt.plot(lf_structure[(lf_structure['IndicatorCode'] == 'SL.UEM.TOTL.ZS') & (lf_structure['CountryName'] == 'China')][\"Year\"], lf_structure[(lf_structure['IndicatorCode'] == 'SL.UEM.TOTL.ZS') & (lf_structure['CountryName'] == 'China')][\"Value\"], label = 'China')\n",
    "plt.plot(lf_structure[(lf_structure['IndicatorCode'] == 'SL.UEM.TOTL.ZS') & (lf_structure['CountryName'] == 'India')][\"Year\"], lf_structure[(lf_structure['IndicatorCode'] == 'SL.UEM.TOTL.ZS') & (lf_structure['CountryName'] == 'India')][\"Value\"], label = 'India')\n",
    "plt.plot(lf_structure[(lf_structure['IndicatorCode'] == 'SL.UEM.TOTL.ZS') & (lf_structure['CountryName'] == 'Indonesia')][\"Year\"], lf_structure[(lf_structure['IndicatorCode'] == 'SL.UEM.TOTL.ZS') & (lf_structure['CountryName'] == 'Indonesia')][\"Value\"], label = 'Indonesia')\n",
    "plt.plot(lf_structure[(lf_structure['IndicatorCode'] == 'SL.UEM.TOTL.ZS') & (lf_structure['CountryName'] == 'Ecuador')][\"Year\"], lf_structure[(lf_structure['IndicatorCode'] == 'SL.UEM.TOTL.ZS') & (lf_structure['CountryName'] == 'Ecuador')][\"Value\"], label = 'Ecuador')\n",
    "plt.plot(lf_structure[(lf_structure['IndicatorCode'] == 'SL.UEM.TOTL.ZS') & (lf_structure['CountryName'] == 'Ethiopia')][\"Year\"], lf_structure[(lf_structure['IndicatorCode'] == 'SL.UEM.TOTL.ZS') & (lf_structure['CountryName'] == 'Ethiopia')][\"Value\"], label = 'Ethiopia')\n",
    "plt.plot(lf_structure[(lf_structure['IndicatorCode'] == 'SL.UEM.TOTL.ZS') & (lf_structure['CountryName'] == 'Rwanda')][\"Year\"], lf_structure[(lf_structure['IndicatorCode'] == 'SL.UEM.TOTL.ZS') & (lf_structure['CountryName'] == 'Rwanda')][\"Value\"], label = 'Rwanda')\n",
    "plt.title('Unemployment Rate')\n",
    "plt.xlabel('Year')\n",
    "plt.ylabel('Unemployment Rate (% of Total Labour Force)')\n",
    "plt.legend(bbox_to_anchor=(1.01, 1), loc=2, borderaxespad=1.)\n",
    "\n",
    "plt.subplots_adjust(right = 1.5, wspace=2)"
   ]
  },
  {
   "cell_type": "markdown",
   "metadata": {},
   "source": [
    "Despite the fact that these indicators are important in assessing the economic activity of a country, we must also take into account that there is often a component of the unemployment rate that represents cyclical unemployment - that is, changes in unemployment over time may reflect changes in the demand for and supply of labour. In addition to these indicators, we should also examine the proportion of each country's labour force within different sectors of the economy. "
   ]
  },
  {
   "cell_type": "markdown",
   "metadata": {},
   "source": [
    "##### 3.1.8 Employment By Industry Sector"
   ]
  },
  {
   "cell_type": "markdown",
   "metadata": {},
   "source": [
    "1. The agriculture sector consists of activities in agriculture, hunting, forestry and fishing.\n",
    "2. The industry sector consists of mining and quarrying, manufacturing, construction, and public utilities including electricity, gas and water.\n",
    "3. The services sector consists of wholesale and retail trade and restaurants and hotels; transport, storage and communications; financing, insurance, real estate and business services; and community, social and personal services.\n",
    "\n",
    "The more developed an economy is, the greater the shift towards a service-based economy."
   ]
  },
  {
   "cell_type": "code",
   "execution_count": 39,
   "metadata": {
    "collapsed": true
   },
   "outputs": [],
   "source": [
    "empl_industry = pd.read_sql(\"\"\" SELECT IndicatorCode, CountryName, Year, Value\n",
    "                FROM Indicators\n",
    "                WHERE IndicatorCode IN ('SL.AGR.EMPL.ZS', 'SL.IND.EMPL.ZS', 'SL.SRV.EMPL.ZS')\n",
    "                AND CountryName IN ('China', 'India', 'Indonesia', 'Ecuador', 'Rwanda',\n",
    "                                    'Ethiopia')\"\"\", con=conn)\n",
    "empl_industry = empl_industry.sort_values(['CountryName', 'Year'], ascending=[1,0])"
   ]
  },
  {
   "cell_type": "markdown",
   "metadata": {},
   "source": [
    "Indeed, we observe that for China, the concentration of employment has notably shifted away from the agriculture sector and towards the industry and services sectors. In the 1980s, the proportion of employment in the agriculture sector constituted roughly 60% of the working population, however by 2010, the proportion of those employed in agriculture was less than 5%, with the majority of employment now in industry and services. This trend was also evident in India, Indonesia and Rwanda across the last two to three decades, and in Ecuador over the last decade. We are not able to observe any notable trends in Ethiopia, where the distribution of employment across the three main sectors is still fluctuating over time."
   ]
  },
  {
   "cell_type": "code",
   "execution_count": 40,
   "metadata": {},
   "outputs": [
    {
     "data": {
      "application/vnd.plotly.v1+json": {
       "data": [
        {
         "marker": {
          "color": "rgb(102,194,164)"
         },
         "name": "Employment in Agriculture (%)",
         "type": "bar",
         "x": [
          2011,
          2010,
          2009,
          2008,
          2007,
          2006,
          2005,
          2004,
          2003,
          2002,
          2001,
          2000,
          1999,
          1998,
          1997,
          1996,
          1995,
          1994,
          1993,
          1992,
          1991,
          1990,
          1989,
          1988,
          1987
         ],
         "y": [
          2.5,
          2.9000000953674303,
          3,
          3.4000000953674303,
          3.5,
          3.70000004768372,
          3.9000000953674303,
          4.19999980926514,
          4.40000009536743,
          44.0999984741211,
          45.2000007629395,
          46.2999992370605,
          46.9000015258789,
          47,
          47.4000015258789,
          47.7000007629395,
          48.5,
          49.5,
          50.7999992370605,
          53.0999984741211,
          53.9000015258789,
          53.4000015258789,
          59,
          59.4000015258789,
          60
         ]
        },
        {
         "marker": {
          "color": "rgb(44,162,95)"
         },
         "name": "Employment in Industry (%)",
         "type": "bar",
         "x": [
          2011,
          2010,
          2009,
          2008,
          2007,
          2006,
          2005,
          2004,
          2003,
          2002,
          2001,
          2000,
          1999,
          1998,
          1997,
          1996,
          1995,
          1994,
          1993,
          1992,
          1991,
          1990,
          1989,
          1988,
          1987
         ],
         "y": [
          46.9000015258789,
          44.2999992370605,
          44,
          43.9000015258789,
          44.5,
          44.2000007629395,
          43.4000015258789,
          42.2999992370605,
          41.9000015258789,
          17.7000007629395,
          17.2999992370605,
          17.2999992370605,
          17.5,
          17.8999996185303,
          20.3999996185303,
          20.7999992370605,
          21,
          20.7000007629395,
          20.2000007629395,
          19.6000003814697,
          19.2000007629395,
          19,
          21.2999992370605,
          22.399999618530302,
          22.2000007629395
         ]
        },
        {
         "marker": {
          "color": "rgb(0,109,44)"
         },
         "name": "Employment in Services (%)",
         "type": "bar",
         "x": [
          2011,
          2010,
          2009,
          2008,
          2007,
          2006,
          2005,
          2004,
          2003,
          2002,
          2001,
          2000,
          1999,
          1998,
          1997,
          1996,
          1995,
          1994,
          1993,
          1992,
          1991,
          1990,
          1989,
          1988,
          1987
         ],
         "y": [
          47,
          48.7999992370605,
          49.0999984741211,
          49.2999992370605,
          48.5999984741211,
          48.9000015258789,
          49.5,
          50.2999992370605,
          50.5,
          16.1000003814697,
          12.6999998092651,
          12.6999998092651,
          12.8999996185303,
          12.8000001907349,
          13.1000003814697,
          12.6999998092651,
          12.1999998092651,
          11.5,
          10.6000003814697,
          10.6000003814697,
          10.1999998092651,
          9.89999961853027,
          10.8999996185303,
          11.1000003814697,
          10.6999998092651
         ]
        }
       ],
       "layout": {
        "barmode": "stack",
        "title": "Employment By Industry Sector (%) - China"
       }
      },
      "text/html": [
       "<div id=\"b1d4ad21-0fb0-4cba-8a56-a0122ae1f96c\" style=\"height: 525px; width: 100%;\" class=\"plotly-graph-div\"></div><script type=\"text/javascript\">require([\"plotly\"], function(Plotly) { window.PLOTLYENV=window.PLOTLYENV || {};window.PLOTLYENV.BASE_URL=\"https://plot.ly\";Plotly.newPlot(\"b1d4ad21-0fb0-4cba-8a56-a0122ae1f96c\", [{\"type\": \"bar\", \"x\": [2011, 2010, 2009, 2008, 2007, 2006, 2005, 2004, 2003, 2002, 2001, 2000, 1999, 1998, 1997, 1996, 1995, 1994, 1993, 1992, 1991, 1990, 1989, 1988, 1987], \"y\": [2.5, 2.9000000953674303, 3.0, 3.4000000953674303, 3.5, 3.70000004768372, 3.9000000953674303, 4.19999980926514, 4.40000009536743, 44.0999984741211, 45.2000007629395, 46.2999992370605, 46.9000015258789, 47.0, 47.4000015258789, 47.7000007629395, 48.5, 49.5, 50.7999992370605, 53.0999984741211, 53.9000015258789, 53.4000015258789, 59.0, 59.4000015258789, 60.0], \"name\": \"Employment in Agriculture (%)\", \"marker\": {\"color\": \"rgb(102,194,164)\"}}, {\"type\": \"bar\", \"x\": [2011, 2010, 2009, 2008, 2007, 2006, 2005, 2004, 2003, 2002, 2001, 2000, 1999, 1998, 1997, 1996, 1995, 1994, 1993, 1992, 1991, 1990, 1989, 1988, 1987], \"y\": [46.9000015258789, 44.2999992370605, 44.0, 43.9000015258789, 44.5, 44.2000007629395, 43.4000015258789, 42.2999992370605, 41.9000015258789, 17.7000007629395, 17.2999992370605, 17.2999992370605, 17.5, 17.8999996185303, 20.3999996185303, 20.7999992370605, 21.0, 20.7000007629395, 20.2000007629395, 19.6000003814697, 19.2000007629395, 19.0, 21.2999992370605, 22.399999618530302, 22.2000007629395], \"name\": \"Employment in Industry (%)\", \"marker\": {\"color\": \"rgb(44,162,95)\"}}, {\"type\": \"bar\", \"x\": [2011, 2010, 2009, 2008, 2007, 2006, 2005, 2004, 2003, 2002, 2001, 2000, 1999, 1998, 1997, 1996, 1995, 1994, 1993, 1992, 1991, 1990, 1989, 1988, 1987], \"y\": [47.0, 48.7999992370605, 49.0999984741211, 49.2999992370605, 48.5999984741211, 48.9000015258789, 49.5, 50.2999992370605, 50.5, 16.1000003814697, 12.6999998092651, 12.6999998092651, 12.8999996185303, 12.8000001907349, 13.1000003814697, 12.6999998092651, 12.1999998092651, 11.5, 10.6000003814697, 10.6000003814697, 10.1999998092651, 9.89999961853027, 10.8999996185303, 11.1000003814697, 10.6999998092651], \"name\": \"Employment in Services (%)\", \"marker\": {\"color\": \"rgb(0,109,44)\"}}], {\"title\": \"Employment By Industry Sector (%) - China\", \"barmode\": \"stack\"}, {\"showLink\": true, \"linkText\": \"Export to plot.ly\"})});</script>"
      ],
      "text/vnd.plotly.v1+html": [
       "<div id=\"b1d4ad21-0fb0-4cba-8a56-a0122ae1f96c\" style=\"height: 525px; width: 100%;\" class=\"plotly-graph-div\"></div><script type=\"text/javascript\">require([\"plotly\"], function(Plotly) { window.PLOTLYENV=window.PLOTLYENV || {};window.PLOTLYENV.BASE_URL=\"https://plot.ly\";Plotly.newPlot(\"b1d4ad21-0fb0-4cba-8a56-a0122ae1f96c\", [{\"type\": \"bar\", \"x\": [2011, 2010, 2009, 2008, 2007, 2006, 2005, 2004, 2003, 2002, 2001, 2000, 1999, 1998, 1997, 1996, 1995, 1994, 1993, 1992, 1991, 1990, 1989, 1988, 1987], \"y\": [2.5, 2.9000000953674303, 3.0, 3.4000000953674303, 3.5, 3.70000004768372, 3.9000000953674303, 4.19999980926514, 4.40000009536743, 44.0999984741211, 45.2000007629395, 46.2999992370605, 46.9000015258789, 47.0, 47.4000015258789, 47.7000007629395, 48.5, 49.5, 50.7999992370605, 53.0999984741211, 53.9000015258789, 53.4000015258789, 59.0, 59.4000015258789, 60.0], \"name\": \"Employment in Agriculture (%)\", \"marker\": {\"color\": \"rgb(102,194,164)\"}}, {\"type\": \"bar\", \"x\": [2011, 2010, 2009, 2008, 2007, 2006, 2005, 2004, 2003, 2002, 2001, 2000, 1999, 1998, 1997, 1996, 1995, 1994, 1993, 1992, 1991, 1990, 1989, 1988, 1987], \"y\": [46.9000015258789, 44.2999992370605, 44.0, 43.9000015258789, 44.5, 44.2000007629395, 43.4000015258789, 42.2999992370605, 41.9000015258789, 17.7000007629395, 17.2999992370605, 17.2999992370605, 17.5, 17.8999996185303, 20.3999996185303, 20.7999992370605, 21.0, 20.7000007629395, 20.2000007629395, 19.6000003814697, 19.2000007629395, 19.0, 21.2999992370605, 22.399999618530302, 22.2000007629395], \"name\": \"Employment in Industry (%)\", \"marker\": {\"color\": \"rgb(44,162,95)\"}}, {\"type\": \"bar\", \"x\": [2011, 2010, 2009, 2008, 2007, 2006, 2005, 2004, 2003, 2002, 2001, 2000, 1999, 1998, 1997, 1996, 1995, 1994, 1993, 1992, 1991, 1990, 1989, 1988, 1987], \"y\": [47.0, 48.7999992370605, 49.0999984741211, 49.2999992370605, 48.5999984741211, 48.9000015258789, 49.5, 50.2999992370605, 50.5, 16.1000003814697, 12.6999998092651, 12.6999998092651, 12.8999996185303, 12.8000001907349, 13.1000003814697, 12.6999998092651, 12.1999998092651, 11.5, 10.6000003814697, 10.6000003814697, 10.1999998092651, 9.89999961853027, 10.8999996185303, 11.1000003814697, 10.6999998092651], \"name\": \"Employment in Services (%)\", \"marker\": {\"color\": \"rgb(0,109,44)\"}}], {\"title\": \"Employment By Industry Sector (%) - China\", \"barmode\": \"stack\"}, {\"showLink\": true, \"linkText\": \"Export to plot.ly\"})});</script>"
      ]
     },
     "metadata": {},
     "output_type": "display_data"
    }
   ],
   "source": [
    "trace1 = go.Bar(\n",
    "    x = empl_industry[(empl_industry['IndicatorCode'] == 'SL.AGR.EMPL.ZS') & (empl_industry['CountryName'] == 'China')][\"Year\"],\n",
    "    y = empl_industry[(empl_industry['IndicatorCode'] == 'SL.AGR.EMPL.ZS') & (empl_industry['CountryName'] == 'China')][\"Value\"],\n",
    "    name = 'Employment in Agriculture (%)',\n",
    "    marker = dict(\n",
    "        color='rgb(102,194,164)'\n",
    "    )\n",
    ")\n",
    "\n",
    "trace2 = go.Bar(\n",
    "    x = empl_industry[(empl_industry['IndicatorCode'] == 'SL.IND.EMPL.ZS') & (empl_industry['CountryName'] == 'China')][\"Year\"],\n",
    "    y = empl_industry[(empl_industry['IndicatorCode'] == 'SL.IND.EMPL.ZS') & (empl_industry['CountryName'] == 'China')][\"Value\"],\n",
    "    name = 'Employment in Industry (%)',\n",
    "    marker = dict(\n",
    "        color='rgb(44,162,95)'\n",
    "    )\n",
    ")\n",
    "\n",
    "trace3 = go.Bar(\n",
    "    x = empl_industry[(empl_industry['IndicatorCode'] == 'SL.SRV.EMPL.ZS') & (empl_industry['CountryName'] == 'China')][\"Year\"],\n",
    "    y = empl_industry[(empl_industry['IndicatorCode'] == 'SL.SRV.EMPL.ZS') & (empl_industry['CountryName'] == 'China')][\"Value\"],\n",
    "    name = 'Employment in Services (%)',\n",
    "    marker = dict(\n",
    "        color='rgb(0,109,44)'\n",
    "    )\n",
    ")\n",
    "\n",
    "data = [trace1, trace2, trace3]\n",
    "layout = go.Layout(\n",
    "    title = 'Employment By Industry Sector (%) - China',\n",
    "    barmode='stack'\n",
    ")\n",
    "\n",
    "fig = go.Figure(data=data, layout=layout)\n",
    "py.iplot(fig, filename='stacked-bar')"
   ]
  },
  {
   "cell_type": "code",
   "execution_count": 41,
   "metadata": {},
   "outputs": [
    {
     "data": {
      "application/vnd.plotly.v1+json": {
       "data": [
        {
         "marker": {
          "color": "rgb(102,194,164)"
         },
         "name": "Employment in Agriculture (%)",
         "type": "bar",
         "x": [
          2013,
          2012,
          2010,
          2005,
          2000,
          1994
         ],
         "y": [
          49.7000007629395,
          47.0999984741211,
          51.0999984741211,
          55.7999992370605,
          59.9000015258789,
          60.5
         ]
        },
        {
         "marker": {
          "color": "rgb(44,162,95)"
         },
         "name": "Employment in Industry (%)",
         "type": "bar",
         "x": [
          2013,
          2012,
          2010,
          2005,
          2000,
          1994
         ],
         "y": [
          21.5,
          24.7999992370605,
          22.399999618530302,
          19,
          16,
          15.6999998092651
         ]
        },
        {
         "marker": {
          "color": "rgb(0,109,44)"
         },
         "name": "Employment in Services (%)",
         "type": "bar",
         "x": [
          2013,
          2012,
          2010,
          2005,
          2000,
          1994
         ],
         "y": [
          28.7000007629395,
          28.100000381469698,
          26.600000381469698,
          25.2000007629395,
          24,
          22
         ]
        }
       ],
       "layout": {
        "barmode": "stack",
        "title": "Employment By Industry Sector (%) - India"
       }
      },
      "text/html": [
       "<div id=\"812786f2-0470-4eba-8797-b3ce813e3637\" style=\"height: 525px; width: 100%;\" class=\"plotly-graph-div\"></div><script type=\"text/javascript\">require([\"plotly\"], function(Plotly) { window.PLOTLYENV=window.PLOTLYENV || {};window.PLOTLYENV.BASE_URL=\"https://plot.ly\";Plotly.newPlot(\"812786f2-0470-4eba-8797-b3ce813e3637\", [{\"type\": \"bar\", \"x\": [2013, 2012, 2010, 2005, 2000, 1994], \"y\": [49.7000007629395, 47.0999984741211, 51.0999984741211, 55.7999992370605, 59.9000015258789, 60.5], \"name\": \"Employment in Agriculture (%)\", \"marker\": {\"color\": \"rgb(102,194,164)\"}}, {\"type\": \"bar\", \"x\": [2013, 2012, 2010, 2005, 2000, 1994], \"y\": [21.5, 24.7999992370605, 22.399999618530302, 19.0, 16.0, 15.6999998092651], \"name\": \"Employment in Industry (%)\", \"marker\": {\"color\": \"rgb(44,162,95)\"}}, {\"type\": \"bar\", \"x\": [2013, 2012, 2010, 2005, 2000, 1994], \"y\": [28.7000007629395, 28.100000381469698, 26.600000381469698, 25.2000007629395, 24.0, 22.0], \"name\": \"Employment in Services (%)\", \"marker\": {\"color\": \"rgb(0,109,44)\"}}], {\"title\": \"Employment By Industry Sector (%) - India\", \"barmode\": \"stack\"}, {\"showLink\": true, \"linkText\": \"Export to plot.ly\"})});</script>"
      ],
      "text/vnd.plotly.v1+html": [
       "<div id=\"812786f2-0470-4eba-8797-b3ce813e3637\" style=\"height: 525px; width: 100%;\" class=\"plotly-graph-div\"></div><script type=\"text/javascript\">require([\"plotly\"], function(Plotly) { window.PLOTLYENV=window.PLOTLYENV || {};window.PLOTLYENV.BASE_URL=\"https://plot.ly\";Plotly.newPlot(\"812786f2-0470-4eba-8797-b3ce813e3637\", [{\"type\": \"bar\", \"x\": [2013, 2012, 2010, 2005, 2000, 1994], \"y\": [49.7000007629395, 47.0999984741211, 51.0999984741211, 55.7999992370605, 59.9000015258789, 60.5], \"name\": \"Employment in Agriculture (%)\", \"marker\": {\"color\": \"rgb(102,194,164)\"}}, {\"type\": \"bar\", \"x\": [2013, 2012, 2010, 2005, 2000, 1994], \"y\": [21.5, 24.7999992370605, 22.399999618530302, 19.0, 16.0, 15.6999998092651], \"name\": \"Employment in Industry (%)\", \"marker\": {\"color\": \"rgb(44,162,95)\"}}, {\"type\": \"bar\", \"x\": [2013, 2012, 2010, 2005, 2000, 1994], \"y\": [28.7000007629395, 28.100000381469698, 26.600000381469698, 25.2000007629395, 24.0, 22.0], \"name\": \"Employment in Services (%)\", \"marker\": {\"color\": \"rgb(0,109,44)\"}}], {\"title\": \"Employment By Industry Sector (%) - India\", \"barmode\": \"stack\"}, {\"showLink\": true, \"linkText\": \"Export to plot.ly\"})});</script>"
      ]
     },
     "metadata": {},
     "output_type": "display_data"
    }
   ],
   "source": [
    "trace1 = go.Bar(\n",
    "    x = empl_industry[(empl_industry['IndicatorCode'] == 'SL.AGR.EMPL.ZS') & (empl_industry['CountryName'] == 'India')][\"Year\"],\n",
    "    y = empl_industry[(empl_industry['IndicatorCode'] == 'SL.AGR.EMPL.ZS') & (empl_industry['CountryName'] == 'India')][\"Value\"],\n",
    "    name = 'Employment in Agriculture (%)',\n",
    "    marker = dict(\n",
    "        color='rgb(102,194,164)'\n",
    "    )\n",
    ")\n",
    "\n",
    "trace2 = go.Bar(\n",
    "    x = empl_industry[(empl_industry['IndicatorCode'] == 'SL.IND.EMPL.ZS') & (empl_industry['CountryName'] == 'India')][\"Year\"],\n",
    "    y = empl_industry[(empl_industry['IndicatorCode'] == 'SL.IND.EMPL.ZS') & (empl_industry['CountryName'] == 'India')][\"Value\"],\n",
    "    name = 'Employment in Industry (%)',\n",
    "    marker = dict(\n",
    "        color='rgb(44,162,95)'\n",
    "    )\n",
    ")\n",
    "\n",
    "trace3 = go.Bar(\n",
    "    x = empl_industry[(empl_industry['IndicatorCode'] == 'SL.SRV.EMPL.ZS') & (empl_industry['CountryName'] == 'India')][\"Year\"],\n",
    "    y = empl_industry[(empl_industry['IndicatorCode'] == 'SL.SRV.EMPL.ZS') & (empl_industry['CountryName'] == 'India')][\"Value\"],\n",
    "    name = 'Employment in Services (%)',\n",
    "    marker = dict(\n",
    "        color='rgb(0,109,44)'\n",
    "    )\n",
    ")\n",
    "\n",
    "data = [trace1, trace2, trace3]\n",
    "layout = go.Layout(\n",
    "    title = 'Employment By Industry Sector (%) - India',\n",
    "    barmode='stack'\n",
    ")\n",
    "\n",
    "fig = go.Figure(data=data, layout=layout)\n",
    "py.iplot(fig, filename='stacked-bar')"
   ]
  },
  {
   "cell_type": "code",
   "execution_count": 42,
   "metadata": {},
   "outputs": [
    {
     "data": {
      "application/vnd.plotly.v1+json": {
       "data": [
        {
         "marker": {
          "color": "rgb(102,194,164)"
         },
         "name": "Employment in Agriculture (%)",
         "type": "bar",
         "x": [
          2014,
          2013,
          2012,
          2011,
          2010,
          2009,
          2008,
          2007,
          2006,
          2005,
          2004,
          2003,
          2002,
          2001,
          2000,
          1999,
          1998,
          1997,
          1996,
          1995,
          1994,
          1993,
          1992,
          1991,
          1990,
          1989,
          1988,
          1987,
          1986,
          1985,
          1982,
          1980
         ],
         "y": [
          34.2999992370605,
          34.7999992370605,
          35.2999992370605,
          36.2000007629395,
          38.2999992370605,
          39.7000007629395,
          40.2999992370605,
          41.2000007629395,
          42,
          44,
          43.2999992370605,
          46.4000015258789,
          44.2999992370605,
          43.7999992370605,
          45.2999992370605,
          43.2000007629395,
          45,
          41.2000007629395,
          44,
          44,
          46.0999984741211,
          50.5999984741211,
          54.9000015258789,
          53.9000015258789,
          55.9000015258789,
          56.2000007629395,
          55.9000015258789,
          55,
          55.0999984741211,
          54.7000007629395,
          54.7000007629395,
          56.4000015258789
         ]
        },
        {
         "marker": {
          "color": "rgb(44,162,95)"
         },
         "name": "Employment in Industry (%)",
         "type": "bar",
         "x": [
          2014,
          2013,
          2012,
          2011,
          2010,
          2009,
          2008,
          2007,
          2006,
          2005,
          2004,
          2003,
          2002,
          2001,
          2000,
          1999,
          1998,
          1997,
          1996,
          1995,
          1994,
          1993,
          1992,
          1991,
          1990,
          1989,
          1988,
          1987,
          1986,
          1985,
          1982,
          1980
         ],
         "y": [
          21,
          20.3999996185303,
          21.5,
          20.8999996185303,
          19.2999992370605,
          18.7999992370605,
          18.7999992370605,
          18.7999992370605,
          18.6000003814697,
          18.7000007629395,
          18,
          17.7000007629395,
          18.7999992370605,
          18.7000007629395,
          17.3999996185303,
          17.7999992370605,
          16.2999992370605,
          19,
          18.1000003814697,
          18.3999996185303,
          18.7000007629395,
          15.6999998092651,
          14.1000003814697,
          14.5,
          13.6999998092651,
          13.3000001907349,
          8.300000190734862,
          8.300000190734862,
          8.199999809265138,
          13.3999996185303,
          14.8999996185303,
          13.1000003814697
         ]
        },
        {
         "marker": {
          "color": "rgb(0,109,44)"
         },
         "name": "Employment in Services (%)",
         "type": "bar",
         "x": [
          2014,
          2013,
          2012,
          2011,
          2010,
          2009,
          2008,
          2007,
          2006,
          2005,
          2004,
          2003,
          2002,
          2001,
          2000,
          1999,
          1998,
          1997,
          1996,
          1995,
          1994,
          1993,
          1992,
          1991,
          1990,
          1989,
          1988,
          1987,
          1986,
          1985,
          1982,
          1980
         ],
         "y": [
          44.7999992370605,
          44.7999992370605,
          43.0999984741211,
          43,
          42.2999992370605,
          41.5,
          40.7999992370605,
          39.9000015258789,
          39.2999992370605,
          37.2000007629395,
          38.7000007629395,
          35.9000015258789,
          36.9000015258789,
          37.5,
          37.2999992370605,
          38.9000015258789,
          38.7999992370605,
          39.7999992370605,
          37.9000015258789,
          37.5999984741211,
          35,
          33.5,
          30.899999618530302,
          31.399999618530302,
          30.2000007629395,
          30.399999618530302,
          30.399999618530302,
          36.7000007629395,
          36.5,
          31.7999992370605,
          30.399999618530302,
          30.399999618530302
         ]
        }
       ],
       "layout": {
        "barmode": "stack",
        "title": "Employment By Industry Sector (%) - Indonesia"
       }
      },
      "text/html": [
       "<div id=\"1d4794de-abd0-443f-9e1c-6f286d8bf42e\" style=\"height: 525px; width: 100%;\" class=\"plotly-graph-div\"></div><script type=\"text/javascript\">require([\"plotly\"], function(Plotly) { window.PLOTLYENV=window.PLOTLYENV || {};window.PLOTLYENV.BASE_URL=\"https://plot.ly\";Plotly.newPlot(\"1d4794de-abd0-443f-9e1c-6f286d8bf42e\", [{\"type\": \"bar\", \"x\": [2014, 2013, 2012, 2011, 2010, 2009, 2008, 2007, 2006, 2005, 2004, 2003, 2002, 2001, 2000, 1999, 1998, 1997, 1996, 1995, 1994, 1993, 1992, 1991, 1990, 1989, 1988, 1987, 1986, 1985, 1982, 1980], \"y\": [34.2999992370605, 34.7999992370605, 35.2999992370605, 36.2000007629395, 38.2999992370605, 39.7000007629395, 40.2999992370605, 41.2000007629395, 42.0, 44.0, 43.2999992370605, 46.4000015258789, 44.2999992370605, 43.7999992370605, 45.2999992370605, 43.2000007629395, 45.0, 41.2000007629395, 44.0, 44.0, 46.0999984741211, 50.5999984741211, 54.9000015258789, 53.9000015258789, 55.9000015258789, 56.2000007629395, 55.9000015258789, 55.0, 55.0999984741211, 54.7000007629395, 54.7000007629395, 56.4000015258789], \"name\": \"Employment in Agriculture (%)\", \"marker\": {\"color\": \"rgb(102,194,164)\"}}, {\"type\": \"bar\", \"x\": [2014, 2013, 2012, 2011, 2010, 2009, 2008, 2007, 2006, 2005, 2004, 2003, 2002, 2001, 2000, 1999, 1998, 1997, 1996, 1995, 1994, 1993, 1992, 1991, 1990, 1989, 1988, 1987, 1986, 1985, 1982, 1980], \"y\": [21.0, 20.3999996185303, 21.5, 20.8999996185303, 19.2999992370605, 18.7999992370605, 18.7999992370605, 18.7999992370605, 18.6000003814697, 18.7000007629395, 18.0, 17.7000007629395, 18.7999992370605, 18.7000007629395, 17.3999996185303, 17.7999992370605, 16.2999992370605, 19.0, 18.1000003814697, 18.3999996185303, 18.7000007629395, 15.6999998092651, 14.1000003814697, 14.5, 13.6999998092651, 13.3000001907349, 8.300000190734862, 8.300000190734862, 8.199999809265138, 13.3999996185303, 14.8999996185303, 13.1000003814697], \"name\": \"Employment in Industry (%)\", \"marker\": {\"color\": \"rgb(44,162,95)\"}}, {\"type\": \"bar\", \"x\": [2014, 2013, 2012, 2011, 2010, 2009, 2008, 2007, 2006, 2005, 2004, 2003, 2002, 2001, 2000, 1999, 1998, 1997, 1996, 1995, 1994, 1993, 1992, 1991, 1990, 1989, 1988, 1987, 1986, 1985, 1982, 1980], \"y\": [44.7999992370605, 44.7999992370605, 43.0999984741211, 43.0, 42.2999992370605, 41.5, 40.7999992370605, 39.9000015258789, 39.2999992370605, 37.2000007629395, 38.7000007629395, 35.9000015258789, 36.9000015258789, 37.5, 37.2999992370605, 38.9000015258789, 38.7999992370605, 39.7999992370605, 37.9000015258789, 37.5999984741211, 35.0, 33.5, 30.899999618530302, 31.399999618530302, 30.2000007629395, 30.399999618530302, 30.399999618530302, 36.7000007629395, 36.5, 31.7999992370605, 30.399999618530302, 30.399999618530302], \"name\": \"Employment in Services (%)\", \"marker\": {\"color\": \"rgb(0,109,44)\"}}], {\"title\": \"Employment By Industry Sector (%) - Indonesia\", \"barmode\": \"stack\"}, {\"showLink\": true, \"linkText\": \"Export to plot.ly\"})});</script>"
      ],
      "text/vnd.plotly.v1+html": [
       "<div id=\"1d4794de-abd0-443f-9e1c-6f286d8bf42e\" style=\"height: 525px; width: 100%;\" class=\"plotly-graph-div\"></div><script type=\"text/javascript\">require([\"plotly\"], function(Plotly) { window.PLOTLYENV=window.PLOTLYENV || {};window.PLOTLYENV.BASE_URL=\"https://plot.ly\";Plotly.newPlot(\"1d4794de-abd0-443f-9e1c-6f286d8bf42e\", [{\"type\": \"bar\", \"x\": [2014, 2013, 2012, 2011, 2010, 2009, 2008, 2007, 2006, 2005, 2004, 2003, 2002, 2001, 2000, 1999, 1998, 1997, 1996, 1995, 1994, 1993, 1992, 1991, 1990, 1989, 1988, 1987, 1986, 1985, 1982, 1980], \"y\": [34.2999992370605, 34.7999992370605, 35.2999992370605, 36.2000007629395, 38.2999992370605, 39.7000007629395, 40.2999992370605, 41.2000007629395, 42.0, 44.0, 43.2999992370605, 46.4000015258789, 44.2999992370605, 43.7999992370605, 45.2999992370605, 43.2000007629395, 45.0, 41.2000007629395, 44.0, 44.0, 46.0999984741211, 50.5999984741211, 54.9000015258789, 53.9000015258789, 55.9000015258789, 56.2000007629395, 55.9000015258789, 55.0, 55.0999984741211, 54.7000007629395, 54.7000007629395, 56.4000015258789], \"name\": \"Employment in Agriculture (%)\", \"marker\": {\"color\": \"rgb(102,194,164)\"}}, {\"type\": \"bar\", \"x\": [2014, 2013, 2012, 2011, 2010, 2009, 2008, 2007, 2006, 2005, 2004, 2003, 2002, 2001, 2000, 1999, 1998, 1997, 1996, 1995, 1994, 1993, 1992, 1991, 1990, 1989, 1988, 1987, 1986, 1985, 1982, 1980], \"y\": [21.0, 20.3999996185303, 21.5, 20.8999996185303, 19.2999992370605, 18.7999992370605, 18.7999992370605, 18.7999992370605, 18.6000003814697, 18.7000007629395, 18.0, 17.7000007629395, 18.7999992370605, 18.7000007629395, 17.3999996185303, 17.7999992370605, 16.2999992370605, 19.0, 18.1000003814697, 18.3999996185303, 18.7000007629395, 15.6999998092651, 14.1000003814697, 14.5, 13.6999998092651, 13.3000001907349, 8.300000190734862, 8.300000190734862, 8.199999809265138, 13.3999996185303, 14.8999996185303, 13.1000003814697], \"name\": \"Employment in Industry (%)\", \"marker\": {\"color\": \"rgb(44,162,95)\"}}, {\"type\": \"bar\", \"x\": [2014, 2013, 2012, 2011, 2010, 2009, 2008, 2007, 2006, 2005, 2004, 2003, 2002, 2001, 2000, 1999, 1998, 1997, 1996, 1995, 1994, 1993, 1992, 1991, 1990, 1989, 1988, 1987, 1986, 1985, 1982, 1980], \"y\": [44.7999992370605, 44.7999992370605, 43.0999984741211, 43.0, 42.2999992370605, 41.5, 40.7999992370605, 39.9000015258789, 39.2999992370605, 37.2000007629395, 38.7000007629395, 35.9000015258789, 36.9000015258789, 37.5, 37.2999992370605, 38.9000015258789, 38.7999992370605, 39.7999992370605, 37.9000015258789, 37.5999984741211, 35.0, 33.5, 30.899999618530302, 31.399999618530302, 30.2000007629395, 30.399999618530302, 30.399999618530302, 36.7000007629395, 36.5, 31.7999992370605, 30.399999618530302, 30.399999618530302], \"name\": \"Employment in Services (%)\", \"marker\": {\"color\": \"rgb(0,109,44)\"}}], {\"title\": \"Employment By Industry Sector (%) - Indonesia\", \"barmode\": \"stack\"}, {\"showLink\": true, \"linkText\": \"Export to plot.ly\"})});</script>"
      ]
     },
     "metadata": {},
     "output_type": "display_data"
    }
   ],
   "source": [
    "trace1 = go.Bar(\n",
    "    x = empl_industry[(empl_industry['IndicatorCode'] == 'SL.AGR.EMPL.ZS') & (empl_industry['CountryName'] == 'Indonesia')][\"Year\"],\n",
    "    y = empl_industry[(empl_industry['IndicatorCode'] == 'SL.AGR.EMPL.ZS') & (empl_industry['CountryName'] == 'Indonesia')][\"Value\"],\n",
    "    name = 'Employment in Agriculture (%)',\n",
    "    marker = dict(\n",
    "        color='rgb(102,194,164)'\n",
    "    )\n",
    ")\n",
    "\n",
    "trace2 = go.Bar(\n",
    "    x = empl_industry[(empl_industry['IndicatorCode'] == 'SL.IND.EMPL.ZS') & (empl_industry['CountryName'] == 'Indonesia')][\"Year\"],\n",
    "    y = empl_industry[(empl_industry['IndicatorCode'] == 'SL.IND.EMPL.ZS') & (empl_industry['CountryName'] == 'Indonesia')][\"Value\"],\n",
    "    name = 'Employment in Industry (%)',\n",
    "    marker = dict(\n",
    "        color='rgb(44,162,95)'\n",
    "    )\n",
    ")\n",
    "\n",
    "trace3 = go.Bar(\n",
    "    x = empl_industry[(empl_industry['IndicatorCode'] == 'SL.SRV.EMPL.ZS') & (empl_industry['CountryName'] == 'Indonesia')][\"Year\"],\n",
    "    y = empl_industry[(empl_industry['IndicatorCode'] == 'SL.SRV.EMPL.ZS') & (empl_industry['CountryName'] == 'Indonesia')][\"Value\"],\n",
    "    name = 'Employment in Services (%)',\n",
    "    marker = dict(\n",
    "        color='rgb(0,109,44)'\n",
    "    )\n",
    ")\n",
    "\n",
    "data = [trace1, trace2, trace3]\n",
    "layout = go.Layout(\n",
    "    title = 'Employment By Industry Sector (%) - Indonesia',\n",
    "    barmode='stack'\n",
    ")\n",
    "\n",
    "fig = go.Figure(data=data, layout=layout)\n",
    "py.iplot(fig, filename='stacked-bar')"
   ]
  },
  {
   "cell_type": "code",
   "execution_count": 43,
   "metadata": {},
   "outputs": [
    {
     "data": {
      "application/vnd.plotly.v1+json": {
       "data": [
        {
         "marker": {
          "color": "rgb(102,194,164)"
         },
         "name": "Employment in Agriculture (%)",
         "type": "bar",
         "x": [
          2013,
          2012,
          2011,
          2010,
          2009,
          2008,
          2007,
          2006,
          2005,
          2004,
          2003,
          2001,
          2000,
          1999,
          1998,
          1997,
          1996,
          1995,
          1994,
          1993,
          1992,
          1991,
          1990,
          1989,
          1988
         ],
         "y": [
          25.2999992370605,
          27.7999992370605,
          28.2999992370605,
          28.2000007629395,
          28.7000007629395,
          28.7000007629395,
          29.600000381469698,
          31.2999992370605,
          31.5,
          32.7000007629395,
          31,
          31.399999618530302,
          29.2999992370605,
          7.300000190734861,
          7.300000190734861,
          6.800000190734861,
          6.599999904632571,
          6.199999809265139,
          7,
          7.300000190734861,
          6.599999904632571,
          7.900000095367429,
          7.5,
          6.900000095367429,
          6.400000095367429
         ]
        },
        {
         "marker": {
          "color": "rgb(44,162,95)"
         },
         "name": "Employment in Industry (%)",
         "type": "bar",
         "x": [
          2013,
          2012,
          2011,
          2010,
          2009,
          2008,
          2007,
          2006,
          2005,
          2004,
          2003,
          2001,
          2000,
          1999,
          1998,
          1997,
          1996,
          1995,
          1994,
          1993,
          1992,
          1991,
          1990,
          1989,
          1988
         ],
         "y": [
          20.3999996185303,
          17.7999992370605,
          17.6000003814697,
          18.6000003814697,
          18.7999992370605,
          18.7999992370605,
          18.2999992370605,
          18.2000007629395,
          17.2000007629395,
          17.5,
          18.2999992370605,
          19.7000007629395,
          19.8999996185303,
          23,
          21.3999996185303,
          22.2999992370605,
          21.600000381469698,
          21.899999618530302,
          22.7999992370605,
          24.899999618530302,
          24.2999992370605,
          23.7000007629395,
          25.2000007629395,
          24.2000007629395,
          25
         ]
        },
        {
         "marker": {
          "color": "rgb(0,109,44)"
         },
         "name": "Employment in Services (%)",
         "type": "bar",
         "x": [
          2013,
          2012,
          2011,
          2010,
          2009,
          2008,
          2007,
          2006,
          2005,
          2004,
          2003,
          2001,
          2000,
          1999,
          1998,
          1997,
          1996,
          1995,
          1994,
          1993,
          1992,
          1991,
          1990,
          1989,
          1988
         ],
         "y": [
          54.2999992370605,
          54.4000015258789,
          54.0999984741211,
          53.0999984741211,
          52.5,
          52.5,
          52.0999984741211,
          50.5,
          51.2999992370605,
          49.7999992370605,
          50.7000007629395,
          48.5,
          50.7999992370605,
          69.6999969482422,
          71.1999969482422,
          70.8000030517578,
          71.8000030517578,
          71.9000015258789,
          70.1999969482422,
          67.6999969482422,
          69.099998474121,
          68.3000030517578,
          67.3000030517578,
          68.90000152587889,
          68.599998474121
         ]
        }
       ],
       "layout": {
        "barmode": "stack",
        "title": "Employment By Industry Sector (%) - Ecuador"
       }
      },
      "text/html": [
       "<div id=\"b987840b-3cbd-4172-8530-7f85968389b7\" style=\"height: 525px; width: 100%;\" class=\"plotly-graph-div\"></div><script type=\"text/javascript\">require([\"plotly\"], function(Plotly) { window.PLOTLYENV=window.PLOTLYENV || {};window.PLOTLYENV.BASE_URL=\"https://plot.ly\";Plotly.newPlot(\"b987840b-3cbd-4172-8530-7f85968389b7\", [{\"type\": \"bar\", \"x\": [2013, 2012, 2011, 2010, 2009, 2008, 2007, 2006, 2005, 2004, 2003, 2001, 2000, 1999, 1998, 1997, 1996, 1995, 1994, 1993, 1992, 1991, 1990, 1989, 1988], \"y\": [25.2999992370605, 27.7999992370605, 28.2999992370605, 28.2000007629395, 28.7000007629395, 28.7000007629395, 29.600000381469698, 31.2999992370605, 31.5, 32.7000007629395, 31.0, 31.399999618530302, 29.2999992370605, 7.300000190734861, 7.300000190734861, 6.800000190734861, 6.599999904632571, 6.199999809265139, 7.0, 7.300000190734861, 6.599999904632571, 7.900000095367429, 7.5, 6.900000095367429, 6.400000095367429], \"name\": \"Employment in Agriculture (%)\", \"marker\": {\"color\": \"rgb(102,194,164)\"}}, {\"type\": \"bar\", \"x\": [2013, 2012, 2011, 2010, 2009, 2008, 2007, 2006, 2005, 2004, 2003, 2001, 2000, 1999, 1998, 1997, 1996, 1995, 1994, 1993, 1992, 1991, 1990, 1989, 1988], \"y\": [20.3999996185303, 17.7999992370605, 17.6000003814697, 18.6000003814697, 18.7999992370605, 18.7999992370605, 18.2999992370605, 18.2000007629395, 17.2000007629395, 17.5, 18.2999992370605, 19.7000007629395, 19.8999996185303, 23.0, 21.3999996185303, 22.2999992370605, 21.600000381469698, 21.899999618530302, 22.7999992370605, 24.899999618530302, 24.2999992370605, 23.7000007629395, 25.2000007629395, 24.2000007629395, 25.0], \"name\": \"Employment in Industry (%)\", \"marker\": {\"color\": \"rgb(44,162,95)\"}}, {\"type\": \"bar\", \"x\": [2013, 2012, 2011, 2010, 2009, 2008, 2007, 2006, 2005, 2004, 2003, 2001, 2000, 1999, 1998, 1997, 1996, 1995, 1994, 1993, 1992, 1991, 1990, 1989, 1988], \"y\": [54.2999992370605, 54.4000015258789, 54.0999984741211, 53.0999984741211, 52.5, 52.5, 52.0999984741211, 50.5, 51.2999992370605, 49.7999992370605, 50.7000007629395, 48.5, 50.7999992370605, 69.6999969482422, 71.1999969482422, 70.8000030517578, 71.8000030517578, 71.9000015258789, 70.1999969482422, 67.6999969482422, 69.099998474121, 68.3000030517578, 67.3000030517578, 68.90000152587889, 68.599998474121], \"name\": \"Employment in Services (%)\", \"marker\": {\"color\": \"rgb(0,109,44)\"}}], {\"title\": \"Employment By Industry Sector (%) - Ecuador\", \"barmode\": \"stack\"}, {\"showLink\": true, \"linkText\": \"Export to plot.ly\"})});</script>"
      ],
      "text/vnd.plotly.v1+html": [
       "<div id=\"b987840b-3cbd-4172-8530-7f85968389b7\" style=\"height: 525px; width: 100%;\" class=\"plotly-graph-div\"></div><script type=\"text/javascript\">require([\"plotly\"], function(Plotly) { window.PLOTLYENV=window.PLOTLYENV || {};window.PLOTLYENV.BASE_URL=\"https://plot.ly\";Plotly.newPlot(\"b987840b-3cbd-4172-8530-7f85968389b7\", [{\"type\": \"bar\", \"x\": [2013, 2012, 2011, 2010, 2009, 2008, 2007, 2006, 2005, 2004, 2003, 2001, 2000, 1999, 1998, 1997, 1996, 1995, 1994, 1993, 1992, 1991, 1990, 1989, 1988], \"y\": [25.2999992370605, 27.7999992370605, 28.2999992370605, 28.2000007629395, 28.7000007629395, 28.7000007629395, 29.600000381469698, 31.2999992370605, 31.5, 32.7000007629395, 31.0, 31.399999618530302, 29.2999992370605, 7.300000190734861, 7.300000190734861, 6.800000190734861, 6.599999904632571, 6.199999809265139, 7.0, 7.300000190734861, 6.599999904632571, 7.900000095367429, 7.5, 6.900000095367429, 6.400000095367429], \"name\": \"Employment in Agriculture (%)\", \"marker\": {\"color\": \"rgb(102,194,164)\"}}, {\"type\": \"bar\", \"x\": [2013, 2012, 2011, 2010, 2009, 2008, 2007, 2006, 2005, 2004, 2003, 2001, 2000, 1999, 1998, 1997, 1996, 1995, 1994, 1993, 1992, 1991, 1990, 1989, 1988], \"y\": [20.3999996185303, 17.7999992370605, 17.6000003814697, 18.6000003814697, 18.7999992370605, 18.7999992370605, 18.2999992370605, 18.2000007629395, 17.2000007629395, 17.5, 18.2999992370605, 19.7000007629395, 19.8999996185303, 23.0, 21.3999996185303, 22.2999992370605, 21.600000381469698, 21.899999618530302, 22.7999992370605, 24.899999618530302, 24.2999992370605, 23.7000007629395, 25.2000007629395, 24.2000007629395, 25.0], \"name\": \"Employment in Industry (%)\", \"marker\": {\"color\": \"rgb(44,162,95)\"}}, {\"type\": \"bar\", \"x\": [2013, 2012, 2011, 2010, 2009, 2008, 2007, 2006, 2005, 2004, 2003, 2001, 2000, 1999, 1998, 1997, 1996, 1995, 1994, 1993, 1992, 1991, 1990, 1989, 1988], \"y\": [54.2999992370605, 54.4000015258789, 54.0999984741211, 53.0999984741211, 52.5, 52.5, 52.0999984741211, 50.5, 51.2999992370605, 49.7999992370605, 50.7000007629395, 48.5, 50.7999992370605, 69.6999969482422, 71.1999969482422, 70.8000030517578, 71.8000030517578, 71.9000015258789, 70.1999969482422, 67.6999969482422, 69.099998474121, 68.3000030517578, 67.3000030517578, 68.90000152587889, 68.599998474121], \"name\": \"Employment in Services (%)\", \"marker\": {\"color\": \"rgb(0,109,44)\"}}], {\"title\": \"Employment By Industry Sector (%) - Ecuador\", \"barmode\": \"stack\"}, {\"showLink\": true, \"linkText\": \"Export to plot.ly\"})});</script>"
      ]
     },
     "metadata": {},
     "output_type": "display_data"
    }
   ],
   "source": [
    "trace1 = go.Bar(\n",
    "    x = empl_industry[(empl_industry['IndicatorCode'] == 'SL.AGR.EMPL.ZS') & (empl_industry['CountryName'] == 'Ecuador')][\"Year\"],\n",
    "    y = empl_industry[(empl_industry['IndicatorCode'] == 'SL.AGR.EMPL.ZS') & (empl_industry['CountryName'] == 'Ecuador')][\"Value\"],\n",
    "    name = 'Employment in Agriculture (%)',\n",
    "    marker = dict(\n",
    "        color='rgb(102,194,164)'\n",
    "    )\n",
    ")\n",
    "\n",
    "trace2 = go.Bar(\n",
    "    x = empl_industry[(empl_industry['IndicatorCode'] == 'SL.IND.EMPL.ZS') & (empl_industry['CountryName'] == 'Ecuador')][\"Year\"],\n",
    "    y = empl_industry[(empl_industry['IndicatorCode'] == 'SL.IND.EMPL.ZS') & (empl_industry['CountryName'] == 'Ecuador')][\"Value\"],\n",
    "    name = 'Employment in Industry (%)',\n",
    "    marker = dict(\n",
    "        color='rgb(44,162,95)'\n",
    "    )\n",
    ")\n",
    "\n",
    "trace3 = go.Bar(\n",
    "    x = empl_industry[(empl_industry['IndicatorCode'] == 'SL.SRV.EMPL.ZS') & (empl_industry['CountryName'] == 'Ecuador')][\"Year\"],\n",
    "    y = empl_industry[(empl_industry['IndicatorCode'] == 'SL.SRV.EMPL.ZS') & (empl_industry['CountryName'] == 'Ecuador')][\"Value\"],\n",
    "    name = 'Employment in Services (%)',\n",
    "    marker = dict(\n",
    "        color='rgb(0,109,44)'\n",
    "    )\n",
    ")\n",
    "\n",
    "data = [trace1, trace2, trace3]\n",
    "layout = go.Layout(\n",
    "    title = 'Employment By Industry Sector (%) - Ecuador',\n",
    "    barmode='stack'\n",
    ")\n",
    "\n",
    "fig = go.Figure(data=data, layout=layout)\n",
    "py.iplot(fig, filename='stacked-bar')"
   ]
  },
  {
   "cell_type": "code",
   "execution_count": 44,
   "metadata": {},
   "outputs": [
    {
     "data": {
      "application/vnd.plotly.v1+json": {
       "data": [
        {
         "marker": {
          "color": "rgb(102,194,164)"
         },
         "name": "Employment in Agriculture (%)",
         "type": "bar",
         "x": [
          2013,
          2012,
          2011,
          2006,
          2005,
          2004,
          1994
         ],
         "y": [
          72.6999969482422,
          8.199999809265138,
          9.5,
          8.60000038146973,
          79.3000030517578,
          7.900000095367429,
          89.3000030517578
         ]
        },
        {
         "marker": {
          "color": "rgb(44,162,95)"
         },
         "name": "Employment in Industry (%)",
         "type": "bar",
         "x": [
          2013,
          2012,
          2011,
          2006,
          2005,
          2004,
          1994
         ],
         "y": [
          7.400000095367429,
          21.3999996185303,
          22.100000381469698,
          22.100000381469698,
          6.599999904632571,
          22.5,
          2.2999999523162797
         ]
        },
        {
         "marker": {
          "color": "rgb(0,109,44)"
         },
         "name": "Employment in Services (%)",
         "type": "bar",
         "x": [
          2013,
          2012,
          2011,
          2006,
          2005,
          2004,
          1994
         ],
         "y": [
          19.8999996185303,
          70.3000030517578,
          68.40000152587889,
          69.1999969482422,
          13,
          69.599998474121,
          7.599999904632571
         ]
        }
       ],
       "layout": {
        "barmode": "stack",
        "title": "Employment By Industry Sector (%) - Ethiopia"
       }
      },
      "text/html": [
       "<div id=\"65cb0184-9e22-4945-9777-de1c4a5b6c34\" style=\"height: 525px; width: 100%;\" class=\"plotly-graph-div\"></div><script type=\"text/javascript\">require([\"plotly\"], function(Plotly) { window.PLOTLYENV=window.PLOTLYENV || {};window.PLOTLYENV.BASE_URL=\"https://plot.ly\";Plotly.newPlot(\"65cb0184-9e22-4945-9777-de1c4a5b6c34\", [{\"type\": \"bar\", \"x\": [2013, 2012, 2011, 2006, 2005, 2004, 1994], \"y\": [72.6999969482422, 8.199999809265138, 9.5, 8.60000038146973, 79.3000030517578, 7.900000095367429, 89.3000030517578], \"name\": \"Employment in Agriculture (%)\", \"marker\": {\"color\": \"rgb(102,194,164)\"}}, {\"type\": \"bar\", \"x\": [2013, 2012, 2011, 2006, 2005, 2004, 1994], \"y\": [7.400000095367429, 21.3999996185303, 22.100000381469698, 22.100000381469698, 6.599999904632571, 22.5, 2.2999999523162797], \"name\": \"Employment in Industry (%)\", \"marker\": {\"color\": \"rgb(44,162,95)\"}}, {\"type\": \"bar\", \"x\": [2013, 2012, 2011, 2006, 2005, 2004, 1994], \"y\": [19.8999996185303, 70.3000030517578, 68.40000152587889, 69.1999969482422, 13.0, 69.599998474121, 7.599999904632571], \"name\": \"Employment in Services (%)\", \"marker\": {\"color\": \"rgb(0,109,44)\"}}], {\"title\": \"Employment By Industry Sector (%) - Ethiopia\", \"barmode\": \"stack\"}, {\"showLink\": true, \"linkText\": \"Export to plot.ly\"})});</script>"
      ],
      "text/vnd.plotly.v1+html": [
       "<div id=\"65cb0184-9e22-4945-9777-de1c4a5b6c34\" style=\"height: 525px; width: 100%;\" class=\"plotly-graph-div\"></div><script type=\"text/javascript\">require([\"plotly\"], function(Plotly) { window.PLOTLYENV=window.PLOTLYENV || {};window.PLOTLYENV.BASE_URL=\"https://plot.ly\";Plotly.newPlot(\"65cb0184-9e22-4945-9777-de1c4a5b6c34\", [{\"type\": \"bar\", \"x\": [2013, 2012, 2011, 2006, 2005, 2004, 1994], \"y\": [72.6999969482422, 8.199999809265138, 9.5, 8.60000038146973, 79.3000030517578, 7.900000095367429, 89.3000030517578], \"name\": \"Employment in Agriculture (%)\", \"marker\": {\"color\": \"rgb(102,194,164)\"}}, {\"type\": \"bar\", \"x\": [2013, 2012, 2011, 2006, 2005, 2004, 1994], \"y\": [7.400000095367429, 21.3999996185303, 22.100000381469698, 22.100000381469698, 6.599999904632571, 22.5, 2.2999999523162797], \"name\": \"Employment in Industry (%)\", \"marker\": {\"color\": \"rgb(44,162,95)\"}}, {\"type\": \"bar\", \"x\": [2013, 2012, 2011, 2006, 2005, 2004, 1994], \"y\": [19.8999996185303, 70.3000030517578, 68.40000152587889, 69.1999969482422, 13.0, 69.599998474121, 7.599999904632571], \"name\": \"Employment in Services (%)\", \"marker\": {\"color\": \"rgb(0,109,44)\"}}], {\"title\": \"Employment By Industry Sector (%) - Ethiopia\", \"barmode\": \"stack\"}, {\"showLink\": true, \"linkText\": \"Export to plot.ly\"})});</script>"
      ]
     },
     "metadata": {},
     "output_type": "display_data"
    }
   ],
   "source": [
    "trace1 = go.Bar(\n",
    "    x = empl_industry[(empl_industry['IndicatorCode'] == 'SL.AGR.EMPL.ZS') & (empl_industry['CountryName'] == 'Ethiopia')][\"Year\"],\n",
    "    y = empl_industry[(empl_industry['IndicatorCode'] == 'SL.AGR.EMPL.ZS') & (empl_industry['CountryName'] == 'Ethiopia')][\"Value\"],\n",
    "    name = 'Employment in Agriculture (%)',\n",
    "    marker = dict(\n",
    "        color='rgb(102,194,164)'\n",
    "    )\n",
    ")\n",
    "\n",
    "trace2 = go.Bar(\n",
    "    x = empl_industry[(empl_industry['IndicatorCode'] == 'SL.IND.EMPL.ZS') & (empl_industry['CountryName'] == 'Ethiopia')][\"Year\"],\n",
    "    y = empl_industry[(empl_industry['IndicatorCode'] == 'SL.IND.EMPL.ZS') & (empl_industry['CountryName'] == 'Ethiopia')][\"Value\"],\n",
    "    name = 'Employment in Industry (%)',\n",
    "    marker = dict(\n",
    "        color='rgb(44,162,95)'\n",
    "    )\n",
    ")\n",
    "\n",
    "trace3 = go.Bar(\n",
    "    x = empl_industry[(empl_industry['IndicatorCode'] == 'SL.SRV.EMPL.ZS') & (empl_industry['CountryName'] == 'Ethiopia')][\"Year\"],\n",
    "    y = empl_industry[(empl_industry['IndicatorCode'] == 'SL.SRV.EMPL.ZS') & (empl_industry['CountryName'] == 'Ethiopia')][\"Value\"],\n",
    "    name = 'Employment in Services (%)',\n",
    "    marker = dict(\n",
    "        color='rgb(0,109,44)'\n",
    "    )\n",
    ")\n",
    "\n",
    "data = [trace1, trace2, trace3]\n",
    "layout = go.Layout(\n",
    "    title = 'Employment By Industry Sector (%) - Ethiopia',\n",
    "    barmode='stack'\n",
    ")\n",
    "\n",
    "fig = go.Figure(data=data, layout=layout)\n",
    "py.iplot(fig, filename='stacked-bar')"
   ]
  },
  {
   "cell_type": "code",
   "execution_count": 45,
   "metadata": {},
   "outputs": [
    {
     "data": {
      "application/vnd.plotly.v1+json": {
       "data": [
        {
         "marker": {
          "color": "rgb(102,194,164)"
         },
         "name": "Employment in Agriculture (%)",
         "type": "bar",
         "x": [
          2012,
          2005,
          1989
         ],
         "y": [
          75.3000030517578,
          78.8000030517578,
          90.099998474121
         ]
        },
        {
         "marker": {
          "color": "rgb(44,162,95)"
         },
         "name": "Employment in Industry (%)",
         "type": "bar",
         "x": [
          2012,
          2005,
          1989
         ],
         "y": [
          6.699999809265139,
          3.79999995231628,
          2.9000000953674303
         ]
        },
        {
         "marker": {
          "color": "rgb(0,109,44)"
         },
         "name": "Employment in Services (%)",
         "type": "bar",
         "x": [
          2012,
          2005,
          1989
         ],
         "y": [
          16.2000007629395,
          16.3999996185303,
          6.699999809265139
         ]
        }
       ],
       "layout": {
        "barmode": "stack",
        "title": "Employment By Industry Sector (%) - Rwanda"
       }
      },
      "text/html": [
       "<div id=\"6992fba7-0ccf-49a8-8be6-cc4ac8a5fed8\" style=\"height: 525px; width: 100%;\" class=\"plotly-graph-div\"></div><script type=\"text/javascript\">require([\"plotly\"], function(Plotly) { window.PLOTLYENV=window.PLOTLYENV || {};window.PLOTLYENV.BASE_URL=\"https://plot.ly\";Plotly.newPlot(\"6992fba7-0ccf-49a8-8be6-cc4ac8a5fed8\", [{\"type\": \"bar\", \"x\": [2012, 2005, 1989], \"y\": [75.3000030517578, 78.8000030517578, 90.099998474121], \"name\": \"Employment in Agriculture (%)\", \"marker\": {\"color\": \"rgb(102,194,164)\"}}, {\"type\": \"bar\", \"x\": [2012, 2005, 1989], \"y\": [6.699999809265139, 3.79999995231628, 2.9000000953674303], \"name\": \"Employment in Industry (%)\", \"marker\": {\"color\": \"rgb(44,162,95)\"}}, {\"type\": \"bar\", \"x\": [2012, 2005, 1989], \"y\": [16.2000007629395, 16.3999996185303, 6.699999809265139], \"name\": \"Employment in Services (%)\", \"marker\": {\"color\": \"rgb(0,109,44)\"}}], {\"title\": \"Employment By Industry Sector (%) - Rwanda\", \"barmode\": \"stack\"}, {\"showLink\": true, \"linkText\": \"Export to plot.ly\"})});</script>"
      ],
      "text/vnd.plotly.v1+html": [
       "<div id=\"6992fba7-0ccf-49a8-8be6-cc4ac8a5fed8\" style=\"height: 525px; width: 100%;\" class=\"plotly-graph-div\"></div><script type=\"text/javascript\">require([\"plotly\"], function(Plotly) { window.PLOTLYENV=window.PLOTLYENV || {};window.PLOTLYENV.BASE_URL=\"https://plot.ly\";Plotly.newPlot(\"6992fba7-0ccf-49a8-8be6-cc4ac8a5fed8\", [{\"type\": \"bar\", \"x\": [2012, 2005, 1989], \"y\": [75.3000030517578, 78.8000030517578, 90.099998474121], \"name\": \"Employment in Agriculture (%)\", \"marker\": {\"color\": \"rgb(102,194,164)\"}}, {\"type\": \"bar\", \"x\": [2012, 2005, 1989], \"y\": [6.699999809265139, 3.79999995231628, 2.9000000953674303], \"name\": \"Employment in Industry (%)\", \"marker\": {\"color\": \"rgb(44,162,95)\"}}, {\"type\": \"bar\", \"x\": [2012, 2005, 1989], \"y\": [16.2000007629395, 16.3999996185303, 6.699999809265139], \"name\": \"Employment in Services (%)\", \"marker\": {\"color\": \"rgb(0,109,44)\"}}], {\"title\": \"Employment By Industry Sector (%) - Rwanda\", \"barmode\": \"stack\"}, {\"showLink\": true, \"linkText\": \"Export to plot.ly\"})});</script>"
      ]
     },
     "metadata": {},
     "output_type": "display_data"
    }
   ],
   "source": [
    "trace1 = go.Bar(\n",
    "    x = empl_industry[(empl_industry['IndicatorCode'] == 'SL.AGR.EMPL.ZS') & (empl_industry['CountryName'] == 'Rwanda')][\"Year\"],\n",
    "    y = empl_industry[(empl_industry['IndicatorCode'] == 'SL.AGR.EMPL.ZS') & (empl_industry['CountryName'] == 'Rwanda')][\"Value\"],\n",
    "    name = 'Employment in Agriculture (%)',\n",
    "    marker = dict(\n",
    "        color='rgb(102,194,164)'\n",
    "    )\n",
    ")\n",
    "\n",
    "trace2 = go.Bar(\n",
    "    x = empl_industry[(empl_industry['IndicatorCode'] == 'SL.IND.EMPL.ZS') & (empl_industry['CountryName'] == 'Rwanda')][\"Year\"],\n",
    "    y = empl_industry[(empl_industry['IndicatorCode'] == 'SL.IND.EMPL.ZS') & (empl_industry['CountryName'] == 'Rwanda')][\"Value\"],\n",
    "    name = 'Employment in Industry (%)',\n",
    "    marker = dict(\n",
    "        color='rgb(44,162,95)'\n",
    "    )\n",
    ")\n",
    "\n",
    "trace3 = go.Bar(\n",
    "    x = empl_industry[(empl_industry['IndicatorCode'] == 'SL.SRV.EMPL.ZS') & (empl_industry['CountryName'] == 'Rwanda')][\"Year\"],\n",
    "    y = empl_industry[(empl_industry['IndicatorCode'] == 'SL.SRV.EMPL.ZS') & (empl_industry['CountryName'] == 'Rwanda')][\"Value\"],\n",
    "    name = 'Employment in Services (%)',\n",
    "    marker = dict(\n",
    "        color='rgb(0,109,44)'\n",
    "    )\n",
    ")\n",
    "\n",
    "data = [trace1, trace2, trace3]\n",
    "layout = go.Layout(\n",
    "    title = 'Employment By Industry Sector (%) - Rwanda',\n",
    "    barmode='stack'\n",
    ")\n",
    "\n",
    "fig = go.Figure(data=data, layout=layout)\n",
    "py.iplot(fig, filename='stacked-bar')"
   ]
  },
  {
   "cell_type": "markdown",
   "metadata": {},
   "source": [
    "#### 3.2 Exploring Trends in Education Quality and Outcomes Indicators"
   ]
  },
  {
   "cell_type": "markdown",
   "metadata": {},
   "source": [
    "##### 3.2.1 Education Efficiency and Participation"
   ]
  },
  {
   "cell_type": "markdown",
   "metadata": {},
   "source": [
    "1. The rate of persistence to the last grade of primary is the percentage of children enrolled in the first grade of primary school who eventually reach the last grade of primary education. \n",
    "\n",
    "2. The rate of progression to secondary school refers to the number of new entrants to the first grade of secondary school in a given year as a percentage of the number of students enrolled in the final grade of primary school in the previous year.\n",
    "\n",
    "3. The gross enrolment ratio in tertiary education is the ratio of total enrolment, regardless of age, to the population of the age group that officially corresponds to this level of education. Tertiary education normally requires the successful completion of education at the secondary level as a minimum condition of admission. \n",
    "\n",
    "Across all the countries, we can see that the gross enrolment ratio in tertiary education has rapidly increased, backed by trends of generally increasing rates of persistence and progression in primary and secondary forms of education."
   ]
  },
  {
   "cell_type": "code",
   "execution_count": 46,
   "metadata": {
    "collapsed": true
   },
   "outputs": [],
   "source": [
    "primary = pd.read_sql(\"\"\" SELECT IndicatorCode, CountryName, Year, Value\n",
    "                FROM Indicators\n",
    "                WHERE IndicatorCode = 'SE.PRM.PRSL.ZS'\n",
    "                AND CountryName IN ('China', 'India', 'Indonesia', 'Ecuador', 'Rwanda',\n",
    "                                    'Ethiopia')\"\"\", con=conn)\n",
    "primary = primary.sort_values(['CountryName', 'Year'], ascending=[1,0])\n",
    "\n",
    "secondary = pd.read_sql(\"\"\" SELECT IndicatorCode, CountryName, Year, Value\n",
    "                FROM Indicators\n",
    "                WHERE IndicatorCode = 'SE.SEC.PROG.ZS'\n",
    "                AND CountryName IN ('China', 'India', 'Indonesia', 'Ecuador', 'Rwanda',\n",
    "                                    'Ethiopia')\"\"\", con=conn)\n",
    "secondary = secondary.sort_values(['CountryName', 'Year'], ascending=[1,0])\n",
    "\n",
    "tertiary = pd.read_sql(\"\"\" SELECT IndicatorCode, CountryName, Year, Value\n",
    "                FROM Indicators\n",
    "                WHERE IndicatorCode = 'SE.TER.ENRR'\n",
    "                AND CountryName IN ('China', 'India', 'Indonesia', 'Ecuador', 'Rwanda',\n",
    "                                    'Ethiopia')\"\"\", con=conn)\n",
    "tertiary = tertiary.sort_values(['CountryName', 'Year'], ascending=[1,0])"
   ]
  },
  {
   "cell_type": "code",
   "execution_count": 47,
   "metadata": {},
   "outputs": [
    {
     "data": {
      "image/png": "[encoded data removed]",
      "text/plain": [
       "<matplotlib.figure.Figure at 0x1583f1438>"
      ]
     },
     "metadata": {},
     "output_type": "display_data"
    }
   ],
   "source": [
    "sns.set_style('whitegrid')\n",
    "sns.set_palette(\"Paired\")\n",
    "\n",
    "plt.subplot(1, 3, 1)\n",
    "plt.plot(primary[primary['CountryName'] == 'China'][\"Year\"], primary[primary['CountryName'] == 'China'][\"Value\"], label = 'China')\n",
    "plt.plot(primary[primary['CountryName'] == 'India'][\"Year\"], primary[primary['CountryName'] == 'India'][\"Value\"], label = 'India')\n",
    "plt.plot(primary[primary['CountryName'] == 'Indonesia'][\"Year\"], primary[primary['CountryName'] == 'Indonesia'][\"Value\"], label = 'Indonesia')\n",
    "plt.plot(primary[primary['CountryName'] == 'Ecuador'][\"Year\"], primary[primary['CountryName'] == 'Ecuador'][\"Value\"], label = 'Ecuador')\n",
    "plt.plot(primary[primary['CountryName'] == 'Ethiopia'][\"Year\"], primary[primary['CountryName'] == 'Ethiopia'][\"Value\"], label = 'Ethiopia')\n",
    "plt.plot(primary[primary['CountryName'] == 'Rwanda'][\"Year\"], primary[primary['CountryName'] == 'Rwanda'][\"Value\"], label = 'Rwanda')\n",
    "plt.title('Persistence to Last Grade of Primary')\n",
    "plt.xlabel('Year')\n",
    "plt.ylabel('% of Total Cohort')\n",
    "plt.legend(bbox_to_anchor=(1.01, 1), loc=2, borderaxespad=1.)\n",
    "\n",
    "plt.subplot(1, 3, 2)\n",
    "plt.plot(secondary[secondary['CountryName'] == 'China'][\"Year\"], secondary[secondary['CountryName'] == 'China'][\"Value\"], label = 'China')\n",
    "plt.plot(secondary[secondary['CountryName'] == 'India'][\"Year\"], secondary[secondary['CountryName'] == 'India'][\"Value\"], label = 'India')\n",
    "plt.plot(secondary[secondary['CountryName'] == 'Indonesia'][\"Year\"], secondary[secondary['CountryName'] == 'Indonesia'][\"Value\"], label = 'Indonesia')\n",
    "plt.plot(secondary[secondary['CountryName'] == 'Ecuador'][\"Year\"], secondary[secondary['CountryName'] == 'Ecuador'][\"Value\"], label = 'Ecuador')\n",
    "plt.plot(secondary[secondary['CountryName'] == 'Ethiopia'][\"Year\"], secondary[secondary['CountryName'] == 'Ethiopia'][\"Value\"], label = 'Ethiopia')\n",
    "plt.plot(secondary[secondary['CountryName'] == 'Rwanda'][\"Year\"], secondary[secondary['CountryName'] == 'Rwanda'][\"Value\"], label = 'Rwanda')\n",
    "plt.title('Progression to Secondary School')\n",
    "plt.xlabel('Year')\n",
    "plt.ylabel('% of Total Cohort')\n",
    "plt.legend(bbox_to_anchor=(1.01, 1), loc=2, borderaxespad=1.)\n",
    "\n",
    "plt.subplot(1, 3, 3)\n",
    "plt.plot(tertiary[tertiary['CountryName'] == 'China'][\"Year\"], tertiary[tertiary['CountryName'] == 'China'][\"Value\"], label = 'China')\n",
    "plt.plot(tertiary[tertiary['CountryName'] == 'India'][\"Year\"], tertiary[tertiary['CountryName'] == 'India'][\"Value\"], label = 'India')\n",
    "plt.plot(tertiary[tertiary['CountryName'] == 'Indonesia'][\"Year\"], tertiary[tertiary['CountryName'] == 'Indonesia'][\"Value\"], label = 'Indonesia')\n",
    "plt.plot(tertiary[tertiary['CountryName'] == 'Ecuador'][\"Year\"], tertiary[tertiary['CountryName'] == 'Ecuador'][\"Value\"], label = 'Ecuador')\n",
    "plt.plot(tertiary[tertiary['CountryName'] == 'Ethiopia'][\"Year\"], tertiary[tertiary['CountryName'] == 'Ethiopia'][\"Value\"], label = 'Ethiopia')\n",
    "plt.plot(tertiary[tertiary['CountryName'] == 'Rwanda'][\"Year\"], tertiary[tertiary['CountryName'] == 'Rwanda'][\"Value\"], label = 'Rwanda')\n",
    "plt.title('Tertiary School Enrolment')\n",
    "plt.xlabel('Year')\n",
    "plt.ylabel('% of Total Cohort')\n",
    "plt.legend(bbox_to_anchor=(1.01, 1), loc=2, borderaxespad=1.)\n",
    "\n",
    "plt.subplots_adjust(right = 2, wspace=1.5)"
   ]
  },
  {
   "cell_type": "markdown",
   "metadata": {},
   "source": [
    "##### 3.2.2 Government Expenditure on Education"
   ]
  },
  {
   "cell_type": "markdown",
   "metadata": {},
   "source": [
    "Expenditure on primary, secondary and tertiary education is expressed as a percentage of total general government expenditure on education. Overall, government expenditure on education has consistently comprised over 80% of government expenditure in all six countries. "
   ]
  },
  {
   "cell_type": "code",
   "execution_count": 48,
   "metadata": {
    "collapsed": true
   },
   "outputs": [],
   "source": [
    "education_expenditure = pd.read_sql(\"\"\" SELECT IndicatorCode, CountryName, Year, Value\n",
    "                FROM Indicators\n",
    "                WHERE IndicatorCode IN ('SE.XPD.PRIM.ZS', 'SE.XPD.SECO.ZS', 'SE.XPD.TERT.ZS')\n",
    "                AND CountryName IN ('China', 'India', 'Indonesia', 'Ecuador', 'Rwanda',\n",
    "                                    'Ethiopia')\"\"\", con=conn)\n",
    "education_expenditure = education_expenditure.sort_values(['CountryName', 'Year'], ascending=[1,0])"
   ]
  },
  {
   "cell_type": "code",
   "execution_count": 49,
   "metadata": {},
   "outputs": [
    {
     "data": {
      "application/vnd.plotly.v1+json": {
       "data": [
        {
         "marker": {
          "color": "rgb(102,194,164)"
         },
         "name": "Expenditure on Primary Education (%)",
         "type": "bar",
         "x": [
          1999,
          1998
         ],
         "y": [
          32.5965385437012,
          36.06416
         ]
        },
        {
         "marker": {
          "color": "rgb(44,162,95)"
         },
         "name": "Expenditure on Secondary Education (%)",
         "type": "bar",
         "x": [
          1999,
          1998
         ],
         "y": [
          37.4124183654785,
          32.23013
         ]
        },
        {
         "marker": {
          "color": "rgb(0,109,44)"
         },
         "name": "Expenditure on Tertiary Education (%)",
         "type": "bar",
         "x": [
          1999,
          1998
         ],
         "y": [
          23.9841499328613,
          15.58072
         ]
        }
       ],
       "layout": {
        "barmode": "stack",
        "title": "Government Expenditure on Education - China"
       }
      },
      "text/html": [
       "<div id=\"d663fce3-12bf-462e-a49c-7269ff3bcc1c\" style=\"height: 525px; width: 100%;\" class=\"plotly-graph-div\"></div><script type=\"text/javascript\">require([\"plotly\"], function(Plotly) { window.PLOTLYENV=window.PLOTLYENV || {};window.PLOTLYENV.BASE_URL=\"https://plot.ly\";Plotly.newPlot(\"d663fce3-12bf-462e-a49c-7269ff3bcc1c\", [{\"type\": \"bar\", \"x\": [1999, 1998], \"y\": [32.5965385437012, 36.06416], \"name\": \"Expenditure on Primary Education (%)\", \"marker\": {\"color\": \"rgb(102,194,164)\"}}, {\"type\": \"bar\", \"x\": [1999, 1998], \"y\": [37.4124183654785, 32.23013], \"name\": \"Expenditure on Secondary Education (%)\", \"marker\": {\"color\": \"rgb(44,162,95)\"}}, {\"type\": \"bar\", \"x\": [1999, 1998], \"y\": [23.9841499328613, 15.58072], \"name\": \"Expenditure on Tertiary Education (%)\", \"marker\": {\"color\": \"rgb(0,109,44)\"}}], {\"title\": \"Government Expenditure on Education - China\", \"barmode\": \"stack\"}, {\"showLink\": true, \"linkText\": \"Export to plot.ly\"})});</script>"
      ],
      "text/vnd.plotly.v1+html": [
       "<div id=\"d663fce3-12bf-462e-a49c-7269ff3bcc1c\" style=\"height: 525px; width: 100%;\" class=\"plotly-graph-div\"></div><script type=\"text/javascript\">require([\"plotly\"], function(Plotly) { window.PLOTLYENV=window.PLOTLYENV || {};window.PLOTLYENV.BASE_URL=\"https://plot.ly\";Plotly.newPlot(\"d663fce3-12bf-462e-a49c-7269ff3bcc1c\", [{\"type\": \"bar\", \"x\": [1999, 1998], \"y\": [32.5965385437012, 36.06416], \"name\": \"Expenditure on Primary Education (%)\", \"marker\": {\"color\": \"rgb(102,194,164)\"}}, {\"type\": \"bar\", \"x\": [1999, 1998], \"y\": [37.4124183654785, 32.23013], \"name\": \"Expenditure on Secondary Education (%)\", \"marker\": {\"color\": \"rgb(44,162,95)\"}}, {\"type\": \"bar\", \"x\": [1999, 1998], \"y\": [23.9841499328613, 15.58072], \"name\": \"Expenditure on Tertiary Education (%)\", \"marker\": {\"color\": \"rgb(0,109,44)\"}}], {\"title\": \"Government Expenditure on Education - China\", \"barmode\": \"stack\"}, {\"showLink\": true, \"linkText\": \"Export to plot.ly\"})});</script>"
      ]
     },
     "metadata": {},
     "output_type": "display_data"
    }
   ],
   "source": [
    "trace1 = go.Bar(\n",
    "    x = education_expenditure[(education_expenditure['IndicatorCode'] == 'SE.XPD.PRIM.ZS') & (education_expenditure['CountryName'] == 'China')][\"Year\"],\n",
    "    y = education_expenditure[(education_expenditure['IndicatorCode'] == 'SE.XPD.PRIM.ZS') & (education_expenditure['CountryName'] == 'China')][\"Value\"],\n",
    "    name = 'Expenditure on Primary Education (%)',\n",
    "    marker = dict(\n",
    "        color='rgb(102,194,164)'\n",
    "    )\n",
    ")\n",
    "\n",
    "trace2 = go.Bar(\n",
    "    x = education_expenditure[(education_expenditure['IndicatorCode'] == 'SE.XPD.SECO.ZS') & (education_expenditure['CountryName'] == 'China')][\"Year\"],\n",
    "    y = education_expenditure[(education_expenditure['IndicatorCode'] == 'SE.XPD.SECO.ZS') & (education_expenditure['CountryName'] == 'China')][\"Value\"],\n",
    "    name = 'Expenditure on Secondary Education (%)',\n",
    "    marker = dict(\n",
    "        color='rgb(44,162,95)'\n",
    "    )\n",
    ")\n",
    "\n",
    "trace3 = go.Bar(\n",
    "    x = education_expenditure[(education_expenditure['IndicatorCode'] == 'SE.XPD.TERT.ZS') & (education_expenditure['CountryName'] == 'China')][\"Year\"],\n",
    "    y = education_expenditure[(education_expenditure['IndicatorCode'] == 'SE.XPD.TERT.ZS') & (education_expenditure['CountryName'] == 'China')][\"Value\"],\n",
    "    name = 'Expenditure on Tertiary Education (%)',\n",
    "    marker = dict(\n",
    "        color='rgb(0,109,44)'\n",
    "    )\n",
    ")\n",
    "\n",
    "data = [trace1, trace2, trace3]\n",
    "layout = go.Layout(\n",
    "    title = 'Government Expenditure on Education - China',\n",
    "    barmode='stack'\n",
    ")\n",
    "\n",
    "fig = go.Figure(data=data, layout=layout)\n",
    "py.iplot(fig, filename='stacked-bar')"
   ]
  },
  {
   "cell_type": "code",
   "execution_count": 50,
   "metadata": {},
   "outputs": [
    {
     "data": {
      "application/vnd.plotly.v1+json": {
       "data": [
        {
         "marker": {
          "color": "rgb(102,194,164)"
         },
         "name": "Expenditure on Primary Education (%)",
         "type": "bar",
         "x": [
          2012,
          2011,
          2010,
          2009,
          2006,
          2005,
          2004,
          2003,
          2000,
          1999
         ],
         "y": [
          26.7647304534912,
          26.720260620117198,
          25.206590652465803,
          26.681350708007802,
          35.3839912414551,
          35.5892486572266,
          36.3751792907715,
          36.076930999755895,
          37.5573616027832,
          30.046329498291
         ]
        },
        {
         "marker": {
          "color": "rgb(44,162,95)"
         },
         "name": "Expenditure on Secondary Education (%)",
         "type": "bar",
         "x": [
          2012,
          2011,
          2010,
          2009,
          2006,
          2005,
          2004,
          2003,
          2000,
          1999
         ],
         "y": [
          38.2226104736328,
          38.0179214477539,
          36.985198974609396,
          34.918270111084,
          42.5000801086426,
          42.8883514404297,
          41.6194610595703,
          41.6658897399902,
          40.0906181335449,
          37.802219390869105
         ]
        },
        {
         "marker": {
          "color": "rgb(0,109,44)"
         },
         "name": "Expenditure on Tertiary Education (%)",
         "type": "bar",
         "x": [
          2012,
          2011,
          2010,
          2009,
          2006,
          2005,
          2004,
          2003,
          2000,
          1999
         ],
         "y": [
          33.1898002624512,
          33.4224510192871,
          36.07651901245121,
          36.451141357421896,
          20.2840805053711,
          19.5549602508545,
          20.0123195648193,
          20.0872707366943,
          20.295110702514602,
          17.544969558715803
         ]
        }
       ],
       "layout": {
        "barmode": "stack",
        "title": "Government Expenditure on Education - India"
       }
      },
      "text/html": [
       "<div id=\"703e94fc-0efb-4d37-a27c-ced8625ad764\" style=\"height: 525px; width: 100%;\" class=\"plotly-graph-div\"></div><script type=\"text/javascript\">require([\"plotly\"], function(Plotly) { window.PLOTLYENV=window.PLOTLYENV || {};window.PLOTLYENV.BASE_URL=\"https://plot.ly\";Plotly.newPlot(\"703e94fc-0efb-4d37-a27c-ced8625ad764\", [{\"type\": \"bar\", \"x\": [2012, 2011, 2010, 2009, 2006, 2005, 2004, 2003, 2000, 1999], \"y\": [26.7647304534912, 26.720260620117198, 25.206590652465803, 26.681350708007802, 35.3839912414551, 35.5892486572266, 36.3751792907715, 36.076930999755895, 37.5573616027832, 30.046329498291], \"name\": \"Expenditure on Primary Education (%)\", \"marker\": {\"color\": \"rgb(102,194,164)\"}}, {\"type\": \"bar\", \"x\": [2012, 2011, 2010, 2009, 2006, 2005, 2004, 2003, 2000, 1999], \"y\": [38.2226104736328, 38.0179214477539, 36.985198974609396, 34.918270111084, 42.5000801086426, 42.8883514404297, 41.6194610595703, 41.6658897399902, 40.0906181335449, 37.802219390869105], \"name\": \"Expenditure on Secondary Education (%)\", \"marker\": {\"color\": \"rgb(44,162,95)\"}}, {\"type\": \"bar\", \"x\": [2012, 2011, 2010, 2009, 2006, 2005, 2004, 2003, 2000, 1999], \"y\": [33.1898002624512, 33.4224510192871, 36.07651901245121, 36.451141357421896, 20.2840805053711, 19.5549602508545, 20.0123195648193, 20.0872707366943, 20.295110702514602, 17.544969558715803], \"name\": \"Expenditure on Tertiary Education (%)\", \"marker\": {\"color\": \"rgb(0,109,44)\"}}], {\"title\": \"Government Expenditure on Education - India\", \"barmode\": \"stack\"}, {\"showLink\": true, \"linkText\": \"Export to plot.ly\"})});</script>"
      ],
      "text/vnd.plotly.v1+html": [
       "<div id=\"703e94fc-0efb-4d37-a27c-ced8625ad764\" style=\"height: 525px; width: 100%;\" class=\"plotly-graph-div\"></div><script type=\"text/javascript\">require([\"plotly\"], function(Plotly) { window.PLOTLYENV=window.PLOTLYENV || {};window.PLOTLYENV.BASE_URL=\"https://plot.ly\";Plotly.newPlot(\"703e94fc-0efb-4d37-a27c-ced8625ad764\", [{\"type\": \"bar\", \"x\": [2012, 2011, 2010, 2009, 2006, 2005, 2004, 2003, 2000, 1999], \"y\": [26.7647304534912, 26.720260620117198, 25.206590652465803, 26.681350708007802, 35.3839912414551, 35.5892486572266, 36.3751792907715, 36.076930999755895, 37.5573616027832, 30.046329498291], \"name\": \"Expenditure on Primary Education (%)\", \"marker\": {\"color\": \"rgb(102,194,164)\"}}, {\"type\": \"bar\", \"x\": [2012, 2011, 2010, 2009, 2006, 2005, 2004, 2003, 2000, 1999], \"y\": [38.2226104736328, 38.0179214477539, 36.985198974609396, 34.918270111084, 42.5000801086426, 42.8883514404297, 41.6194610595703, 41.6658897399902, 40.0906181335449, 37.802219390869105], \"name\": \"Expenditure on Secondary Education (%)\", \"marker\": {\"color\": \"rgb(44,162,95)\"}}, {\"type\": \"bar\", \"x\": [2012, 2011, 2010, 2009, 2006, 2005, 2004, 2003, 2000, 1999], \"y\": [33.1898002624512, 33.4224510192871, 36.07651901245121, 36.451141357421896, 20.2840805053711, 19.5549602508545, 20.0123195648193, 20.0872707366943, 20.295110702514602, 17.544969558715803], \"name\": \"Expenditure on Tertiary Education (%)\", \"marker\": {\"color\": \"rgb(0,109,44)\"}}], {\"title\": \"Government Expenditure on Education - India\", \"barmode\": \"stack\"}, {\"showLink\": true, \"linkText\": \"Export to plot.ly\"})});</script>"
      ]
     },
     "metadata": {},
     "output_type": "display_data"
    }
   ],
   "source": [
    "trace1 = go.Bar(\n",
    "    x = education_expenditure[(education_expenditure['IndicatorCode'] == 'SE.XPD.PRIM.ZS') & (education_expenditure['CountryName'] == 'India')][\"Year\"],\n",
    "    y = education_expenditure[(education_expenditure['IndicatorCode'] == 'SE.XPD.PRIM.ZS') & (education_expenditure['CountryName'] == 'India')][\"Value\"],\n",
    "    name = 'Expenditure on Primary Education (%)',\n",
    "    marker = dict(\n",
    "        color='rgb(102,194,164)'\n",
    "    )\n",
    ")\n",
    "\n",
    "trace2 = go.Bar(\n",
    "    x = education_expenditure[(education_expenditure['IndicatorCode'] == 'SE.XPD.SECO.ZS') & (education_expenditure['CountryName'] == 'India')][\"Year\"],\n",
    "    y = education_expenditure[(education_expenditure['IndicatorCode'] == 'SE.XPD.SECO.ZS') & (education_expenditure['CountryName'] == 'India')][\"Value\"],\n",
    "    name = 'Expenditure on Secondary Education (%)',\n",
    "    marker = dict(\n",
    "        color='rgb(44,162,95)'\n",
    "    )\n",
    ")\n",
    "\n",
    "trace3 = go.Bar(\n",
    "    x = education_expenditure[(education_expenditure['IndicatorCode'] == 'SE.XPD.TERT.ZS') & (education_expenditure['CountryName'] == 'India')][\"Year\"],\n",
    "    y = education_expenditure[(education_expenditure['IndicatorCode'] == 'SE.XPD.TERT.ZS') & (education_expenditure['CountryName'] == 'India')][\"Value\"],\n",
    "    name = 'Expenditure on Tertiary Education (%)',\n",
    "    marker = dict(\n",
    "        color='rgb(0,109,44)'\n",
    "    )\n",
    ")\n",
    "\n",
    "data = [trace1, trace2, trace3]\n",
    "layout = go.Layout(\n",
    "    title = 'Government Expenditure on Education - India',\n",
    "    barmode='stack'\n",
    ")\n",
    "\n",
    "fig = go.Figure(data=data, layout=layout)\n",
    "py.iplot(fig, filename='stacked-bar')"
   ]
  },
  {
   "cell_type": "code",
   "execution_count": 51,
   "metadata": {},
   "outputs": [
    {
     "data": {
      "application/vnd.plotly.v1+json": {
       "data": [
        {
         "marker": {
          "color": "rgb(102,194,164)"
         },
         "name": "Expenditure on Primary Education (%)",
         "type": "bar",
         "x": [
          2012,
          2011,
          2010,
          2009,
          2008,
          2007
         ],
         "y": [
          41.7611083984375,
          42.752311706543004,
          44.4456787109375,
          47.945770263671896,
          49.0431709289551,
          48.3824691772461
         ]
        },
        {
         "marker": {
          "color": "rgb(44,162,95)"
         },
         "name": "Expenditure on Secondary Education (%)",
         "type": "bar",
         "x": [
          2012,
          2011,
          2010,
          2009,
          2008,
          2007
         ],
         "y": [
          26.0377902984619,
          24.107540130615202,
          24.3205299377441,
          25.4962501525879,
          25.2595291137695,
          25.107080459594698
         ]
        },
        {
         "marker": {
          "color": "rgb(0,109,44)"
         },
         "name": "Expenditure on Tertiary Education (%)",
         "type": "bar",
         "x": [
          2012,
          2011,
          2010,
          2009,
          2008,
          2007
         ],
         "y": [
          17.1778297424316,
          15.578740119934098,
          16.053560256958,
          12.1656398773193,
          10.9782199859619,
          12.756930351257301
         ]
        }
       ],
       "layout": {
        "barmode": "stack",
        "title": "Government Expenditure on Education - Indonesia"
       }
      },
      "text/html": [
       "<div id=\"674e7785-c57f-4354-a2d0-c08158ef66b1\" style=\"height: 525px; width: 100%;\" class=\"plotly-graph-div\"></div><script type=\"text/javascript\">require([\"plotly\"], function(Plotly) { window.PLOTLYENV=window.PLOTLYENV || {};window.PLOTLYENV.BASE_URL=\"https://plot.ly\";Plotly.newPlot(\"674e7785-c57f-4354-a2d0-c08158ef66b1\", [{\"type\": \"bar\", \"x\": [2012, 2011, 2010, 2009, 2008, 2007], \"y\": [41.7611083984375, 42.752311706543004, 44.4456787109375, 47.945770263671896, 49.0431709289551, 48.3824691772461], \"name\": \"Expenditure on Primary Education (%)\", \"marker\": {\"color\": \"rgb(102,194,164)\"}}, {\"type\": \"bar\", \"x\": [2012, 2011, 2010, 2009, 2008, 2007], \"y\": [26.0377902984619, 24.107540130615202, 24.3205299377441, 25.4962501525879, 25.2595291137695, 25.107080459594698], \"name\": \"Expenditure on Secondary Education (%)\", \"marker\": {\"color\": \"rgb(44,162,95)\"}}, {\"type\": \"bar\", \"x\": [2012, 2011, 2010, 2009, 2008, 2007], \"y\": [17.1778297424316, 15.578740119934098, 16.053560256958, 12.1656398773193, 10.9782199859619, 12.756930351257301], \"name\": \"Expenditure on Tertiary Education (%)\", \"marker\": {\"color\": \"rgb(0,109,44)\"}}], {\"title\": \"Government Expenditure on Education - Indonesia\", \"barmode\": \"stack\"}, {\"showLink\": true, \"linkText\": \"Export to plot.ly\"})});</script>"
      ],
      "text/vnd.plotly.v1+html": [
       "<div id=\"674e7785-c57f-4354-a2d0-c08158ef66b1\" style=\"height: 525px; width: 100%;\" class=\"plotly-graph-div\"></div><script type=\"text/javascript\">require([\"plotly\"], function(Plotly) { window.PLOTLYENV=window.PLOTLYENV || {};window.PLOTLYENV.BASE_URL=\"https://plot.ly\";Plotly.newPlot(\"674e7785-c57f-4354-a2d0-c08158ef66b1\", [{\"type\": \"bar\", \"x\": [2012, 2011, 2010, 2009, 2008, 2007], \"y\": [41.7611083984375, 42.752311706543004, 44.4456787109375, 47.945770263671896, 49.0431709289551, 48.3824691772461], \"name\": \"Expenditure on Primary Education (%)\", \"marker\": {\"color\": \"rgb(102,194,164)\"}}, {\"type\": \"bar\", \"x\": [2012, 2011, 2010, 2009, 2008, 2007], \"y\": [26.0377902984619, 24.107540130615202, 24.3205299377441, 25.4962501525879, 25.2595291137695, 25.107080459594698], \"name\": \"Expenditure on Secondary Education (%)\", \"marker\": {\"color\": \"rgb(44,162,95)\"}}, {\"type\": \"bar\", \"x\": [2012, 2011, 2010, 2009, 2008, 2007], \"y\": [17.1778297424316, 15.578740119934098, 16.053560256958, 12.1656398773193, 10.9782199859619, 12.756930351257301], \"name\": \"Expenditure on Tertiary Education (%)\", \"marker\": {\"color\": \"rgb(0,109,44)\"}}], {\"title\": \"Government Expenditure on Education - Indonesia\", \"barmode\": \"stack\"}, {\"showLink\": true, \"linkText\": \"Export to plot.ly\"})});</script>"
      ]
     },
     "metadata": {},
     "output_type": "display_data"
    }
   ],
   "source": [
    "trace1 = go.Bar(\n",
    "    x = education_expenditure[(education_expenditure['IndicatorCode'] == 'SE.XPD.PRIM.ZS') & (education_expenditure['CountryName'] == 'Indonesia')][\"Year\"],\n",
    "    y = education_expenditure[(education_expenditure['IndicatorCode'] == 'SE.XPD.PRIM.ZS') & (education_expenditure['CountryName'] == 'Indonesia')][\"Value\"],\n",
    "    name = 'Expenditure on Primary Education (%)',\n",
    "    marker = dict(\n",
    "        color='rgb(102,194,164)'\n",
    "    )\n",
    ")\n",
    "\n",
    "trace2 = go.Bar(\n",
    "    x = education_expenditure[(education_expenditure['IndicatorCode'] == 'SE.XPD.SECO.ZS') & (education_expenditure['CountryName'] == 'Indonesia')][\"Year\"],\n",
    "    y = education_expenditure[(education_expenditure['IndicatorCode'] == 'SE.XPD.SECO.ZS') & (education_expenditure['CountryName'] == 'Indonesia')][\"Value\"],\n",
    "    name = 'Expenditure on Secondary Education (%)',\n",
    "    marker = dict(\n",
    "        color='rgb(44,162,95)'\n",
    "    )\n",
    ")\n",
    "\n",
    "trace3 = go.Bar(\n",
    "    x = education_expenditure[(education_expenditure['IndicatorCode'] == 'SE.XPD.TERT.ZS') & (education_expenditure['CountryName'] == 'Indonesia')][\"Year\"],\n",
    "    y = education_expenditure[(education_expenditure['IndicatorCode'] == 'SE.XPD.TERT.ZS') & (education_expenditure['CountryName'] == 'Indonesia')][\"Value\"],\n",
    "    name = 'Expenditure on Tertiary Education (%)',\n",
    "    marker = dict(\n",
    "        color='rgb(0,109,44)'\n",
    "    )\n",
    ")\n",
    "\n",
    "data = [trace1, trace2, trace3]\n",
    "layout = go.Layout(\n",
    "    title = 'Government Expenditure on Education - Indonesia',\n",
    "    barmode='stack'\n",
    ")\n",
    "\n",
    "fig = go.Figure(data=data, layout=layout)\n",
    "py.iplot(fig, filename='stacked-bar')"
   ]
  },
  {
   "cell_type": "code",
   "execution_count": 52,
   "metadata": {},
   "outputs": [
    {
     "data": {
      "application/vnd.plotly.v1+json": {
       "data": [
        {
         "marker": {
          "color": "rgb(102,194,164)"
         },
         "name": "Expenditure on Primary Education (%)",
         "type": "bar",
         "x": [
          2012,
          2011,
          2010,
          2000,
          1999
         ],
         "y": [
          25.4172897338867,
          26.7292404174805,
          30.122619628906303,
          38.2881011962891,
          38.2380218505859
         ]
        },
        {
         "marker": {
          "color": "rgb(44,162,95)"
         },
         "name": "Expenditure on Secondary Education (%)",
         "type": "bar",
         "x": [
          2012,
          2011,
          2010,
          2000,
          1999
         ],
         "y": [
          41.2384490966797,
          39.760528564453104,
          35.013660430908196,
          34.555999755859396,
          39.640449523925795
         ]
        },
        {
         "marker": {
          "color": "rgb(0,109,44)"
         },
         "name": "Expenditure on Tertiary Education (%)",
         "type": "bar",
         "x": [
          2012,
          2011,
          2010,
          2000,
          1999
         ],
         "y": [
          26.6607303619385,
          26.584619522094698,
          26.5758495330811,
          5.16005992889404,
          8.00463962554932
         ]
        }
       ],
       "layout": {
        "barmode": "stack",
        "title": "Government Expenditure on Education - Ecuador"
       }
      },
      "text/html": [
       "<div id=\"13eee5e5-32b5-407f-92f5-336008ed9548\" style=\"height: 525px; width: 100%;\" class=\"plotly-graph-div\"></div><script type=\"text/javascript\">require([\"plotly\"], function(Plotly) { window.PLOTLYENV=window.PLOTLYENV || {};window.PLOTLYENV.BASE_URL=\"https://plot.ly\";Plotly.newPlot(\"13eee5e5-32b5-407f-92f5-336008ed9548\", [{\"type\": \"bar\", \"x\": [2012, 2011, 2010, 2000, 1999], \"y\": [25.4172897338867, 26.7292404174805, 30.122619628906303, 38.2881011962891, 38.2380218505859], \"name\": \"Expenditure on Primary Education (%)\", \"marker\": {\"color\": \"rgb(102,194,164)\"}}, {\"type\": \"bar\", \"x\": [2012, 2011, 2010, 2000, 1999], \"y\": [41.2384490966797, 39.760528564453104, 35.013660430908196, 34.555999755859396, 39.640449523925795], \"name\": \"Expenditure on Secondary Education (%)\", \"marker\": {\"color\": \"rgb(44,162,95)\"}}, {\"type\": \"bar\", \"x\": [2012, 2011, 2010, 2000, 1999], \"y\": [26.6607303619385, 26.584619522094698, 26.5758495330811, 5.16005992889404, 8.00463962554932], \"name\": \"Expenditure on Tertiary Education (%)\", \"marker\": {\"color\": \"rgb(0,109,44)\"}}], {\"title\": \"Government Expenditure on Education - Ecuador\", \"barmode\": \"stack\"}, {\"showLink\": true, \"linkText\": \"Export to plot.ly\"})});</script>"
      ],
      "text/vnd.plotly.v1+html": [
       "<div id=\"13eee5e5-32b5-407f-92f5-336008ed9548\" style=\"height: 525px; width: 100%;\" class=\"plotly-graph-div\"></div><script type=\"text/javascript\">require([\"plotly\"], function(Plotly) { window.PLOTLYENV=window.PLOTLYENV || {};window.PLOTLYENV.BASE_URL=\"https://plot.ly\";Plotly.newPlot(\"13eee5e5-32b5-407f-92f5-336008ed9548\", [{\"type\": \"bar\", \"x\": [2012, 2011, 2010, 2000, 1999], \"y\": [25.4172897338867, 26.7292404174805, 30.122619628906303, 38.2881011962891, 38.2380218505859], \"name\": \"Expenditure on Primary Education (%)\", \"marker\": {\"color\": \"rgb(102,194,164)\"}}, {\"type\": \"bar\", \"x\": [2012, 2011, 2010, 2000, 1999], \"y\": [41.2384490966797, 39.760528564453104, 35.013660430908196, 34.555999755859396, 39.640449523925795], \"name\": \"Expenditure on Secondary Education (%)\", \"marker\": {\"color\": \"rgb(44,162,95)\"}}, {\"type\": \"bar\", \"x\": [2012, 2011, 2010, 2000, 1999], \"y\": [26.6607303619385, 26.584619522094698, 26.5758495330811, 5.16005992889404, 8.00463962554932], \"name\": \"Expenditure on Tertiary Education (%)\", \"marker\": {\"color\": \"rgb(0,109,44)\"}}], {\"title\": \"Government Expenditure on Education - Ecuador\", \"barmode\": \"stack\"}, {\"showLink\": true, \"linkText\": \"Export to plot.ly\"})});</script>"
      ]
     },
     "metadata": {},
     "output_type": "display_data"
    }
   ],
   "source": [
    "trace1 = go.Bar(\n",
    "    x = education_expenditure[(education_expenditure['IndicatorCode'] == 'SE.XPD.PRIM.ZS') & (education_expenditure['CountryName'] == 'Ecuador')][\"Year\"],\n",
    "    y = education_expenditure[(education_expenditure['IndicatorCode'] == 'SE.XPD.PRIM.ZS') & (education_expenditure['CountryName'] == 'Ecuador')][\"Value\"],\n",
    "    name = 'Expenditure on Primary Education (%)',\n",
    "    marker = dict(\n",
    "        color='rgb(102,194,164)'\n",
    "    )\n",
    ")\n",
    "\n",
    "trace2 = go.Bar(\n",
    "    x = education_expenditure[(education_expenditure['IndicatorCode'] == 'SE.XPD.SECO.ZS') & (education_expenditure['CountryName'] == 'Ecuador')][\"Year\"],\n",
    "    y = education_expenditure[(education_expenditure['IndicatorCode'] == 'SE.XPD.SECO.ZS') & (education_expenditure['CountryName'] == 'Ecuador')][\"Value\"],\n",
    "    name = 'Expenditure on Secondary Education (%)',\n",
    "    marker = dict(\n",
    "        color='rgb(44,162,95)'\n",
    "    )\n",
    ")\n",
    "\n",
    "trace3 = go.Bar(\n",
    "    x = education_expenditure[(education_expenditure['IndicatorCode'] == 'SE.XPD.TERT.ZS') & (education_expenditure['CountryName'] == 'Ecuador')][\"Year\"],\n",
    "    y = education_expenditure[(education_expenditure['IndicatorCode'] == 'SE.XPD.TERT.ZS') & (education_expenditure['CountryName'] == 'Ecuador')][\"Value\"],\n",
    "    name = 'Expenditure on Tertiary Education (%)',\n",
    "    marker = dict(\n",
    "        color='rgb(0,109,44)'\n",
    "    )\n",
    ")\n",
    "\n",
    "data = [trace1, trace2, trace3]\n",
    "layout = go.Layout(\n",
    "    title = 'Government Expenditure on Education - Ecuador',\n",
    "    barmode='stack'\n",
    ")\n",
    "\n",
    "fig = go.Figure(data=data, layout=layout)\n",
    "py.iplot(fig, filename='stacked-bar')"
   ]
  },
  {
   "cell_type": "code",
   "execution_count": 53,
   "metadata": {},
   "outputs": [
    {
     "data": {
      "application/vnd.plotly.v1+json": {
       "data": [
        {
         "marker": {
          "color": "rgb(102,194,164)"
         },
         "name": "Expenditure on Primary Education (%)",
         "type": "bar",
         "x": [
          2010
         ],
         "y": [
          65.0860595703125
         ]
        },
        {
         "marker": {
          "color": "rgb(44,162,95)"
         },
         "name": "Expenditure on Secondary Education (%)",
         "type": "bar",
         "x": [
          2010
         ],
         "y": [
          10.881629943847699
         ]
        },
        {
         "marker": {
          "color": "rgb(0,109,44)"
         },
         "name": "Expenditure on Tertiary Education (%)",
         "type": "bar",
         "x": [
          2010
         ],
         "y": [
          3.54348993301392
         ]
        }
       ],
       "layout": {
        "barmode": "stack",
        "title": "Government Expenditure on Education - Ethiopia"
       }
      },
      "text/html": [
       "<div id=\"3b3b60b8-d9f6-4ce5-b44f-b1b6506983b2\" style=\"height: 525px; width: 100%;\" class=\"plotly-graph-div\"></div><script type=\"text/javascript\">require([\"plotly\"], function(Plotly) { window.PLOTLYENV=window.PLOTLYENV || {};window.PLOTLYENV.BASE_URL=\"https://plot.ly\";Plotly.newPlot(\"3b3b60b8-d9f6-4ce5-b44f-b1b6506983b2\", [{\"type\": \"bar\", \"x\": [2010], \"y\": [65.0860595703125], \"name\": \"Expenditure on Primary Education (%)\", \"marker\": {\"color\": \"rgb(102,194,164)\"}}, {\"type\": \"bar\", \"x\": [2010], \"y\": [10.881629943847699], \"name\": \"Expenditure on Secondary Education (%)\", \"marker\": {\"color\": \"rgb(44,162,95)\"}}, {\"type\": \"bar\", \"x\": [2010], \"y\": [3.54348993301392], \"name\": \"Expenditure on Tertiary Education (%)\", \"marker\": {\"color\": \"rgb(0,109,44)\"}}], {\"title\": \"Government Expenditure on Education - Ethiopia\", \"barmode\": \"stack\"}, {\"showLink\": true, \"linkText\": \"Export to plot.ly\"})});</script>"
      ],
      "text/vnd.plotly.v1+html": [
       "<div id=\"3b3b60b8-d9f6-4ce5-b44f-b1b6506983b2\" style=\"height: 525px; width: 100%;\" class=\"plotly-graph-div\"></div><script type=\"text/javascript\">require([\"plotly\"], function(Plotly) { window.PLOTLYENV=window.PLOTLYENV || {};window.PLOTLYENV.BASE_URL=\"https://plot.ly\";Plotly.newPlot(\"3b3b60b8-d9f6-4ce5-b44f-b1b6506983b2\", [{\"type\": \"bar\", \"x\": [2010], \"y\": [65.0860595703125], \"name\": \"Expenditure on Primary Education (%)\", \"marker\": {\"color\": \"rgb(102,194,164)\"}}, {\"type\": \"bar\", \"x\": [2010], \"y\": [10.881629943847699], \"name\": \"Expenditure on Secondary Education (%)\", \"marker\": {\"color\": \"rgb(44,162,95)\"}}, {\"type\": \"bar\", \"x\": [2010], \"y\": [3.54348993301392], \"name\": \"Expenditure on Tertiary Education (%)\", \"marker\": {\"color\": \"rgb(0,109,44)\"}}], {\"title\": \"Government Expenditure on Education - Ethiopia\", \"barmode\": \"stack\"}, {\"showLink\": true, \"linkText\": \"Export to plot.ly\"})});</script>"
      ]
     },
     "metadata": {},
     "output_type": "display_data"
    }
   ],
   "source": [
    "trace1 = go.Bar(\n",
    "    x = education_expenditure[(education_expenditure['IndicatorCode'] == 'SE.XPD.PRIM.ZS') & (education_expenditure['CountryName'] == 'Ethiopia')][\"Year\"],\n",
    "    y = education_expenditure[(education_expenditure['IndicatorCode'] == 'SE.XPD.PRIM.ZS') & (education_expenditure['CountryName'] == 'Ethiopia')][\"Value\"],\n",
    "    name = 'Expenditure on Primary Education (%)',\n",
    "    marker = dict(\n",
    "        color='rgb(102,194,164)'\n",
    "    )\n",
    ")\n",
    "\n",
    "trace2 = go.Bar(\n",
    "    x = education_expenditure[(education_expenditure['IndicatorCode'] == 'SE.XPD.SECO.ZS') & (education_expenditure['CountryName'] == 'Ethiopia')][\"Year\"],\n",
    "    y = education_expenditure[(education_expenditure['IndicatorCode'] == 'SE.XPD.SECO.ZS') & (education_expenditure['CountryName'] == 'Ethiopia')][\"Value\"],\n",
    "    name = 'Expenditure on Secondary Education (%)',\n",
    "    marker = dict(\n",
    "        color='rgb(44,162,95)'\n",
    "    )\n",
    ")\n",
    "\n",
    "trace3 = go.Bar(\n",
    "    x = education_expenditure[(education_expenditure['IndicatorCode'] == 'SE.XPD.TERT.ZS') & (education_expenditure['CountryName'] == 'Ethiopia')][\"Year\"],\n",
    "    y = education_expenditure[(education_expenditure['IndicatorCode'] == 'SE.XPD.TERT.ZS') & (education_expenditure['CountryName'] == 'Ethiopia')][\"Value\"],\n",
    "    name = 'Expenditure on Tertiary Education (%)',\n",
    "    marker = dict(\n",
    "        color='rgb(0,109,44)'\n",
    "    )\n",
    ")\n",
    "\n",
    "data = [trace1, trace2, trace3]\n",
    "layout = go.Layout(\n",
    "    title = 'Government Expenditure on Education - Ethiopia',\n",
    "    barmode='stack'\n",
    ")\n",
    "\n",
    "fig = go.Figure(data=data, layout=layout)\n",
    "py.iplot(fig, filename='stacked-bar')"
   ]
  },
  {
   "cell_type": "code",
   "execution_count": 54,
   "metadata": {},
   "outputs": [
    {
     "data": {
      "application/vnd.plotly.v1+json": {
       "data": [
        {
         "marker": {
          "color": "rgb(102,194,164)"
         },
         "name": "Expenditure on Primary Education (%)",
         "type": "bar",
         "x": [
          2013,
          2012,
          2011,
          2010,
          2008,
          2007,
          2000
         ],
         "y": [
          30.1102409362793,
          36.2489814758301,
          31.846399307251,
          36.737220764160206,
          45.5953788757324,
          46.2669906616211,
          48.177848815918
         ]
        },
        {
         "marker": {
          "color": "rgb(44,162,95)"
         },
         "name": "Expenditure on Secondary Education (%)",
         "type": "bar",
         "x": [
          2013,
          2012,
          2011,
          2010,
          2008,
          2007,
          2000
         ],
         "y": [
          41.7137107849121,
          36.4854507446289,
          37.6495208740234,
          30.6811695098877,
          24.9872703552246,
          19.759469985961896,
          16.6829204559326
         ]
        },
        {
         "marker": {
          "color": "rgb(0,109,44)"
         },
         "name": "Expenditure on Tertiary Education (%)",
         "type": "bar",
         "x": [
          2013,
          2012,
          2011,
          2010,
          2008,
          2007,
          2000
         ],
         "y": [
          14.0221004486084,
          13.268980026245101,
          18.4349098205566,
          22.749689102172898,
          25.409730911254897,
          25.4119606018066,
          34.651641845703104
         ]
        }
       ],
       "layout": {
        "barmode": "stack",
        "title": "Government Expenditure on Education - Rwanda"
       }
      },
      "text/html": [
       "<div id=\"0c16c1a3-2d65-4729-af31-c22b61744b4c\" style=\"height: 525px; width: 100%;\" class=\"plotly-graph-div\"></div><script type=\"text/javascript\">require([\"plotly\"], function(Plotly) { window.PLOTLYENV=window.PLOTLYENV || {};window.PLOTLYENV.BASE_URL=\"https://plot.ly\";Plotly.newPlot(\"0c16c1a3-2d65-4729-af31-c22b61744b4c\", [{\"type\": \"bar\", \"x\": [2013, 2012, 2011, 2010, 2008, 2007, 2000], \"y\": [30.1102409362793, 36.2489814758301, 31.846399307251, 36.737220764160206, 45.5953788757324, 46.2669906616211, 48.177848815918], \"name\": \"Expenditure on Primary Education (%)\", \"marker\": {\"color\": \"rgb(102,194,164)\"}}, {\"type\": \"bar\", \"x\": [2013, 2012, 2011, 2010, 2008, 2007, 2000], \"y\": [41.7137107849121, 36.4854507446289, 37.6495208740234, 30.6811695098877, 24.9872703552246, 19.759469985961896, 16.6829204559326], \"name\": \"Expenditure on Secondary Education (%)\", \"marker\": {\"color\": \"rgb(44,162,95)\"}}, {\"type\": \"bar\", \"x\": [2013, 2012, 2011, 2010, 2008, 2007, 2000], \"y\": [14.0221004486084, 13.268980026245101, 18.4349098205566, 22.749689102172898, 25.409730911254897, 25.4119606018066, 34.651641845703104], \"name\": \"Expenditure on Tertiary Education (%)\", \"marker\": {\"color\": \"rgb(0,109,44)\"}}], {\"title\": \"Government Expenditure on Education - Rwanda\", \"barmode\": \"stack\"}, {\"showLink\": true, \"linkText\": \"Export to plot.ly\"})});</script>"
      ],
      "text/vnd.plotly.v1+html": [
       "<div id=\"0c16c1a3-2d65-4729-af31-c22b61744b4c\" style=\"height: 525px; width: 100%;\" class=\"plotly-graph-div\"></div><script type=\"text/javascript\">require([\"plotly\"], function(Plotly) { window.PLOTLYENV=window.PLOTLYENV || {};window.PLOTLYENV.BASE_URL=\"https://plot.ly\";Plotly.newPlot(\"0c16c1a3-2d65-4729-af31-c22b61744b4c\", [{\"type\": \"bar\", \"x\": [2013, 2012, 2011, 2010, 2008, 2007, 2000], \"y\": [30.1102409362793, 36.2489814758301, 31.846399307251, 36.737220764160206, 45.5953788757324, 46.2669906616211, 48.177848815918], \"name\": \"Expenditure on Primary Education (%)\", \"marker\": {\"color\": \"rgb(102,194,164)\"}}, {\"type\": \"bar\", \"x\": [2013, 2012, 2011, 2010, 2008, 2007, 2000], \"y\": [41.7137107849121, 36.4854507446289, 37.6495208740234, 30.6811695098877, 24.9872703552246, 19.759469985961896, 16.6829204559326], \"name\": \"Expenditure on Secondary Education (%)\", \"marker\": {\"color\": \"rgb(44,162,95)\"}}, {\"type\": \"bar\", \"x\": [2013, 2012, 2011, 2010, 2008, 2007, 2000], \"y\": [14.0221004486084, 13.268980026245101, 18.4349098205566, 22.749689102172898, 25.409730911254897, 25.4119606018066, 34.651641845703104], \"name\": \"Expenditure on Tertiary Education (%)\", \"marker\": {\"color\": \"rgb(0,109,44)\"}}], {\"title\": \"Government Expenditure on Education - Rwanda\", \"barmode\": \"stack\"}, {\"showLink\": true, \"linkText\": \"Export to plot.ly\"})});</script>"
      ]
     },
     "metadata": {},
     "output_type": "display_data"
    }
   ],
   "source": [
    "trace1 = go.Bar(\n",
    "    x = education_expenditure[(education_expenditure['IndicatorCode'] == 'SE.XPD.PRIM.ZS') & (education_expenditure['CountryName'] == 'Rwanda')][\"Year\"],\n",
    "    y = education_expenditure[(education_expenditure['IndicatorCode'] == 'SE.XPD.PRIM.ZS') & (education_expenditure['CountryName'] == 'Rwanda')][\"Value\"],\n",
    "    name = 'Expenditure on Primary Education (%)',\n",
    "    marker = dict(\n",
    "        color='rgb(102,194,164)'\n",
    "    )\n",
    ")\n",
    "\n",
    "trace2 = go.Bar(\n",
    "    x = education_expenditure[(education_expenditure['IndicatorCode'] == 'SE.XPD.SECO.ZS') & (education_expenditure['CountryName'] == 'Rwanda')][\"Year\"],\n",
    "    y = education_expenditure[(education_expenditure['IndicatorCode'] == 'SE.XPD.SECO.ZS') & (education_expenditure['CountryName'] == 'Rwanda')][\"Value\"],\n",
    "    name = 'Expenditure on Secondary Education (%)',\n",
    "    marker = dict(\n",
    "        color='rgb(44,162,95)'\n",
    "    )\n",
    ")\n",
    "\n",
    "trace3 = go.Bar(\n",
    "    x = education_expenditure[(education_expenditure['IndicatorCode'] == 'SE.XPD.TERT.ZS') & (education_expenditure['CountryName'] == 'Rwanda')][\"Year\"],\n",
    "    y = education_expenditure[(education_expenditure['IndicatorCode'] == 'SE.XPD.TERT.ZS') & (education_expenditure['CountryName'] == 'Rwanda')][\"Value\"],\n",
    "    name = 'Expenditure on Tertiary Education (%)',\n",
    "    marker = dict(\n",
    "        color='rgb(0,109,44)'\n",
    "    )\n",
    ")\n",
    "\n",
    "data = [trace1, trace2, trace3]\n",
    "layout = go.Layout(\n",
    "    title = 'Government Expenditure on Education - Rwanda',\n",
    "    barmode='stack'\n",
    ")\n",
    "\n",
    "fig = go.Figure(data=data, layout=layout)\n",
    "py.iplot(fig, filename='stacked-bar')"
   ]
  },
  {
   "cell_type": "markdown",
   "metadata": {},
   "source": [
    "##### 3.2.3 Quality of Educational Inputs"
   ]
  },
  {
   "cell_type": "markdown",
   "metadata": {},
   "source": [
    "Trained teachers in primary education are the percentage of primary school teachers who have received the minimum organised teacher training required for service in their country.\n",
    "\n",
    "Unfortunately, we do not have enough data to make a meaningful conclusion regarding this indicator. We only have statistics for Ecuador, Ethiopia and Rwanda."
   ]
  },
  {
   "cell_type": "code",
   "execution_count": 55,
   "metadata": {
    "collapsed": true
   },
   "outputs": [],
   "source": [
    "trained_teachers = pd.read_sql(\"\"\" SELECT IndicatorCode, CountryName, Year, Value\n",
    "                FROM Indicators\n",
    "                WHERE IndicatorCode = 'SE.PRM.TCAQ.ZS'\n",
    "                AND CountryName IN ('China', 'India', 'Indonesia', 'Ecuador', 'Rwanda',\n",
    "                                    'Ethiopia')\"\"\", con=conn)\n",
    "trained_teachers = trained_teachers.sort_values(['CountryName', 'Year'], ascending=[1,0])"
   ]
  },
  {
   "cell_type": "code",
   "execution_count": 56,
   "metadata": {},
   "outputs": [
    {
     "data": {
      "text/plain": [
       "<matplotlib.legend.Legend at 0x11e323550>"
      ]
     },
     "execution_count": 56,
     "metadata": {},
     "output_type": "execute_result"
    },
    {
     "data": {
      "image/png": "[encoded data removed]",
      "text/plain": [
       "<matplotlib.figure.Figure at 0x1219d27b8>"
      ]
     },
     "metadata": {},
     "output_type": "display_data"
    }
   ],
   "source": [
    "sns.set_style('whitegrid')\n",
    "sns.set_palette(\"Paired\")\n",
    "\n",
    "fig = plt.figure()\n",
    "plt.title('Trained Teachers in Primary Education')\n",
    "plt.xlabel('Year')\n",
    "plt.ylabel('% of Total Teachers')\n",
    "\n",
    "plt.plot(trained_teachers[trained_teachers['CountryName'] == 'China'][\"Year\"], trained_teachers[trained_teachers['CountryName'] == 'China'][\"Value\"], label = 'China')\n",
    "plt.plot(trained_teachers[trained_teachers['CountryName'] == 'India'][\"Year\"], trained_teachers[trained_teachers['CountryName'] == 'India'][\"Value\"], label = 'India')\n",
    "plt.plot(trained_teachers[trained_teachers['CountryName'] == 'Indonesia'][\"Year\"], trained_teachers[trained_teachers['CountryName'] == 'Indonesia'][\"Value\"], label = 'Indonesia')\n",
    "plt.plot(trained_teachers[trained_teachers['CountryName'] == 'Ecuador'][\"Year\"], trained_teachers[trained_teachers['CountryName'] == 'Ecuador'][\"Value\"], label = 'Ecuador')\n",
    "plt.plot(trained_teachers[trained_teachers['CountryName'] == 'Ethiopia'][\"Year\"], trained_teachers[trained_teachers['CountryName'] == 'Ethiopia'][\"Value\"], label = 'Ethiopia')\n",
    "plt.plot(trained_teachers[trained_teachers['CountryName'] == 'Rwanda'][\"Year\"], trained_teachers[trained_teachers['CountryName'] == 'Rwanda'][\"Value\"], label = 'Rwanda')\n",
    "plt.legend(bbox_to_anchor=(1.01, 1), loc=2, borderaxespad=1.)"
   ]
  },
  {
   "cell_type": "markdown",
   "metadata": {},
   "source": [
    "##### 3.2.4 Literacy Rates"
   ]
  },
  {
   "cell_type": "markdown",
   "metadata": {},
   "source": [
    "The adult literacy rate is the percentage of people aged 15 and above who can both read and write and the youth literacy rate corresponds to the percentage of people aged 15-24. We can see that over the past three decades, both adult and youth literacy rates have increased in all six countries, with a greater percentage of youth contributing to the countries' literate population."
   ]
  },
  {
   "cell_type": "code",
   "execution_count": 57,
   "metadata": {
    "collapsed": true
   },
   "outputs": [],
   "source": [
    "adult_literacy = pd.read_sql(\"\"\" SELECT IndicatorCode, CountryName, Year, Value\n",
    "                FROM Indicators\n",
    "                WHERE IndicatorCode = 'SE.ADT.LITR.ZS'\n",
    "                AND CountryName IN ('China', 'India', 'Indonesia', 'Ecuador', 'Rwanda',\n",
    "                                    'Ethiopia')\"\"\", con=conn)\n",
    "adult_literacy = adult_literacy.sort_values(['CountryName', 'Year'], ascending=[1,0])\n",
    "\n",
    "youth_literacy = pd.read_sql(\"\"\" SELECT IndicatorCode, CountryName, Year, Value\n",
    "                FROM Indicators\n",
    "                WHERE IndicatorCode = 'SE.ADT.1524.LT.ZS'\n",
    "                AND CountryName IN ('China', 'India', 'Indonesia', 'Ecuador', 'Rwanda',\n",
    "                                    'Ethiopia')\"\"\", con=conn)\n",
    "youth_literacy = youth_literacy.sort_values(['CountryName', 'Year'], ascending=[1,0])\n",
    "\n",
    "frames = [adult_literacy, youth_literacy]\n",
    "literacy_rates = pd.concat(frames)"
   ]
  },
  {
   "cell_type": "code",
   "execution_count": 58,
   "metadata": {
    "scrolled": true
   },
   "outputs": [
    {
     "data": {
      "image/png": "[encoded data removed]",
      "text/plain": [
       "<matplotlib.figure.Figure at 0x1299eca20>"
      ]
     },
     "metadata": {},
     "output_type": "display_data"
    }
   ],
   "source": [
    "sns.set_palette(\"Paired\")\n",
    "\n",
    "plt.subplot(1, 2, 1)\n",
    "plt.plot(adult_literacy[adult_literacy['CountryName'] == 'China'][\"Year\"], adult_literacy[adult_literacy['CountryName'] == 'China'][\"Value\"], label = 'China')\n",
    "plt.plot(adult_literacy[adult_literacy['CountryName'] == 'India'][\"Year\"], adult_literacy[adult_literacy['CountryName'] == 'India'][\"Value\"], label = 'India')\n",
    "plt.plot(adult_literacy[adult_literacy['CountryName'] == 'Indonesia'][\"Year\"], adult_literacy[adult_literacy['CountryName'] == 'Indonesia'][\"Value\"], label = 'Indonesia')\n",
    "plt.plot(adult_literacy[adult_literacy['CountryName'] == 'Ecuador'][\"Year\"], adult_literacy[adult_literacy['CountryName'] == 'Ecuador'][\"Value\"], label = 'Ecuador')\n",
    "plt.plot(adult_literacy[adult_literacy['CountryName'] == 'Ethiopia'][\"Year\"], adult_literacy[adult_literacy['CountryName'] == 'Ethiopia'][\"Value\"], label = 'Ethiopia')\n",
    "plt.plot(adult_literacy[adult_literacy['CountryName'] == 'Rwanda'][\"Year\"], adult_literacy[adult_literacy['CountryName'] == 'Rwanda'][\"Value\"], label = 'Rwanda')\n",
    "plt.title('Adult Literacy Rates (15+ Years)')\n",
    "plt.xlabel('Year')\n",
    "plt.ylabel('Literacy Rate of Individuals Aged 15+ (%)')\n",
    "plt.legend(bbox_to_anchor=(1.01, 1), loc=2, borderaxespad=1.)\n",
    "\n",
    "sns.set_palette(\"Paired\")\n",
    "\n",
    "plt.subplot(1, 2, 2)\n",
    "plt.plot(youth_literacy[youth_literacy['CountryName'] == 'China'][\"Year\"], youth_literacy[youth_literacy['CountryName'] == 'China'][\"Value\"], label = 'China')\n",
    "plt.plot(youth_literacy[youth_literacy['CountryName'] == 'India'][\"Year\"], youth_literacy[youth_literacy['CountryName'] == 'India'][\"Value\"], label = 'India')\n",
    "plt.plot(youth_literacy[youth_literacy['CountryName'] == 'Indonesia'][\"Year\"], youth_literacy[youth_literacy['CountryName'] == 'Indonesia'][\"Value\"], label = 'Indonesia')\n",
    "plt.plot(youth_literacy[youth_literacy['CountryName'] == 'Ecuador'][\"Year\"], youth_literacy[youth_literacy['CountryName'] == 'Ecuador'][\"Value\"], label = 'Ecuador')\n",
    "plt.plot(youth_literacy[youth_literacy['CountryName'] == 'Ethiopia'][\"Year\"], youth_literacy[youth_literacy['CountryName'] == 'Ethiopia'][\"Value\"], label = 'Ethiopia')\n",
    "plt.plot(youth_literacy[youth_literacy['CountryName'] == 'Rwanda'][\"Year\"], youth_literacy[youth_literacy['CountryName'] == 'Rwanda'][\"Value\"], label = 'Rwanda')\n",
    "plt.title('Youth Literacy Rates (15-24 Years)')\n",
    "plt.xlabel('Year')\n",
    "plt.ylabel('Literacy Rate of Individuals Aged 15-24 (%)')\n",
    "plt.legend(bbox_to_anchor=(1.01, 1), loc=2, borderaxespad=1.)\n",
    "\n",
    "plt.subplots_adjust(right = 1.5, wspace=1)"
   ]
  },
  {
   "cell_type": "markdown",
   "metadata": {},
   "source": [
    "#### 3.3 Correlation Between Economic Growth and Development & Education Quality and Outcomes"
   ]
  },
  {
   "cell_type": "markdown",
   "metadata": {},
   "source": [
    "Generally speaking, there is a correlation between the economic growth and development of a country, and the quality of its education system, and progress in educational outcomes, as we observe that there have been significant improvements in all three areas over the past few decades. However, it cannot be said that it is only economic advances that fuel educational progress. In fact, it is likely that improvements in education also contribute towards a country's economic growth and development.\n",
    "\n",
    "Improvements in gross domestic production over time have corresponded to higher incomes and standards of living, and enabled government expenditure on education facilities. This has resulted in the advancement of educational outcomes such as national literacy rates and empowered shifts towards higher-skilled jobs in the services industry."
   ]
  }
 ],
 "metadata": {
  "kernelspec": {
   "display_name": "Python 3",
   "language": "python",
   "name": "python3"
  },
  "language_info": {
   "codemirror_mode": {
    "name": "ipython",
    "version": 3
   },
   "file_extension": ".py",
   "mimetype": "text/x-python",
   "name": "python",
   "nbconvert_exporter": "python",
   "pygments_lexer": "ipython3",
   "version": "3.6.1"
  }
 },
 "nbformat": 4,
 "nbformat_minor": 2
}
